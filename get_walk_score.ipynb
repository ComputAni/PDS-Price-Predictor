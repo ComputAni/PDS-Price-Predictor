{
 "cells": [
  {
   "cell_type": "code",
   "execution_count": 24,
   "metadata": {
    "collapsed": true
   },
   "outputs": [],
   "source": [
    "import pandas as pd\n",
    "from geopy.geocoders import Nominatim\n",
    "from geopy.distance import geodesic\n",
    "import numpy\n",
    "import requests\n",
    "from WalkScore import *\n",
    "import copy"
   ]
  },
  {
   "cell_type": "code",
   "execution_count": 3,
   "metadata": {
    "collapsed": true
   },
   "outputs": [],
   "source": [
    "cab_data_p1 = pd.read_csv(\"cab_data_p1.csv\")\n",
    "cab_data_p2 = pd.read_csv(\"cab_data_p2.csv\")"
   ]
  },
  {
   "cell_type": "code",
   "execution_count": 29,
   "metadata": {
    "collapsed": true
   },
   "outputs": [],
   "source": [
    "#REMOVE WHEN UPLOADING\n",
    "apiKey= ''\n",
    "walkscore = WalkScore(apiKey)\n",
    "\n",
    "#Requires pip install geopy\n",
    "def get_address(df):\n",
    "    geolocator = Nominatim()\n",
    "    \n",
    "    def f(x,y):\n",
    "        coord = \"%f, %f\" % (x, y)\n",
    "        return coord\n",
    "    \n",
    "    def get_d(x,y):\n",
    "        return geodesic(x, y).miles\n",
    "    \n",
    "    def reverse_geocode(latlng):\n",
    "        res = geolocator.reverse(latlng)\n",
    "        return res.address\n",
    "    \n",
    "    \n",
    "    df['start_latlng'] = df[['dropoff_latitude', 'dropoff_longitude']].apply(lambda x: f(*x), axis=1)\n",
    "    df['end_latlng'] = df[['pickup_latitude', 'pickup_longitude']].apply(lambda x: f(*x), axis=1)\n",
    "    \n",
    "    #VERY SLOW\n",
    "    df['pickup_address'] = df['start_latlng'].apply(reverse_geocode)\n",
    "    df['dropoff_address'] = df['end_latlng'].apply(reverse_geocode)\n",
    "    df['distance'] = df[['start_latlng', 'end_latlng']].apply(lambda x: get_d(*x), axis=1)\n",
    "    \n",
    "    \n",
    "    \n",
    "    #head = df.head(n=50)\n",
    "    #print(head)\n",
    "    #head['test'] = head['start_latlng'].apply(reverse_geocode)\n",
    "    #print(head['test'])\n",
    "    #head['distance'] = head[['start_latlng', 'end_latlng']].apply(lambda x: get_d(*x), axis=1)\n",
    "    #print(head['distance'])\n",
    "    #print(df['start_latlng'])\n",
    "    #location = geolocator.reverse(\"\")\n",
    "    #print(\"getting\")\n",
    "    \n",
    "    res_df = df[['dropoff_latitude', 'dropoff_longitude', 'pickup_latitude', 'pickup_longitude', 'distance', 'start_latlng', 'end_latlng', 'pickup_address', 'dropoff_address']]\n",
    "    \n",
    "    return res_df\n",
    "    \n",
    "    \n",
    "    \n",
    "\n",
    "#Given part 1 and part 2 of data, returns a DF of walkability score for \n",
    "#Start and end coord\n",
    "def get_walkability_score(df):\n",
    "    def ws_score(lat,lon, address):\n",
    "        score = walkscore.makeRequest(address, lat, lon)\n",
    "        return score['walkscore']\n",
    "    \n",
    "    start_df = df[['pickup_latitude', 'pickup_longitude', 'pickup_address']].apply(lambda x: ws_score(*x), axis=1)\n",
    "    end_df = df[['dropoff_latitude', 'dropoff_longitude', 'dropoff_address']].apply(lambda x: ws_score(*x), axis=1)\n",
    "    return start_df, end_df"
   ]
  },
  {
   "cell_type": "code",
   "execution_count": 33,
   "metadata": {},
   "outputs": [
    {
     "name": "stdout",
     "output_type": "stream",
     "text": [
      "Getting addresses\n"
     ]
    }
   ],
   "source": [
    "print(\"Getting addresses\")\n",
    "res_df = get_address(copy.copy(cab_data_p1[:20]))\n",
    "#print(res_df)\n",
    "#print(res_df['pickup_address'][0])\n",
    "a = 40.722809 \n",
    "b= -74.005013\n",
    "c = res_df['pickup_address'][0]"
   ]
  },
  {
   "cell_type": "code",
   "execution_count": 34,
   "metadata": {},
   "outputs": [
    {
     "name": "stdout",
     "output_type": "stream",
     "text": [
      "Getting walkability scores\n",
      "0     100\n",
      "1     100\n",
      "2     100\n",
      "3      99\n",
      "4     100\n",
      "5      99\n",
      "6      99\n",
      "7      98\n",
      "8      99\n",
      "9     100\n",
      "10     98\n",
      "11     98\n",
      "12     98\n",
      "13     57\n",
      "14    100\n",
      "15     99\n",
      "16     99\n",
      "17     99\n",
      "18     99\n",
      "19     98\n",
      "dtype: int64\n",
      "0      99\n",
      "1      93\n",
      "2     100\n",
      "3      99\n",
      "4     100\n",
      "5      99\n",
      "6      99\n",
      "7      99\n",
      "8      99\n",
      "9     100\n",
      "10     99\n",
      "11     97\n",
      "12     99\n",
      "13     99\n",
      "14     98\n",
      "15    100\n",
      "16    100\n",
      "17     99\n",
      "18     65\n",
      "19     98\n",
      "dtype: int64\n"
     ]
    }
   ],
   "source": [
    "print(\"Getting walkability scores\")\n",
    "start_w, end_w = get_walkability_score(res_df)\n",
    "print(start_w)\n",
    "print(end_w)"
   ]
  }
 ],
 "metadata": {
  "kernelspec": {
   "display_name": "Python 3",
   "language": "python",
   "name": "python3"
  },
  "language_info": {
   "codemirror_mode": {
    "name": "ipython",
    "version": 3
   },
   "file_extension": ".py",
   "mimetype": "text/x-python",
   "name": "python",
   "nbconvert_exporter": "python",
   "pygments_lexer": "ipython3",
   "version": "3.6.3"
  }
 },
 "nbformat": 4,
 "nbformat_minor": 2
}
