{
 "cells": [
  {
   "cell_type": "code",
   "execution_count": 27,
   "metadata": {
    "collapsed": true
   },
   "outputs": [],
   "source": [
    "import numpy as np\n",
    "import pandas as pd\n",
    "import matplotlib.pyplot as plt\n",
    "import scipy.stats as stats\n",
    "%matplotlib inline"
   ]
  },
  {
   "cell_type": "code",
   "execution_count": 16,
   "metadata": {
    "collapsed": true
   },
   "outputs": [],
   "source": [
    "cab_data = pd.read_csv(\"data_with_features.csv\")"
   ]
  },
  {
   "cell_type": "code",
   "execution_count": 19,
   "metadata": {},
   "outputs": [
    {
     "data": {
      "text/html": [
       "<div>\n",
       "<style scoped>\n",
       "    .dataframe tbody tr th:only-of-type {\n",
       "        vertical-align: middle;\n",
       "    }\n",
       "\n",
       "    .dataframe tbody tr th {\n",
       "        vertical-align: top;\n",
       "    }\n",
       "\n",
       "    .dataframe thead th {\n",
       "        text-align: right;\n",
       "    }\n",
       "</style>\n",
       "<table border=\"1\" class=\"dataframe\">\n",
       "  <thead>\n",
       "    <tr style=\"text-align: right;\">\n",
       "      <th></th>\n",
       "      <th>Unnamed: 0</th>\n",
       "      <th>Unnamed: 0.1</th>\n",
       "      <th>dropoff_latitude</th>\n",
       "      <th>dropoff_longitude</th>\n",
       "      <th>pickup_latitude</th>\n",
       "      <th>pickup_longitude</th>\n",
       "      <th>total_amount</th>\n",
       "      <th>tpep_dropoff_datetime</th>\n",
       "      <th>tpep_pickup_datetime</th>\n",
       "      <th>start_latlng</th>\n",
       "      <th>...</th>\n",
       "      <th>tpep_pickup_datetime_is_holiday</th>\n",
       "      <th>Mean Temperature</th>\n",
       "      <th>Max Temperature</th>\n",
       "      <th>Min Temperature</th>\n",
       "      <th>Dew Point</th>\n",
       "      <th>Average Humidity</th>\n",
       "      <th>Precipitation</th>\n",
       "      <th>Snow</th>\n",
       "      <th>Wind Speed</th>\n",
       "      <th>Visibility</th>\n",
       "    </tr>\n",
       "  </thead>\n",
       "  <tbody>\n",
       "    <tr>\n",
       "      <th>0</th>\n",
       "      <td>0</td>\n",
       "      <td>0</td>\n",
       "      <td>40.777241</td>\n",
       "      <td>-73.951744</td>\n",
       "      <td>40.776424</td>\n",
       "      <td>-73.952850</td>\n",
       "      <td>15.35</td>\n",
       "      <td>2016-04-03T00:09:40.000</td>\n",
       "      <td>2016-04-02T23:55:45.000</td>\n",
       "      <td>40.777241, -73.951744</td>\n",
       "      <td>...</td>\n",
       "      <td>0</td>\n",
       "      <td>42</td>\n",
       "      <td>50</td>\n",
       "      <td>34</td>\n",
       "      <td>16</td>\n",
       "      <td>51</td>\n",
       "      <td>0.09</td>\n",
       "      <td>0.0</td>\n",
       "      <td>13</td>\n",
       "      <td>10</td>\n",
       "    </tr>\n",
       "    <tr>\n",
       "      <th>1</th>\n",
       "      <td>1</td>\n",
       "      <td>1</td>\n",
       "      <td>40.777611</td>\n",
       "      <td>-73.951080</td>\n",
       "      <td>40.789371</td>\n",
       "      <td>-73.943352</td>\n",
       "      <td>12.30</td>\n",
       "      <td>2016-04-22T09:45:11.000</td>\n",
       "      <td>2016-04-22T09:27:51.000</td>\n",
       "      <td>40.777611, -73.951080</td>\n",
       "      <td>...</td>\n",
       "      <td>0</td>\n",
       "      <td>71</td>\n",
       "      <td>79</td>\n",
       "      <td>62</td>\n",
       "      <td>53</td>\n",
       "      <td>55</td>\n",
       "      <td>0.00</td>\n",
       "      <td>0.0</td>\n",
       "      <td>4</td>\n",
       "      <td>10</td>\n",
       "    </tr>\n",
       "    <tr>\n",
       "      <th>2</th>\n",
       "      <td>2</td>\n",
       "      <td>2</td>\n",
       "      <td>40.770386</td>\n",
       "      <td>-73.966476</td>\n",
       "      <td>40.761303</td>\n",
       "      <td>-73.973183</td>\n",
       "      <td>5.80</td>\n",
       "      <td>2016-04-29T20:26:47.000</td>\n",
       "      <td>2016-04-29T20:23:57.000</td>\n",
       "      <td>40.770386, -73.966476</td>\n",
       "      <td>...</td>\n",
       "      <td>0</td>\n",
       "      <td>52</td>\n",
       "      <td>58</td>\n",
       "      <td>45</td>\n",
       "      <td>34</td>\n",
       "      <td>48</td>\n",
       "      <td>0.05</td>\n",
       "      <td>0.0</td>\n",
       "      <td>6</td>\n",
       "      <td>10</td>\n",
       "    </tr>\n",
       "    <tr>\n",
       "      <th>3</th>\n",
       "      <td>3</td>\n",
       "      <td>3</td>\n",
       "      <td>40.767288</td>\n",
       "      <td>-73.966675</td>\n",
       "      <td>40.764381</td>\n",
       "      <td>-73.995583</td>\n",
       "      <td>10.80</td>\n",
       "      <td>2016-04-08T11:21:10.000</td>\n",
       "      <td>2016-04-08T11:10:26.000</td>\n",
       "      <td>40.767288, -73.966675</td>\n",
       "      <td>...</td>\n",
       "      <td>0</td>\n",
       "      <td>45</td>\n",
       "      <td>50</td>\n",
       "      <td>40</td>\n",
       "      <td>26</td>\n",
       "      <td>48</td>\n",
       "      <td>0.01</td>\n",
       "      <td>0.0</td>\n",
       "      <td>7</td>\n",
       "      <td>10</td>\n",
       "    </tr>\n",
       "    <tr>\n",
       "      <th>4</th>\n",
       "      <td>4</td>\n",
       "      <td>4</td>\n",
       "      <td>40.744068</td>\n",
       "      <td>-73.988991</td>\n",
       "      <td>40.754742</td>\n",
       "      <td>-73.979820</td>\n",
       "      <td>7.30</td>\n",
       "      <td>2016-04-28T09:09:32.000</td>\n",
       "      <td>2016-04-28T09:04:28.000</td>\n",
       "      <td>40.744068, -73.988991</td>\n",
       "      <td>...</td>\n",
       "      <td>0</td>\n",
       "      <td>54</td>\n",
       "      <td>59</td>\n",
       "      <td>48</td>\n",
       "      <td>30</td>\n",
       "      <td>51</td>\n",
       "      <td>0.00</td>\n",
       "      <td>0.0</td>\n",
       "      <td>5</td>\n",
       "      <td>10</td>\n",
       "    </tr>\n",
       "  </tbody>\n",
       "</table>\n",
       "<p>5 rows × 37 columns</p>\n",
       "</div>"
      ],
      "text/plain": [
       "   Unnamed: 0  Unnamed: 0.1  dropoff_latitude  dropoff_longitude  \\\n",
       "0           0             0         40.777241         -73.951744   \n",
       "1           1             1         40.777611         -73.951080   \n",
       "2           2             2         40.770386         -73.966476   \n",
       "3           3             3         40.767288         -73.966675   \n",
       "4           4             4         40.744068         -73.988991   \n",
       "\n",
       "   pickup_latitude  pickup_longitude  total_amount    tpep_dropoff_datetime  \\\n",
       "0        40.776424        -73.952850         15.35  2016-04-03T00:09:40.000   \n",
       "1        40.789371        -73.943352         12.30  2016-04-22T09:45:11.000   \n",
       "2        40.761303        -73.973183          5.80  2016-04-29T20:26:47.000   \n",
       "3        40.764381        -73.995583         10.80  2016-04-08T11:21:10.000   \n",
       "4        40.754742        -73.979820          7.30  2016-04-28T09:09:32.000   \n",
       "\n",
       "      tpep_pickup_datetime           start_latlng     ...      \\\n",
       "0  2016-04-02T23:55:45.000  40.777241, -73.951744     ...       \n",
       "1  2016-04-22T09:27:51.000  40.777611, -73.951080     ...       \n",
       "2  2016-04-29T20:23:57.000  40.770386, -73.966476     ...       \n",
       "3  2016-04-08T11:10:26.000  40.767288, -73.966675     ...       \n",
       "4  2016-04-28T09:04:28.000  40.744068, -73.988991     ...       \n",
       "\n",
       "  tpep_pickup_datetime_is_holiday  Mean Temperature  Max Temperature  \\\n",
       "0                               0                42               50   \n",
       "1                               0                71               79   \n",
       "2                               0                52               58   \n",
       "3                               0                45               50   \n",
       "4                               0                54               59   \n",
       "\n",
       "   Min Temperature  Dew Point  Average Humidity  Precipitation  Snow  \\\n",
       "0               34         16                51           0.09   0.0   \n",
       "1               62         53                55           0.00   0.0   \n",
       "2               45         34                48           0.05   0.0   \n",
       "3               40         26                48           0.01   0.0   \n",
       "4               48         30                51           0.00   0.0   \n",
       "\n",
       "   Wind Speed  Visibility  \n",
       "0          13          10  \n",
       "1           4          10  \n",
       "2           6          10  \n",
       "3           7          10  \n",
       "4           5          10  \n",
       "\n",
       "[5 rows x 37 columns]"
      ]
     },
     "execution_count": 19,
     "metadata": {},
     "output_type": "execute_result"
    }
   ],
   "source": [
    "cab_data.head()"
   ]
  },
  {
   "cell_type": "markdown",
   "metadata": {},
   "source": [
    "We notice that there are some trips that have prices less than 0! We remove rows with negative prices below."
   ]
  },
  {
   "cell_type": "code",
   "execution_count": 18,
   "metadata": {
    "collapsed": true
   },
   "outputs": [],
   "source": [
    "non_zero_price = cab_data[\"total_amount\"] > 0\n",
    "cab_data = cab_data[non_zero_price]"
   ]
  },
  {
   "cell_type": "markdown",
   "metadata": {},
   "source": [
    "Here's a histogram of the total_amount feature, the price of the trip (our response variable)."
   ]
  },
  {
   "cell_type": "code",
   "execution_count": 25,
   "metadata": {},
   "outputs": [
    {
     "data": {
      "text/plain": [
       "(array([  7.90136000e+05,   1.33736000e+05,   3.83690000e+04,\n",
       "          1.77190000e+04,   1.60100000e+03,   7.48000000e+02,\n",
       "          2.43000000e+02,   1.45000000e+02,   6.20000000e+01,\n",
       "          5.60000000e+01,   2.80000000e+01,   2.20000000e+01,\n",
       "          9.00000000e+00,   9.00000000e+00,   8.00000000e+00,\n",
       "          8.00000000e+00,   4.00000000e+00,   3.00000000e+00,\n",
       "          5.00000000e+00,   1.00000000e+00,   4.00000000e+00,\n",
       "          3.00000000e+00,   7.00000000e+00,   1.00000000e+00,\n",
       "          1.00000000e+00,   1.00000000e+00,   3.00000000e+00,\n",
       "          0.00000000e+00,   0.00000000e+00,   0.00000000e+00,\n",
       "          1.00000000e+00,   0.00000000e+00,   0.00000000e+00,\n",
       "          1.00000000e+00,   0.00000000e+00,   0.00000000e+00,\n",
       "          1.00000000e+00,   0.00000000e+00,   0.00000000e+00,\n",
       "          0.00000000e+00,   0.00000000e+00,   0.00000000e+00,\n",
       "          0.00000000e+00,   0.00000000e+00,   0.00000000e+00,\n",
       "          0.00000000e+00,   0.00000000e+00,   0.00000000e+00,\n",
       "          0.00000000e+00,   1.00000000e+00]),\n",
       " array([  1.00000000e-02,   1.99758000e+01,   3.99416000e+01,\n",
       "          5.99074000e+01,   7.98732000e+01,   9.98390000e+01,\n",
       "          1.19804800e+02,   1.39770600e+02,   1.59736400e+02,\n",
       "          1.79702200e+02,   1.99668000e+02,   2.19633800e+02,\n",
       "          2.39599600e+02,   2.59565400e+02,   2.79531200e+02,\n",
       "          2.99497000e+02,   3.19462800e+02,   3.39428600e+02,\n",
       "          3.59394400e+02,   3.79360200e+02,   3.99326000e+02,\n",
       "          4.19291800e+02,   4.39257600e+02,   4.59223400e+02,\n",
       "          4.79189200e+02,   4.99155000e+02,   5.19120800e+02,\n",
       "          5.39086600e+02,   5.59052400e+02,   5.79018200e+02,\n",
       "          5.98984000e+02,   6.18949800e+02,   6.38915600e+02,\n",
       "          6.58881400e+02,   6.78847200e+02,   6.98813000e+02,\n",
       "          7.18778800e+02,   7.38744600e+02,   7.58710400e+02,\n",
       "          7.78676200e+02,   7.98642000e+02,   8.18607800e+02,\n",
       "          8.38573600e+02,   8.58539400e+02,   8.78505200e+02,\n",
       "          8.98471000e+02,   9.18436800e+02,   9.38402600e+02,\n",
       "          9.58368400e+02,   9.78334200e+02,   9.98300000e+02]),\n",
       " <a list of 50 Patch objects>)"
      ]
     },
     "execution_count": 25,
     "metadata": {},
     "output_type": "execute_result"
    },
    {
     "data": {
      "image/png": "[encoded data removed]",
      "text/plain": [
       "<Figure size 432x288 with 1 Axes>"
      ]
     },
     "metadata": {},
     "output_type": "display_data"
    }
   ],
   "source": [
    "plt.hist(cab_data[\"total_amount\"], bins=50)"
   ]
  },
  {
   "cell_type": "markdown",
   "metadata": {},
   "source": [
    "The histogram of the price feature is quite skewed and quite non-normal.  suggesting that a linear model will be a poor fit. We use a log transform of the price feature below."
   ]
  },
  {
   "cell_type": "code",
   "execution_count": 29,
   "metadata": {},
   "outputs": [
    {
     "data": {
      "text/plain": [
       "((array([-4.82353497, -4.64362929, -4.54636112, ...,  4.54636112,\n",
       "          4.64362929,  4.82353497]),\n",
       "  array([  1.00000000e-02,   3.00000000e-01,   3.00000000e-01, ...,\n",
       "           6.77800000e+02,   7.25300000e+02,   9.98300000e+02])),\n",
       " (10.824147811952644, 15.880819636273369, 0.8056246770820028))"
      ]
     },
     "execution_count": 29,
     "metadata": {},
     "output_type": "execute_result"
    },
    {
     "data": {
      "image/png": "[encoded data removed]",
      "text/plain": [
       "<Figure size 432x288 with 1 Axes>"
      ]
     },
     "metadata": {},
     "output_type": "display_data"
    }
   ],
   "source": [
    "stats.probplot(cab_data[\"total_amount\"], dist=\"norm\", plot=plt)"
   ]
  },
  {
   "cell_type": "code",
   "execution_count": 26,
   "metadata": {},
   "outputs": [
    {
     "data": {
      "text/plain": [
       "(array([  1.00000000e+00,   0.00000000e+00,   0.00000000e+00,\n",
       "          0.00000000e+00,   0.00000000e+00,   0.00000000e+00,\n",
       "          0.00000000e+00,   0.00000000e+00,   0.00000000e+00,\n",
       "          0.00000000e+00,   0.00000000e+00,   0.00000000e+00,\n",
       "          0.00000000e+00,   0.00000000e+00,   2.06000000e+02,\n",
       "          3.00000000e+00,   1.00000000e+00,   0.00000000e+00,\n",
       "          0.00000000e+00,   6.00000000e+00,   0.00000000e+00,\n",
       "          2.00000000e+00,   4.00000000e+00,   2.00000000e+00,\n",
       "          1.30000000e+01,   3.66800000e+03,   1.51370000e+04,\n",
       "          6.38880000e+04,   1.19399000e+05,   1.72432000e+05,\n",
       "          1.65874000e+05,   1.45312000e+05,   1.04177000e+05,\n",
       "          6.68720000e+04,   3.99420000e+04,   2.62050000e+04,\n",
       "          2.33850000e+04,   1.82050000e+04,   1.51790000e+04,\n",
       "          1.65200000e+03,   8.48000000e+02,   2.76000000e+02,\n",
       "          1.24000000e+02,   6.00000000e+01,   2.40000000e+01,\n",
       "          1.50000000e+01,   1.70000000e+01,   4.00000000e+00,\n",
       "          2.00000000e+00,   1.00000000e+00]),\n",
       " array([ -4.60517019e+00,  -4.37494571e+00,  -4.14472123e+00,\n",
       "         -3.91449674e+00,  -3.68427226e+00,  -3.45404778e+00,\n",
       "         -3.22382330e+00,  -2.99359882e+00,  -2.76337434e+00,\n",
       "         -2.53314986e+00,  -2.30292538e+00,  -2.07270090e+00,\n",
       "         -1.84247642e+00,  -1.61225194e+00,  -1.38202746e+00,\n",
       "         -1.15180298e+00,  -9.21578500e-01,  -6.91354020e-01,\n",
       "         -4.61129539e-01,  -2.30905059e-01,  -6.80578656e-04,\n",
       "          2.29543902e-01,   4.59768382e-01,   6.89992862e-01,\n",
       "          9.20217343e-01,   1.15044182e+00,   1.38066630e+00,\n",
       "          1.61089078e+00,   1.84111526e+00,   2.07133974e+00,\n",
       "          2.30156423e+00,   2.53178871e+00,   2.76201319e+00,\n",
       "          2.99223767e+00,   3.22246215e+00,   3.45268663e+00,\n",
       "          3.68291111e+00,   3.91313559e+00,   4.14336007e+00,\n",
       "          4.37358455e+00,   4.60380903e+00,   4.83403351e+00,\n",
       "          5.06425799e+00,   5.29448247e+00,   5.52470695e+00,\n",
       "          5.75493143e+00,   5.98515591e+00,   6.21538039e+00,\n",
       "          6.44560487e+00,   6.67582935e+00,   6.90605383e+00]),\n",
       " <a list of 50 Patch objects>)"
      ]
     },
     "execution_count": 26,
     "metadata": {},
     "output_type": "execute_result"
    },
    {
     "data": {
      "image/png": "[encoded data removed]",
      "text/plain": [
       "<Figure size 432x288 with 1 Axes>"
      ]
     },
     "metadata": {},
     "output_type": "display_data"
    }
   ],
   "source": [
    "plt.hist(np.log(cab_data[\"total_amount\"]), bins=50)"
   ]
  },
  {
   "cell_type": "markdown",
   "metadata": {},
   "source": [
    "The plot above looks more normal, as evidenced by the qq plot below."
   ]
  },
  {
   "cell_type": "code",
   "execution_count": 31,
   "metadata": {},
   "outputs": [
    {
     "data": {
      "text/plain": [
       "((array([-4.82353497, -4.64362929, -4.54636112, ...,  4.54636112,\n",
       "          4.64362929,  4.82353497]),\n",
       "  array([-4.60517019, -1.2039728 , -1.2039728 , ...,  6.51885226,\n",
       "          6.58658536,  6.90605383])),\n",
       " (0.58099272607181662, 2.5572780969027158, 0.97716167397105091))"
      ]
     },
     "execution_count": 31,
     "metadata": {},
     "output_type": "execute_result"
    },
    {
     "data": {
      "image/png": "[encoded data removed]",
      "text/plain": [
       "<Figure size 432x288 with 1 Axes>"
      ]
     },
     "metadata": {},
     "output_type": "display_data"
    }
   ],
   "source": [
    "stats.probplot(np.log(cab_data[\"total_amount\"]), dist=\"norm\", plot=plt)"
   ]
  },
  {
   "cell_type": "code",
   "execution_count": null,
   "metadata": {
    "collapsed": true
   },
   "outputs": [],
   "source": []
  }
 ],
 "metadata": {
  "kernelspec": {
   "display_name": "Python 3",
   "language": "python",
   "name": "python3"
  },
  "language_info": {
   "codemirror_mode": {
    "name": "ipython",
    "version": 3
   },
   "file_extension": ".py",
   "mimetype": "text/x-python",
   "name": "python",
   "nbconvert_exporter": "python",
   "pygments_lexer": "ipython3",
   "version": "3.6.3"
  }
 },
 "nbformat": 4,
 "nbformat_minor": 2
}
