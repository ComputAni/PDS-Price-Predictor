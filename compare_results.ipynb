{
 "cells": [
  {
   "cell_type": "code",
   "execution_count": 3,
   "metadata": {
    "collapsed": true
   },
   "outputs": [],
   "source": [
    "import pandas as pd\n",
    "from datetime import datetime, timedelta\n",
    "from bs4 import BeautifulSoup\n",
    "import requests\n",
    "from unicodedata import normalize\n",
    "import re, copy, random, time, csv, math\n",
    "from geopy.geocoders import Nominatim\n",
    "from geopy.distance import geodesic\n",
    "import numpy as np\n",
    "from pandas.tseries.holiday import USFederalHolidayCalendar\n",
    "from uberPrice import getPriceNow\n",
    "from create_weather_features import init_weather_features, create_weather_features\n",
    "from create_date_features import create_date_features\n",
    "from time import strftime, strptime\n",
    "from sklearn.model_selection import train_test_split"
   ]
  },
  {
   "cell_type": "code",
   "execution_count": 4,
   "metadata": {},
   "outputs": [
    {
     "name": "stdout",
     "output_type": "stream",
     "text": [
      "['dropoff_latitude' 'dropoff_longitude' 'pickup_latitude'\n",
      " 'pickup_longitude' 'total_amount' 'tpep_dropoff_datetime'\n",
      " 'tpep_pickup_datetime' 'start_latlng' 'end_latlng' 'distance'\n",
      " 'tpep_dropoff_datetime_years' 'tpep_dropoff_datetime_months'\n",
      " 'tpep_dropoff_datetime_days' 'tpep_dropoff_datetime_hours'\n",
      " 'tpep_dropoff_datetime_minutes' 'tpep_dropoff_datetime_seconds'\n",
      " 'tpep_dropoff_datetime_day_of_week' 'tpep_dropoff_datetime_is_holiday'\n",
      " 'tpep_pickup_datetime_years' 'tpep_pickup_datetime_months'\n",
      " 'tpep_pickup_datetime_days' 'tpep_pickup_datetime_hours'\n",
      " 'tpep_pickup_datetime_minutes' 'tpep_pickup_datetime_seconds'\n",
      " 'tpep_pickup_datetime_day_of_week' 'tpep_pickup_datetime_is_holiday'\n",
      " 'duration' 'Mean Temperature' 'Max Temperature' 'Min Temperature'\n",
      " 'Dew Point' 'Average Humidity' 'Precipitation' 'Snow' 'Wind Speed'\n",
      " 'Visibility']\n"
     ]
    }
   ],
   "source": [
    "#Step 1, Read the dataset with features, clean any unecessary stuff\n",
    "cab_data = pd.read_csv(\"data_with_features.csv\")\n",
    "del cab_data[\"Unnamed: 0\"]\n",
    "del cab_data[\"Unnamed: 0.1\"]\n",
    "del cab_data[\"Unnamed: 0.1.1\"]\n",
    "#Print columns to validate\n",
    "print(cab_data.columns.values)"
   ]
  },
  {
   "cell_type": "code",
   "execution_count": 5,
   "metadata": {},
   "outputs": [
    {
     "name": "stdout",
     "output_type": "stream",
     "text": [
      "Data size:  982936\n",
      "Data size:  978979\n"
     ]
    }
   ],
   "source": [
    "#Filter out any nonzero price values\n",
    "price_filter = cab_data[\"total_amount\"] > 0\n",
    "cab_data = cab_data[price_filter]\n",
    "\n",
    "print(\"Data size: \", len(cab_data))\n",
    "\n",
    "#Filter out any negative distance values\n",
    "dist_filter = cab_data['distance'] > 0\n",
    "cab_data = cab_data[dist_filter]\n",
    "\n",
    "#Add the log total amount (for price verification)\n",
    "cab_data[\"log_total_amount\"] = np.log(cab_data[\"total_amount\"] + 1)\n",
    "\n",
    "data_size = len(cab_data)\n",
    "print(\"Data size: \", data_size)"
   ]
  },
  {
   "cell_type": "code",
   "execution_count": 6,
   "metadata": {
    "collapsed": true
   },
   "outputs": [],
   "source": [
    "def create_features(df):\n",
    "    features = []\n",
    "    feature_names = ['distance', 'duration', 'tpep_dropoff_datetime_years', 'tpep_dropoff_datetime_months',\n",
    "       'tpep_dropoff_datetime_days', 'tpep_dropoff_datetime_hours',\n",
    "       'tpep_dropoff_datetime_minutes', 'tpep_dropoff_datetime_seconds',\n",
    "       'tpep_dropoff_datetime_day_of_week',\n",
    "       'tpep_dropoff_datetime_is_holiday', 'tpep_pickup_datetime_years',\n",
    "       'tpep_pickup_datetime_months', 'tpep_pickup_datetime_days',\n",
    "       'tpep_pickup_datetime_hours', 'tpep_pickup_datetime_minutes',\n",
    "       'tpep_pickup_datetime_seconds', 'tpep_pickup_datetime_day_of_week',\n",
    "       'tpep_pickup_datetime_is_holiday', 'Mean Temperature',\n",
    "       'Max Temperature', 'Min Temperature', 'Dew Point',\n",
    "       'Average Humidity', 'Precipitation', 'Snow', 'Wind Speed',\n",
    "       'Visibility']\n",
    "    for feature_name in feature_names:\n",
    "        features.append(df[feature_name])\n",
    "    \n",
    "    X = np.array(features).T\n",
    "    y = df[\"log_total_amount\"].values\n",
    "    return (X,y)"
   ]
  },
  {
   "cell_type": "code",
   "execution_count": 7,
   "metadata": {
    "collapsed": true
   },
   "outputs": [],
   "source": [
    "def create_train_test_split(X,y):\n",
    "    X_, X_test, y_, y_test = train_test_split(X, y, test_size = 0.3, random_state=0)\n",
    "    X_train, X_cv, y_train, y_cv = train_test_split(X_, y_, test_size = 0.3, random_state=0)\n",
    "    \n",
    "    return (X_train, y_train, X_cv, y_cv, X_test, y_test)"
   ]
  },
  {
   "cell_type": "code",
   "execution_count": 8,
   "metadata": {
    "collapsed": true
   },
   "outputs": [],
   "source": [
    "(X,y) = create_features(cab_data)\n",
    "(X_train, y_train, X_cv, y_cv, X_test, y_test) = create_train_test_split(X,y)"
   ]
  },
  {
   "cell_type": "markdown",
   "metadata": {},
   "source": [
    "Okay great! The data is clean and is ready to be processed!\n",
    "\n",
    "The next step is to initialize the model and train on our dataset."
   ]
  },
  {
   "cell_type": "code",
   "execution_count": 9,
   "metadata": {
    "collapsed": true
   },
   "outputs": [],
   "source": [
    "from sklearn.decomposition import PCA\n",
    "from sklearn.ensemble import GradientBoostingRegressor\n",
    "\n",
    "# Apply PCA\n",
    "def applyPCA(X_train, X_test, numComponents):\n",
    "    \n",
    "    # Initialize the PCA class and pass in the number of dimensions to which you want to reduce your data to.\n",
    "    pca = PCA(n_components = numComponents)\n",
    "\n",
    "    # Fit the training data to the PCA model.\n",
    "    pca.fit(X_train)\n",
    "\n",
    "    # Reduce the dimensionality of the training set.\n",
    "    newX_train = pca.transform(X_train)\n",
    "\n",
    "    # Reduce the dimensionality of the testing set.\n",
    "    newX_test = pca.transform(X_test)\n",
    "    \n",
    "    return newX_train, newX_test\n",
    "\n",
    "# Train the PCA and get the right number of \n",
    "def PCAWithLinearRegression(X_train, y_train, X_test, y_test):\n",
    "    numCols = X_train.shape[1]\n",
    "    errors = []\n",
    "    print(numCols)\n",
    "    for i in range(numCols):\n",
    "        print(i+1)\n",
    "        pcaX_train, pcaX_test = applyPCA(X_train, X_test, i+1)\n",
    "        (model, y_pred, error) = train_linear_regression(pcaX_train, y_train, pcaX_test, y_test)\n",
    "        errors.append(error)\n",
    "    return errors\n",
    "\n",
    "# Graphs above determine that 16 is the best number of components\n",
    "def PCAwithGradientBoostingAndLR(X_train, X_test, y_train, numComponents):\n",
    "    \n",
    "    pcaX_train, pcaX_test = applyPCA(X_train, X_test, numComponents)\n",
    "    clf = GradientBoostingRegressor()\n",
    "    clf.fit(pcaX_train, y_train)\n",
    "    modelResults = clf.predict(pcaX_test)\n",
    "    \n",
    "    return modelResults"
   ]
  },
  {
   "cell_type": "code",
   "execution_count": 38,
   "metadata": {},
   "outputs": [
    {
     "name": "stdout",
     "output_type": "stream",
     "text": [
      "We will be making 24 calls to uber API.\n"
     ]
    }
   ],
   "source": [
    "#Step 1: Determine interval for sampling Uber API\n",
    "time_period = 2*60 #In X hrs * 60 minutes \n",
    "sample_rate = 5 #In 1 sample per *sample_rate* minutes\n",
    "num_samples = time_period // sample_rate\n",
    "print(\"We will be making %d calls to uber API.\" % num_samples)\n",
    "\n",
    "#Step 2: Get random subset of data to use as test points\n",
    "sample_data = cab_data.sample(n=num_samples)\n",
    "sample_data = sample_data[['start_latlng', 'end_latlng', 'distance', 'duration']]\n",
    "#print(sample_data)"
   ]
  },
  {
   "cell_type": "code",
   "execution_count": 39,
   "metadata": {},
   "outputs": [
    {
     "name": "stdout",
     "output_type": "stream",
     "text": [
      "Number of features:  27\n"
     ]
    }
   ],
   "source": [
    "#List of features we are using in our model\n",
    "feature_names = ['distance', 'duration', 'tpep_dropoff_datetime_years', 'tpep_dropoff_datetime_months',\n",
    "       'tpep_dropoff_datetime_days', 'tpep_dropoff_datetime_hours',\n",
    "       'tpep_dropoff_datetime_minutes', 'tpep_dropoff_datetime_seconds',\n",
    "       'tpep_dropoff_datetime_day_of_week',\n",
    "       'tpep_dropoff_datetime_is_holiday', 'tpep_pickup_datetime_years',\n",
    "       'tpep_pickup_datetime_months', 'tpep_pickup_datetime_days',\n",
    "       'tpep_pickup_datetime_hours', 'tpep_pickup_datetime_minutes',\n",
    "       'tpep_pickup_datetime_seconds', 'tpep_pickup_datetime_day_of_week',\n",
    "       'tpep_pickup_datetime_is_holiday', 'Mean Temperature',\n",
    "       'Max Temperature', 'Min Temperature', 'Dew Point',\n",
    "       'Average Humidity', 'Precipitation', 'Snow', 'Wind Speed',\n",
    "       'Visibility']\n",
    "print(\"Number of features: \", len(feature_names))"
   ]
  },
  {
   "cell_type": "code",
   "execution_count": 40,
   "metadata": {
    "collapsed": true
   },
   "outputs": [],
   "source": [
    "def generate_estimates(sample_data):\n",
    "\n",
    "\n",
    "    data_with_features = []\n",
    "    uber_estimates = []\n",
    "\n",
    "    for (idx,row) in sample_data.iterrows():\n",
    "\n",
    "        ########## CREATE TIME/DATE/WEATHER FEATURES FOR MODEL ESTIMATE ###############\n",
    "        F = open('price_estimates.csv', 'a')\n",
    "        \n",
    "        #Pickup time is now, dropoff is trip duration after pickup\n",
    "        pickup_time = datetime.now()\n",
    "        dropoff_time = pickup_time + timedelta(minutes=row['duration'])\n",
    "\n",
    "        #Format start and end times for feature extraction\n",
    "        start = datetime(pickup_time.year, pickup_time.month, pickup_time.day)\n",
    "        start = '%4d-%02d-%02d' % (start.year, start.month, start.day)\n",
    "        end = datetime(pickup_time.year, pickup_time.month, pickup_time.day + 1)\n",
    "        end = '%4d-%02d-%02d' % (end.year, end.month, end.day)\n",
    "        #print(start,end, type(start), type(end))\n",
    "\n",
    "        start_date = datetime(pickup_time.year, pickup_time.month, pickup_time.day)\n",
    "        end_date = datetime(pickup_time.year, pickup_time.month, pickup_time.day)\n",
    "        #print(start_date, end_date)\n",
    "        weather_date_features = init_weather_features(start_date, end_date)\n",
    "\n",
    "        #Format pickup/dropoff time\n",
    "        pickup_time = '%4d-%02d-%02dT%02d:%02d:%f' % (pickup_time.year, pickup_time.month, pickup_time.day, pickup_time.hour, pickup_time.minute, pickup_time.second)\n",
    "        dropoff_time = '%4d-%02d-%02dT%02d:%02d:%f' % (dropoff_time.year, dropoff_time.month, dropoff_time.day, dropoff_time.hour, dropoff_time.minute, dropoff_time.second)\n",
    "        #print(pickup_time, dropoff_time)\n",
    "        curr_row = dict()\n",
    "        curr_row[\"tpep_dropoff_datetime\"] = str(dropoff_time)[:len(dropoff_time)-3] #strftime('%Y-%m-%dT%H:%M:%S.%f', dropoff_time)\n",
    "        curr_row[\"tpep_pickup_datetime\"] = str(pickup_time)[:len(pickup_time)-3] #strftime('%Y-%m-%dT%H:%M:%S.%f', pickup_time)\n",
    "\n",
    "        curr_row['distance'] = row['distance']\n",
    "        \n",
    "        #Convert to dataframe and get date  + weather features\n",
    "        curr_row = pd.DataFrame([curr_row])\n",
    "        curr_row = create_date_features(curr_row, start, end)\n",
    "        curr_row = create_weather_features(curr_row, weather_date_features)\n",
    "\n",
    "        #Write the synthesized row of features to csv file (append)\n",
    "        curr_row.to_csv(\"price_features.csv\", mode='a',header=False)\n",
    "        data_with_features.append(curr_row)\n",
    "        \n",
    "        #print(curr_row, curr_row['distance'])\n",
    "\n",
    "\n",
    "        ######### GET UBER ESTIMATE ##############\n",
    "        start_coord = row['start_latlng'].split(',')\n",
    "        end_coord = row['end_latlng'].split(',')\n",
    "        #print(start_coord, end_coord, type(start_coord))\n",
    "        curr_uber_estimates = getPriceNow(float(start_coord[0]), float(start_coord[1]), float(end_coord[0]), float(end_coord[1]))\n",
    "        uberX_estimate = curr_uber_estimates[1]\n",
    "\n",
    "        high_estimate = uberX_estimate['high_estimate']\n",
    "        low_estimate = uberX_estimate['low_estimate']\n",
    "        avg_estimate = (high_estimate + low_estimate) / 2\n",
    "\n",
    "        all_estimates = (high_estimate, low_estimate, avg_estimate)\n",
    "        \n",
    "        uber_estimates.append(all_estimates)\n",
    "\n",
    "        print(\"uberX estimate: %s\" % (avg_estimate))\n",
    "        F.write(str(all_estimates) + \"\\n\")\n",
    "        \n",
    "        ####### COMPARE UBER ESTIMATE WITH MODEL ESTIMATE #########\n",
    "        F.close()\n",
    "        time.sleep(sample_rate * 60)\n",
    "        #time.sleep(1)\n",
    "    \n",
    "\n",
    "    \n",
    "    return (data_with_features, uber_estimates)"
   ]
  },
  {
   "cell_type": "code",
   "execution_count": null,
   "metadata": {},
   "outputs": [
    {
     "name": "stdout",
     "output_type": "stream",
     "text": [
      "2018 5 6\n",
      "uberX estimate: 9.5\n",
      "2018 5 6\n",
      "uberX estimate: 9.5\n",
      "2018 5 6\n",
      "uberX estimate: 12.0\n",
      "2018 5 6\n",
      "uberX estimate: 9.5\n",
      "2018 5 6\n",
      "uberX estimate: 34.0\n",
      "2018 5 6\n",
      "uberX estimate: 33.0\n",
      "2018 5 6\n",
      "uberX estimate: 44.0\n"
     ]
    }
   ],
   "source": [
    "features, estimates = generate_estimates(sample_data)\n",
    "#print(features)\n",
    "#print(estimates)"
   ]
  },
  {
   "cell_type": "code",
   "execution_count": null,
   "metadata": {
    "collapsed": true
   },
   "outputs": [],
   "source": []
  },
  {
   "cell_type": "code",
   "execution_count": 26,
   "metadata": {
    "collapsed": true
   },
   "outputs": [],
   "source": [
    "#Check model performance\n",
    "\n",
    "####### STEP 1: Get model prediction of price (from our synthesized features file) ########\n",
    "X_test = pd.read_csv('price_features.csv')\n",
    "del X_test['i']\n",
    "del X_test['tpep_dropoff_datetime']\n",
    "del X_test['tpep_pickup_datetime']\n",
    "#print(list(X_test), len(list(X_test)))\n",
    "modelResults = PCAwithGradientBoostingAndLR(X_train, X_test, y_train, 16)"
   ]
  },
  {
   "cell_type": "code",
   "execution_count": 27,
   "metadata": {},
   "outputs": [
    {
     "name": "stdout",
     "output_type": "stream",
     "text": [
      "[ 1.02160475  1.02160475  2.33850251  0.93060194  0.98890781  1.00718132\n",
      "  1.00718132  1.00718132  1.00718132  1.89674175  1.00718132  2.19236575\n",
      "  1.00718132  2.20476499  2.31579407  0.87555673  0.98616196  1.01958056\n",
      "  1.01958056  1.01958056  1.01958056  1.01958056  1.60907408  1.01958056\n",
      "  2.20476499  2.20476499  0.90118097  0.93509821  2.24804013  1.01958056\n",
      "  1.01958056  1.01958056  1.01958056  2.18408074  1.01958056  1.60907408\n",
      "  2.20476499  2.20476499  0.86326895  0.93114236  1.00130705  1.01958056\n",
      "  1.01958056  1.01958056  1.01958056  1.01958056  1.01958056  1.01958056\n",
      "  2.20476499  0.93114236  0.99889631  0.93487737  1.01958056  0.99889631\n",
      "  1.01958056  1.01958056  1.01958056  1.01958056  1.01958056  2.20476499\n",
      "  2.20476499  0.90422714  0.87638645  0.93114236  1.01958056  2.22773536\n",
      "  1.01958056  1.01958056  1.00130705  1.01958056  1.01958056  1.32894759\n",
      "  2.20476499  0.86326895  0.93060194  0.86326895  1.59080057  0.96315251\n",
      "  0.99889631  1.01958056  1.01958056  1.01958056  1.01958056  1.01958056\n",
      "  2.20476499  2.20476499  2.20476499  0.9020107   1.32894759  0.98890781\n",
      "  1.01958056  1.07021178  1.01958056  1.01958056  1.01958056  1.01958056\n",
      "  1.01958056  1.01958056  2.20476499  0.9020107   0.87638645  0.93336064\n",
      "  2.31617356  1.01958056  1.01958056  1.01958056  1.01958056  1.01958056\n",
      "  1.01958056  1.01958056  2.20476499  2.20476499  2.20476499  3.11500967\n",
      "  0.89545598  0.93592794  0.97347073  0.98890781  1.01958056  1.01958056\n",
      "  1.01958056  3.29704951  1.01958056  2.20476499  2.20476499  0.9020107\n",
      "  0.86326895  0.93336064  0.98890781  0.98649707  1.01958056  1.01958056\n",
      "  1.02306883  1.01958056  1.01958056  2.20476499  2.34682663  2.35669836\n",
      "  0.97555175  0.98742652  1.00130705  1.01958056  1.01958056  2.31617356\n",
      "  1.01958056  1.01958056  1.01958056]\n",
      "[1.7776486169694596, 1.7776486169694596, 9.365702427436572, 1.5360352537851898, 1.6882967503432176, 1.737872953985672, 1.737872953985672, 1.737872953985672, 1.737872953985672, 5.6641456071468035, 1.737872953985672, 7.9563766622623895, 1.737872953985672, 8.068120228453784, 9.132966046749965, 1.4002111927566139, 1.6809252154179943, 1.772031821929045, 1.772031821929045, 1.772031821929045, 1.772031821929045, 1.772031821929045, 3.9981811727951255, 1.772031821929045, 8.068120228453784, 8.068120228453784, 1.4625095550090834, 1.5474636386740834, 8.46915928962319, 1.772031821929045, 1.772031821929045, 1.772031821929045, 1.772031821929045, 7.8824794872376565, 1.772031821929045, 3.9981811727951255, 8.068120228453784, 8.068120228453784, 1.3708983848878922, 1.5374061612137013, 1.7218370844751916, 1.772031821929045, 1.772031821929045, 1.772031821929045, 1.772031821929045, 1.772031821929045, 1.772031821929045, 1.772031821929045, 8.068120228453784, 1.5374061612137013, 1.7152833416339894, 1.5469011130813626, 1.772031821929045, 1.7152833416339894, 1.772031821929045, 1.772031821929045, 1.772031821929045, 1.772031821929045, 1.772031821929045, 8.068120228453784, 8.068120228453784, 1.4700222038272428, 1.4022035331656846, 1.5374061612137013, 1.772031821929045, 8.278829056829808, 1.772031821929045, 1.772031821929045, 1.7218370844751916, 1.772031821929045, 1.772031821929045, 2.777066284746346, 8.068120228453784, 1.3708983848878922, 1.5360352537851898, 1.3708983848878922, 3.9076762984532945, 1.6199428719160611, 1.7152833416339894, 1.772031821929045, 1.772031821929045, 1.772031821929045, 1.772031821929045, 1.772031821929045, 8.068120228453784, 8.068120228453784, 8.068120228453784, 1.4645536073445493, 2.777066284746346, 1.6882967503432176, 1.772031821929045, 1.9159969940432382, 1.772031821929045, 1.772031821929045, 1.772031821929045, 1.772031821929045, 1.772031821929045, 1.772031821929045, 8.068120228453784, 1.4645536073445493, 1.4022035331656846, 1.5430410760211006, 9.136812075631221, 1.772031821929045, 1.772031821929045, 1.772031821929045, 1.772031821929045, 1.772031821929045, 1.772031821929045, 1.772031821929045, 8.068120228453784, 8.068120228453784, 8.068120228453784, 21.53364830484651, 1.4484519779868523, 1.5495782087432861, 1.6471159687065806, 1.6882967503432176, 1.772031821929045, 1.772031821929045, 1.772031821929045, 26.0327611588748, 1.772031821929045, 8.068120228453784, 8.068120228453784, 1.4645536073445493, 1.3708983848878922, 1.5430410760211006, 1.6882967503432176, 1.6818237671940501, 1.772031821929045, 1.772031821929045, 1.7817182878318882, 1.772031821929045, 1.772031821929045, 8.068120228453784, 9.45234787990616, 9.556041653389498, 1.6526303939760898, 1.6843175400533061, 1.7218370844751916, 1.772031821929045, 1.772031821929045, 9.136812075631221, 1.772031821929045, 1.772031821929045, 1.772031821929045]\n"
     ]
    }
   ],
   "source": [
    "print(modelResults)\n",
    "model_results = [math.exp(r)-1 for r in modelResults]\n",
    "print(model_results)"
   ]
  },
  {
   "cell_type": "code",
   "execution_count": 28,
   "metadata": {},
   "outputs": [
    {
     "name": "stdout",
     "output_type": "stream",
     "text": [
      "[['(17.0', ' 13.0', ' 15.0)'], ['(23.0', ' 18.0', ' 20.5)'], ['(69.0', ' 55.0', ' 62.0)'], ['(15.0', ' 11.0', ' 13.0)'], ['(14.0', ' 11.0', ' 12.5)'], ['(11.0', ' 8.0', ' 9.5)'], ['(11.0', ' 8.0', ' 9.5)'], ['(19.0', ' 15.0', ' 17.0)'], ['(17.0', ' 13.0', ' 15.0)'], ['(60.0', ' 48.0', ' 54.0)'], ['(11.0', ' 8.0', ' 9.5)'], ['(11.0', ' 8.0', ' 9.5)'], ['(13.0', ' 10.0', ' 11.5)'], ['(11.0', ' 8.0', ' 9.5)'], ['(61.0', ' 49.0', ' 55.0)'], ['(14.0', ' 10.0', ' 12.0)'], ['(16.0', ' 12.0', ' 14.0)'], ['(12.0', ' 9.0', ' 10.5)'], ['(11.0', ' 8.0', ' 9.5)'], ['(11.0', ' 8.0', ' 9.5)'], ['(20.0', ' 16.0', ' 18.0)'], ['(18.0', ' 14.0', ' 16.0)'], ['(29.0', ' 23.0', ' 26.0)'], ['(11.0', ' 8.0', ' 9.5)'], ['(11.0', ' 8.0', ' 9.5)'], ['(13.0', ' 9.0', ' 11.0)'], ['(11.0', ' 8.0', ' 9.5)'], ['(11.0', ' 8.0', ' 9.5)'], ['(66.0', ' 53.0', ' 59.5)'], ['(12.0', ' 9.0', ' 10.5)'], ['(25.0', ' 19.0', ' 22.0)'], ['(12.0', ' 9.0', ' 10.5)'], ['(17.0', ' 13.0', ' 15.0)'], ['(17.0', ' 13.0', ' 15.0)'], ['(11.0', ' 8.0', ' 9.5)'], ['(44.0', ' 35.0', ' 39.5)'], ['(19.0', ' 15.0', ' 17.0)'], ['(11.0', ' 8.0', ' 9.5)'], ['(13.0', ' 10.0', ' 11.5)'], ['(20.0', ' 16.0', ' 18.0)'], ['(13.0', ' 10.0', ' 11.5)'], ['(13.0', ' 10.0', ' 11.5)'], ['(12.0', ' 9.0', ' 10.5)'], ['(13.0', ' 10.0', ' 11.5)'], ['(13.0', ' 10.0', ' 11.5)'], ['(11.0', ' 8.0', ' 9.5)'], ['(13.0', ' 10.0', ' 11.5)'], ['(11.0', ' 8.0', ' 9.5)'], ['(11.0', ' 8.0', ' 9.5)'], ['(23.0', ' 18.0', ' 20.5)'], ['(17.0', ' 13.0', ' 15.0)'], ['(14.0', ' 10.0', ' 12.0)'], ['(18.0', ' 14.0', ' 16.0)'], ['(11.0', ' 8.0', ' 9.5)'], ['(14.0', ' 11.0', ' 12.5)'], ['(11.0', ' 8.0', ' 9.5)'], ['(22.0', ' 17.0', ' 19.5)'], ['(11.0', ' 8.0', ' 9.5)'], ['(11.0', ' 8.0', ' 9.5)'], ['(14.0', ' 10.0', ' 12.0)'], ['(11.0', ' 8.0', ' 9.5)'], ['(11.0', ' 8.0', ' 9.5)'], ['(11.0', ' 8.0', ' 9.5)'], ['(12.0', ' 9.0', ' 10.5)'], ['(11.0', ' 8.0', ' 9.5)'], ['(71.0', ' 57.0', ' 64.0)'], ['(11.0', ' 8.0', ' 9.5)'], ['(29.0', ' 23.0', ' 26.0)'], ['(12.0', ' 9.0', ' 10.5)'], ['(15.0', ' 11.0', ' 13.0)'], ['(11.0', ' 8.0', ' 9.5)'], ['(36.0', ' 29.0', ' 32.5)'], ['(14.0', ' 11.0', ' 12.5)'], ['(12.0', ' 9.0', ' 10.5)'], ['(18.0', ' 14.0', ' 16.0)'], ['(13.0', ' 10.0', ' 11.5)'], ['(39.0', ' 31.0', ' 35.0)'], ['(14.0', ' 11.0', ' 12.5)'], ['(18.0', ' 14.0', ' 16.0)'], ['(16.0', ' 12.0', ' 14.0)'], ['(18.0', ' 13.0', ' 15.5)'], ['(39.0', ' 31.0', ' 35.0)'], ['(15.0', ' 11.0', ' 13.0)'], ['(22.0', ' 17.0', ' 19.5)'], ['(36.0', ' 28.0', ' 32.0)'], ['(34.0', ' 27.0', ' 30.5)'], ['(17.0', ' 13.0', ' 15.0)'], ['(18.0', ' 14.0', ' 16.0)'], ['(52.0', ' 42.0', ' 47.0)'], ['(41.0', ' 33.0', ' 37.0)'], ['(18.0', ' 14.0', ' 16.0)'], ['(43.0', ' 34.0', ' 38.5)'], ['(17.0', ' 13.0', ' 15.0)'], ['(17.0', ' 13.0', ' 15.0)'], ['(21.0', ' 16.0', ' 18.5)'], ['(31.0', ' 24.0', ' 27.5)'], ['(15.0', ' 11.0', ' 13.0)'], ['(17.0', ' 13.0', ' 15.0)'], ['(16.0', ' 12.0', ' 14.0)'], ['(17.0', ' 13.0', ' 15.0)'], ['(16.0', ' 12.0', ' 14.0)'], ['(17.0', ' 13.0', ' 15.0)'], ['(56.0', ' 45.0', ' 50.5)'], ['(18.0', ' 14.0', ' 16.0)'], ['(17.0', ' 13.0', ' 15.0)'], ['(17.0', ' 13.0', ' 15.0)'], ['(20.0', ' 15.0', ' 17.5)'], ['(22.0', ' 17.0', ' 19.5)'], ['(18.0', ' 14.0', ' 16.0)'], ['(27.0', ' 21.0', ' 24.0)'], ['(32.0', ' 25.0', ' 28.5)'], ['(20.0', ' 16.0', ' 18.0)'], ['(33.0', ' 26.0', ' 29.5)'], ['(73.0', ' 59.0', ' 66.0)'], ['(14.0', ' 10.0', ' 12.0)'], ['(14.0', ' 10.0', ' 12.0)'], ['(17.0', ' 13.0', ' 15.0)'], ['(13.0', ' 10.0', ' 11.5)'], ['(16.0', ' 12.0', ' 14.0)'], ['(16.0', ' 12.0', ' 14.0)'], ['(16.0', ' 12.0', ' 14.0)'], ['(53.0', ' 42.0', ' 47.5)'], ['(17.0', ' 13.0', ' 15.0)'], ['(20.0', ' 16.0', ' 18.0)'], ['(28.0', ' 22.0', ' 25.0)'], ['(15.0', ' 11.0', ' 13.0)'], ['(13.0', ' 10.0', ' 11.5)'], ['(14.0', ' 10.0', ' 12.0)'], ['(15.0', ' 11.0', ' 13.0)'], ['(15.0', ' 12.0', ' 13.5)'], ['(14.0', ' 10.0', ' 12.0)'], ['(20.0', ' 15.0', ' 17.5)'], ['(42.0', ' 33.0', ' 37.5)'], ['(13.0', ' 10.0', ' 11.5)'], ['(16.0', ' 12.0', ' 14.0)'], ['(21.0', ' 16.0', ' 18.5)'], ['(77.0', ' 62.0', ' 69.5)'], ['(81.0', ' 65.0', ' 73.0)'], ['(22.0', ' 17.0', ' 19.5)'], ['(17.0', ' 13.0', ' 15.0)'], ['(13.0', ' 10.0', ' 11.5)'], ['(15.0', ' 11.0', ' 13.0)'], ['(14.0', ' 10.0', ' 12.0)'], ['(50.0', ' 40.0', ' 45.0)'], ['(21.0', ' 16.0', ' 18.5)'], ['(13.0', ' 10.0', ' 11.5)'], ['(13.0', ' 10.0', ' 11.5)']]\n"
     ]
    }
   ],
   "source": [
    "####### STEP 2: Get Uber prediction of price (already written in file)\n",
    "uber_pricing_estimates = []\n",
    "with open('price_estimates.csv', 'r') as f:\n",
    "    r = csv.reader(f)\n",
    "    uber_pricing_estimates = list(r)\n",
    "\n",
    "uber_pricing_estimates.pop(0)\n",
    "print(uber_pricing_estimates)"
   ]
  },
  {
   "cell_type": "code",
   "execution_count": 29,
   "metadata": {},
   "outputs": [
    {
     "name": "stdout",
     "output_type": "stream",
     "text": [
      "For trip 0, Model: 1.777649        Uber:  15.0\n",
      "For trip 1, Model: 1.777649        Uber:  20.5\n",
      "For trip 2, Model: 9.365702        Uber:  62.0\n",
      "For trip 3, Model: 1.536035        Uber:  13.0\n",
      "For trip 4, Model: 1.688297        Uber:  12.5\n",
      "For trip 5, Model: 1.737873        Uber:  9.5\n",
      "For trip 6, Model: 1.737873        Uber:  9.5\n",
      "For trip 7, Model: 1.737873        Uber:  17.0\n",
      "For trip 8, Model: 1.737873        Uber:  15.0\n",
      "For trip 9, Model: 5.664146        Uber:  54.0\n",
      "For trip 10, Model: 1.737873        Uber:  9.5\n",
      "For trip 11, Model: 7.956377        Uber:  9.5\n",
      "For trip 12, Model: 1.737873        Uber:  11.5\n",
      "For trip 13, Model: 8.068120        Uber:  9.5\n",
      "For trip 14, Model: 9.132966        Uber:  55.0\n",
      "For trip 15, Model: 1.400211        Uber:  12.0\n",
      "For trip 16, Model: 1.680925        Uber:  14.0\n",
      "For trip 17, Model: 1.772032        Uber:  10.5\n",
      "For trip 18, Model: 1.772032        Uber:  9.5\n",
      "For trip 19, Model: 1.772032        Uber:  9.5\n",
      "For trip 20, Model: 1.772032        Uber:  18.0\n",
      "For trip 21, Model: 1.772032        Uber:  16.0\n",
      "For trip 22, Model: 3.998181        Uber:  26.0\n",
      "For trip 23, Model: 1.772032        Uber:  9.5\n",
      "For trip 24, Model: 8.068120        Uber:  9.5\n",
      "For trip 25, Model: 8.068120        Uber:  11.0\n",
      "For trip 26, Model: 1.462510        Uber:  9.5\n",
      "For trip 27, Model: 1.547464        Uber:  9.5\n",
      "For trip 28, Model: 8.469159        Uber:  59.5\n",
      "For trip 29, Model: 1.772032        Uber:  10.5\n",
      "For trip 30, Model: 1.772032        Uber:  22.0\n",
      "For trip 31, Model: 1.772032        Uber:  10.5\n",
      "For trip 32, Model: 1.772032        Uber:  15.0\n",
      "For trip 33, Model: 7.882479        Uber:  15.0\n",
      "For trip 34, Model: 1.772032        Uber:  9.5\n",
      "For trip 35, Model: 3.998181        Uber:  39.5\n",
      "For trip 36, Model: 8.068120        Uber:  17.0\n",
      "For trip 37, Model: 8.068120        Uber:  9.5\n",
      "For trip 38, Model: 1.370898        Uber:  11.5\n",
      "For trip 39, Model: 1.537406        Uber:  18.0\n",
      "For trip 40, Model: 1.721837        Uber:  11.5\n",
      "For trip 41, Model: 1.772032        Uber:  11.5\n",
      "For trip 42, Model: 1.772032        Uber:  10.5\n",
      "For trip 43, Model: 1.772032        Uber:  11.5\n",
      "For trip 44, Model: 1.772032        Uber:  11.5\n",
      "For trip 45, Model: 1.772032        Uber:  9.5\n",
      "For trip 46, Model: 1.772032        Uber:  11.5\n",
      "For trip 47, Model: 1.772032        Uber:  9.5\n",
      "For trip 48, Model: 8.068120        Uber:  9.5\n",
      "For trip 49, Model: 1.537406        Uber:  20.5\n",
      "For trip 50, Model: 1.715283        Uber:  15.0\n",
      "For trip 51, Model: 1.546901        Uber:  12.0\n",
      "For trip 52, Model: 1.772032        Uber:  16.0\n",
      "For trip 53, Model: 1.715283        Uber:  9.5\n",
      "For trip 54, Model: 1.772032        Uber:  12.5\n",
      "For trip 55, Model: 1.772032        Uber:  9.5\n",
      "For trip 56, Model: 1.772032        Uber:  19.5\n",
      "For trip 57, Model: 1.772032        Uber:  9.5\n",
      "For trip 58, Model: 1.772032        Uber:  9.5\n",
      "For trip 59, Model: 8.068120        Uber:  12.0\n",
      "For trip 60, Model: 8.068120        Uber:  9.5\n",
      "For trip 61, Model: 1.470022        Uber:  9.5\n",
      "For trip 62, Model: 1.402204        Uber:  9.5\n",
      "For trip 63, Model: 1.537406        Uber:  10.5\n",
      "For trip 64, Model: 1.772032        Uber:  9.5\n",
      "For trip 65, Model: 8.278829        Uber:  64.0\n",
      "For trip 66, Model: 1.772032        Uber:  9.5\n",
      "For trip 67, Model: 1.772032        Uber:  26.0\n",
      "For trip 68, Model: 1.721837        Uber:  10.5\n",
      "For trip 69, Model: 1.772032        Uber:  13.0\n",
      "For trip 70, Model: 1.772032        Uber:  9.5\n",
      "For trip 71, Model: 2.777066        Uber:  32.5\n",
      "For trip 72, Model: 8.068120        Uber:  12.5\n",
      "For trip 73, Model: 1.370898        Uber:  10.5\n",
      "For trip 74, Model: 1.536035        Uber:  16.0\n",
      "For trip 75, Model: 1.370898        Uber:  11.5\n",
      "For trip 76, Model: 3.907676        Uber:  35.0\n",
      "For trip 77, Model: 1.619943        Uber:  12.5\n",
      "For trip 78, Model: 1.715283        Uber:  16.0\n",
      "For trip 79, Model: 1.772032        Uber:  14.0\n",
      "For trip 80, Model: 1.772032        Uber:  15.5\n",
      "For trip 81, Model: 1.772032        Uber:  35.0\n",
      "For trip 82, Model: 1.772032        Uber:  13.0\n",
      "For trip 83, Model: 1.772032        Uber:  19.5\n",
      "For trip 84, Model: 8.068120        Uber:  32.0\n",
      "For trip 85, Model: 8.068120        Uber:  30.5\n",
      "For trip 86, Model: 8.068120        Uber:  15.0\n",
      "For trip 87, Model: 1.464554        Uber:  16.0\n",
      "For trip 88, Model: 2.777066        Uber:  47.0\n",
      "For trip 89, Model: 1.688297        Uber:  37.0\n",
      "For trip 90, Model: 1.772032        Uber:  16.0\n",
      "For trip 91, Model: 1.915997        Uber:  38.5\n",
      "For trip 92, Model: 1.772032        Uber:  15.0\n",
      "For trip 93, Model: 1.772032        Uber:  15.0\n",
      "For trip 94, Model: 1.772032        Uber:  18.5\n",
      "For trip 95, Model: 1.772032        Uber:  27.5\n",
      "For trip 96, Model: 1.772032        Uber:  13.0\n",
      "For trip 97, Model: 1.772032        Uber:  15.0\n",
      "For trip 98, Model: 8.068120        Uber:  14.0\n",
      "For trip 99, Model: 1.464554        Uber:  15.0\n",
      "For trip 100, Model: 1.402204        Uber:  14.0\n",
      "For trip 101, Model: 1.543041        Uber:  15.0\n",
      "For trip 102, Model: 9.136812        Uber:  50.5\n",
      "For trip 103, Model: 1.772032        Uber:  16.0\n",
      "For trip 104, Model: 1.772032        Uber:  15.0\n",
      "For trip 105, Model: 1.772032        Uber:  15.0\n",
      "For trip 106, Model: 1.772032        Uber:  17.5\n",
      "For trip 107, Model: 1.772032        Uber:  19.5\n",
      "For trip 108, Model: 1.772032        Uber:  16.0\n",
      "For trip 109, Model: 1.772032        Uber:  24.0\n",
      "For trip 110, Model: 8.068120        Uber:  28.5\n",
      "For trip 111, Model: 8.068120        Uber:  18.0\n",
      "For trip 112, Model: 8.068120        Uber:  29.5\n",
      "For trip 113, Model: 21.533648        Uber:  66.0\n",
      "For trip 114, Model: 1.448452        Uber:  12.0\n",
      "For trip 115, Model: 1.549578        Uber:  12.0\n",
      "For trip 116, Model: 1.647116        Uber:  15.0\n",
      "For trip 117, Model: 1.688297        Uber:  11.5\n",
      "For trip 118, Model: 1.772032        Uber:  14.0\n",
      "For trip 119, Model: 1.772032        Uber:  14.0\n",
      "For trip 120, Model: 1.772032        Uber:  14.0\n",
      "For trip 121, Model: 26.032761        Uber:  47.5\n",
      "For trip 122, Model: 1.772032        Uber:  15.0\n",
      "For trip 123, Model: 8.068120        Uber:  18.0\n",
      "For trip 124, Model: 8.068120        Uber:  25.0\n",
      "For trip 125, Model: 1.464554        Uber:  13.0\n",
      "For trip 126, Model: 1.370898        Uber:  11.5\n",
      "For trip 127, Model: 1.543041        Uber:  12.0\n",
      "For trip 128, Model: 1.688297        Uber:  13.0\n",
      "For trip 129, Model: 1.681824        Uber:  13.5\n",
      "For trip 130, Model: 1.772032        Uber:  12.0\n",
      "For trip 131, Model: 1.772032        Uber:  17.5\n",
      "For trip 132, Model: 1.781718        Uber:  37.5\n",
      "For trip 133, Model: 1.772032        Uber:  11.5\n",
      "For trip 134, Model: 1.772032        Uber:  14.0\n",
      "For trip 135, Model: 8.068120        Uber:  18.5\n",
      "For trip 136, Model: 9.452348        Uber:  69.5\n",
      "For trip 137, Model: 9.556042        Uber:  73.0\n",
      "For trip 138, Model: 1.652630        Uber:  19.5\n",
      "For trip 139, Model: 1.684318        Uber:  15.0\n",
      "For trip 140, Model: 1.721837        Uber:  11.5\n",
      "For trip 141, Model: 1.772032        Uber:  13.0\n",
      "For trip 142, Model: 1.772032        Uber:  12.0\n",
      "For trip 143, Model: 9.136812        Uber:  45.0\n",
      "For trip 144, Model: 1.772032        Uber:  18.5\n",
      "For trip 145, Model: 1.772032        Uber:  11.5\n",
      "For trip 146, Model: 1.772032        Uber:  11.5\n"
     ]
    }
   ],
   "source": [
    "assert(len(model_results) == len(uber_pricing_estimates))\n",
    "\n",
    "for i in range(len(model_results)):\n",
    "    uber_hi, uber_lo, uber_avg = uber_pricing_estimates[i]\n",
    "    #Weird formatting stuff, ignore for now\n",
    "    uber_avg = uber_avg[:len(uber_avg)-1]\n",
    "    uber_hi = uber_hi[1:]\n",
    "\n",
    "    our_estimate = model_results[i]\n",
    "    \n",
    "    print(\"For trip %d, Model: %f        Uber: %s\" % (i, our_estimate, uber_avg))"
   ]
  },
  {
   "cell_type": "code",
   "execution_count": null,
   "metadata": {
    "collapsed": true
   },
   "outputs": [],
   "source": []
  }
 ],
 "metadata": {
  "kernelspec": {
   "display_name": "Python 3",
   "language": "python",
   "name": "python3"
  },
  "language_info": {
   "codemirror_mode": {
    "name": "ipython",
    "version": 3
   },
   "file_extension": ".py",
   "mimetype": "text/x-python",
   "name": "python",
   "nbconvert_exporter": "python",
   "pygments_lexer": "ipython3",
   "version": "3.6.3"
  }
 },
 "nbformat": 4,
 "nbformat_minor": 2
}
