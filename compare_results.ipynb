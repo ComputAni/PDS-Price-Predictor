{
 "cells": [
  {
   "cell_type": "code",
   "execution_count": 73,
   "metadata": {},
   "outputs": [
    {
     "ename": "ModuleNotFoundError",
     "evalue": "No module named 'uber_rides'",
     "output_type": "error",
     "traceback": [
      "\u001b[1;31m---------------------------------------------------------------------------\u001b[0m",
      "\u001b[1;31mModuleNotFoundError\u001b[0m                       Traceback (most recent call last)",
      "\u001b[1;32m<ipython-input-73-c641a9420b36>\u001b[0m in \u001b[0;36m<module>\u001b[1;34m()\u001b[0m\n\u001b[0;32m      9\u001b[0m \u001b[1;32mimport\u001b[0m \u001b[0mnumpy\u001b[0m \u001b[1;32mas\u001b[0m \u001b[0mnp\u001b[0m\u001b[1;33m\u001b[0m\u001b[0m\n\u001b[0;32m     10\u001b[0m \u001b[1;32mfrom\u001b[0m \u001b[0mpandas\u001b[0m\u001b[1;33m.\u001b[0m\u001b[0mtseries\u001b[0m\u001b[1;33m.\u001b[0m\u001b[0mholiday\u001b[0m \u001b[1;32mimport\u001b[0m \u001b[0mUSFederalHolidayCalendar\u001b[0m\u001b[1;33m\u001b[0m\u001b[0m\n\u001b[1;32m---> 11\u001b[1;33m \u001b[1;32mfrom\u001b[0m \u001b[0muberPrice\u001b[0m \u001b[1;32mimport\u001b[0m \u001b[0mgetPriceNow\u001b[0m\u001b[1;33m\u001b[0m\u001b[0m\n\u001b[0m",
      "\u001b[1;32m~\\Desktop\\PDS-Price-Predictor\\uberPrice.py\u001b[0m in \u001b[0;36m<module>\u001b[1;34m()\u001b[0m\n\u001b[1;32m----> 1\u001b[1;33m \u001b[1;32mfrom\u001b[0m \u001b[0muber_rides\u001b[0m\u001b[1;33m.\u001b[0m\u001b[0msession\u001b[0m \u001b[1;32mimport\u001b[0m \u001b[0mSession\u001b[0m\u001b[1;33m\u001b[0m\u001b[0m\n\u001b[0m\u001b[0;32m      2\u001b[0m \u001b[1;32mfrom\u001b[0m \u001b[0muber_rides\u001b[0m\u001b[1;33m.\u001b[0m\u001b[0mclient\u001b[0m \u001b[1;32mimport\u001b[0m \u001b[0mUberRidesClient\u001b[0m\u001b[1;33m\u001b[0m\u001b[0m\n\u001b[0;32m      3\u001b[0m \u001b[1;32mimport\u001b[0m \u001b[0mtime\u001b[0m\u001b[1;33m\u001b[0m\u001b[0m\n\u001b[0;32m      4\u001b[0m \u001b[1;33m\u001b[0m\u001b[0m\n\u001b[0;32m      5\u001b[0m \u001b[1;33m\u001b[0m\u001b[0m\n",
      "\u001b[1;31mModuleNotFoundError\u001b[0m: No module named 'uber_rides'"
     ]
    }
   ],
   "source": [
    "import pandas as pd\n",
    "from datetime import datetime\n",
    "from bs4 import BeautifulSoup\n",
    "import requests\n",
    "from unicodedata import normalize\n",
    "import re, copy, random, time\n",
    "from geopy.geocoders import Nominatim\n",
    "from geopy.distance import geodesic\n",
    "import numpy as np\n",
    "from pandas.tseries.holiday import USFederalHolidayCalendar\n",
    "from uberPrice import getPriceNow"
   ]
  },
  {
   "cell_type": "code",
   "execution_count": 57,
   "metadata": {},
   "outputs": [
    {
     "name": "stdout",
     "output_type": "stream",
     "text": [
      "['dropoff_latitude' 'dropoff_longitude' 'pickup_latitude'\n",
      " 'pickup_longitude' 'total_amount' 'tpep_dropoff_datetime'\n",
      " 'tpep_pickup_datetime' 'start_latlng' 'end_latlng' 'distance'\n",
      " 'tpep_dropoff_datetime_years' 'tpep_dropoff_datetime_months'\n",
      " 'tpep_dropoff_datetime_days' 'tpep_dropoff_datetime_hours'\n",
      " 'tpep_dropoff_datetime_minutes' 'tpep_dropoff_datetime_seconds'\n",
      " 'tpep_dropoff_datetime_day_of_week' 'tpep_dropoff_datetime_is_holiday'\n",
      " 'tpep_pickup_datetime_years' 'tpep_pickup_datetime_months'\n",
      " 'tpep_pickup_datetime_days' 'tpep_pickup_datetime_hours'\n",
      " 'tpep_pickup_datetime_minutes' 'tpep_pickup_datetime_seconds'\n",
      " 'tpep_pickup_datetime_day_of_week' 'tpep_pickup_datetime_is_holiday'\n",
      " 'duration' 'Mean Temperature' 'Max Temperature' 'Min Temperature'\n",
      " 'Dew Point' 'Average Humidity' 'Precipitation' 'Snow' 'Wind Speed'\n",
      " 'Visibility']\n"
     ]
    }
   ],
   "source": [
    "#Step 1, Read the dataset with features, clean any unecessary stuff\n",
    "cab_data = pd.read_csv(\"data_with_features.csv\")\n",
    "del cab_data[\"Unnamed: 0\"]\n",
    "del cab_data[\"Unnamed: 0.1\"]\n",
    "del cab_data[\"Unnamed: 0.1.1\"]\n",
    "#Print columns to validate\n",
    "print(cab_data.columns.values)"
   ]
  },
  {
   "cell_type": "code",
   "execution_count": 59,
   "metadata": {},
   "outputs": [
    {
     "name": "stdout",
     "output_type": "stream",
     "text": [
      "Data size:  978979\n",
      "Data size:  978979\n"
     ]
    }
   ],
   "source": [
    "#Filter out any nonzero price values\n",
    "price_filter = cab_data[\"total_amount\"] > 0\n",
    "cab_data = cab_data[price_filter]\n",
    "\n",
    "print(\"Data size: \", len(cab_data))\n",
    "\n",
    "#Filter out any negative distance values\n",
    "dist_filter = cab_data['distance'] > 0\n",
    "cab_data = cab_data[dist_filter]\n",
    "\n",
    "data_size = len(cab_data)\n",
    "print(\"Data size: \", data_size)"
   ]
  },
  {
   "cell_type": "markdown",
   "metadata": {},
   "source": [
    "Okay great! The data is clean and is ready to be processed!"
   ]
  },
  {
   "cell_type": "code",
   "execution_count": 65,
   "metadata": {},
   "outputs": [
    {
     "name": "stdout",
     "output_type": "stream",
     "text": [
      "We will be making 288 calls to uber API.\n"
     ]
    }
   ],
   "source": [
    "#Step 1: Determine interval for sampling Uber API\n",
    "time_period = 24*60 #In minutes\n",
    "sample_rate = 5 #In 1 sample per *sample_rate* minutes\n",
    "num_samples = time_period // sample_rate\n",
    "print(\"We will be making %d calls to uber API.\" % num_samples)\n",
    "\n",
    "#Step 2: Get random subset of data to use as test points\n",
    "sample_data = cab_data.sample(n=num_samples)\n",
    "sample_data = sample_data[['start_latlng', 'end_latlng', 'distance', 'duration']]\n",
    "#print(sample_data)"
   ]
  },
  {
   "cell_type": "code",
   "execution_count": 61,
   "metadata": {},
   "outputs": [
    {
     "name": "stdout",
     "output_type": "stream",
     "text": [
      "2018-05-05 13:46:59.683784 2018-05-05 13:46:59.683784\n",
      "2018 5 5\n"
     ]
    }
   ],
   "source": [
    "#Step 3: Initialize weather and datetime features for our sample data\n",
    "start_date = datetime.now()\n",
    "end_date = datetime.now()\n",
    "print(start_date, end_date)\n",
    "date_features = init_weather_features(start_date, end_date)"
   ]
  },
  {
   "cell_type": "code",
   "execution_count": 71,
   "metadata": {},
   "outputs": [
    {
     "name": "stdout",
     "output_type": "stream",
     "text": [
      "start_latlng    40.788288, -73.978569\n",
      "end_latlng      40.793098, -73.967430\n",
      "distance                      0.67188\n",
      "duration                            9\n",
      "Name: 668600, dtype: object\n",
      "start_latlng    40.728634, -73.976318\n",
      "end_latlng      40.723362, -73.988319\n",
      "distance                     0.727481\n",
      "duration                            7\n",
      "Name: 607382, dtype: object\n",
      "start_latlng    40.725578, -73.999916\n",
      "end_latlng      40.735634, -74.008118\n",
      "distance                     0.816604\n",
      "duration                            7\n",
      "Name: 683101, dtype: object\n"
     ]
    },
    {
     "ename": "KeyboardInterrupt",
     "evalue": "",
     "output_type": "error",
     "traceback": [
      "\u001b[1;31m---------------------------------------------------------------------------\u001b[0m",
      "\u001b[1;31mKeyboardInterrupt\u001b[0m                         Traceback (most recent call last)",
      "\u001b[1;32m<ipython-input-71-82e553d48881>\u001b[0m in \u001b[0;36m<module>\u001b[1;34m()\u001b[0m\n\u001b[0;32m      4\u001b[0m \u001b[1;33m\u001b[0m\u001b[0m\n\u001b[0;32m      5\u001b[0m \u001b[1;33m\u001b[0m\u001b[0m\n\u001b[1;32m----> 6\u001b[1;33m     \u001b[0mtime\u001b[0m\u001b[1;33m.\u001b[0m\u001b[0msleep\u001b[0m\u001b[1;33m(\u001b[0m\u001b[1;36m5\u001b[0m\u001b[1;33m)\u001b[0m\u001b[1;33m\u001b[0m\u001b[0m\n\u001b[0m",
      "\u001b[1;31mKeyboardInterrupt\u001b[0m: "
     ]
    }
   ],
   "source": [
    "for (idx,row) in sample_data.iterrows():\n",
    "    curr_time = datetime.now()\n",
    "    \n",
    "    \n",
    "    \n",
    "    time.sleep(5)"
   ]
  },
  {
   "cell_type": "code",
   "execution_count": 45,
   "metadata": {},
   "outputs": [
    {
     "name": "stdout",
     "output_type": "stream",
     "text": [
      "26\n"
     ]
    }
   ],
   "source": [
    "feature_names = [\"distance\", 'tpep_dropoff_datetime_years', 'tpep_dropoff_datetime_months',\n",
    "       'tpep_dropoff_datetime_days', 'tpep_dropoff_datetime_hours',\n",
    "       'tpep_dropoff_datetime_minutes', 'tpep_dropoff_datetime_seconds',\n",
    "       'tpep_dropoff_datetime_day_of_week',\n",
    "       'tpep_dropoff_datetime_is_holiday', 'tpep_pickup_datetime_years',\n",
    "       'tpep_pickup_datetime_months', 'tpep_pickup_datetime_days',\n",
    "       'tpep_pickup_datetime_hours', 'tpep_pickup_datetime_minutes',\n",
    "       'tpep_pickup_datetime_seconds', 'tpep_pickup_datetime_day_of_week',\n",
    "       'tpep_pickup_datetime_is_holiday', 'Mean Temperature',\n",
    "       'Max Temperature', 'Min Temperature', 'Dew Point',\n",
    "       'Average Humidity', 'Precipitation', 'Snow', 'Wind Speed',\n",
    "       'Visibility']\n",
    "\n",
    "print(len(feature_names))"
   ]
  }
 ],
 "metadata": {
  "kernelspec": {
   "display_name": "Python 3",
   "language": "python",
   "name": "python3"
  },
  "language_info": {
   "codemirror_mode": {
    "name": "ipython",
    "version": 3
   },
   "file_extension": ".py",
   "mimetype": "text/x-python",
   "name": "python",
   "nbconvert_exporter": "python",
   "pygments_lexer": "ipython3",
   "version": "3.6.3"
  }
 },
 "nbformat": 4,
 "nbformat_minor": 2
}
