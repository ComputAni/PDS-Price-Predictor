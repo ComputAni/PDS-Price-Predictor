{
 "cells": [
  {
   "cell_type": "code",
   "execution_count": 1,
   "metadata": {
    "collapsed": true
   },
   "outputs": [],
   "source": [
    "import pandas as pd\n",
    "import datetime\n",
    "from bs4 import BeautifulSoup\n",
    "import requests\n",
    "from unicodedata import normalize\n",
    "import re"
   ]
  },
  {
   "cell_type": "code",
   "execution_count": 3,
   "metadata": {
    "collapsed": true
   },
   "outputs": [],
   "source": [
    "#cab_data = pd.read_csv(\"cab_data_p2.csv\")"
   ]
  },
  {
   "cell_type": "code",
   "execution_count": 2,
   "metadata": {
    "collapsed": true
   },
   "outputs": [],
   "source": [
    "# Get weather data for 2016 and returns dictionary of date features\n",
    "def init_weather_features(start_date, end_date):\n",
    "    date = start_date\n",
    "    date_to_features = dict()\n",
    "    # weather related features to extract\n",
    "    feature_names = [\"Mean Temperature\",\n",
    "                    \"Max Temperature\",\n",
    "                    \"Min Temperature\",\n",
    "                    \"Dew Point\",\n",
    "                    \"Average Humidity\",\n",
    "                    \"Precipitation\",\n",
    "                    \"Snow\",\n",
    "                    \"Wind Speed\",\n",
    "                    \"Visibility\"]\n",
    "    while (date <= end_date):\n",
    "        # station: KNYC (Central Park, New York)\n",
    "        (year, month, day) = (date.year, date.month, date.day)\n",
    "        print(year, month, day)\n",
    "\n",
    "        # Get the HTML of the weather webpage\n",
    "        url_format_string = \"http://www.wunderground.com/history/airport/KNYC/{year}/{month}/{day}/DailyHistory.html\"\n",
    "        url = url_format_string.format(year=year, month=month, day=day)\n",
    "        response = requests.get(url)\n",
    "\n",
    "        if response.status_code != 200:\n",
    "            print(\"An error occurred while getting NYC weather data for {day}-{month}-{year}\".format(\n",
    "            year=year, month=month, day=day))\n",
    "        else:\n",
    "            features = dict()\n",
    "            html = response.content\n",
    "            soup = BeautifulSoup(html, \"lxml\")\n",
    "            table = soup.find_all(attrs={'id': 'historyTable'})[0]\n",
    "\n",
    "            table_rows = table.find_all('tr')\n",
    "            feature_list = []\n",
    "            found_features = [False, False, False, False, False, False, False, False, False]\n",
    "            # Loop through the entries of the table to find weather features\n",
    "            for tr in table_rows:\n",
    "                td = tr.find_all('td')\n",
    "                # normalize the text to account for string encoding\n",
    "                row = [normalize('NFKD', i.text) for i in td]\n",
    "\n",
    "                # There are multiple rows named 'snow' and 'precipitation'\n",
    "                # Use len(row) > 2 to get the \"right\" rows\n",
    "                if len(row) > 2 and row[0] in feature_names:\n",
    "                    data = row[1].strip() # remove extraneous whitespace\n",
    "                    result = re.sub('[^0-9.]','', data) # remove all alphabetic characters\n",
    "                    if result == \"\": # if there's no feature value (e.g.: T, for traces of precipitation/snow)\n",
    "                        result = 0\n",
    "                    features[row[0]] = result\n",
    "                    found_features[feature_names.index(row[0])] = True\n",
    "                    feature_list.append(result)\n",
    "\n",
    "            # If a feature is not present in the table, set it to a default value: 0\n",
    "            for found_feature, feature_name in zip(found_features, feature_names):\n",
    "                if (not found_feature):\n",
    "                    features[feature_name] = 0\n",
    "            assert(len(features) == len(feature_names))\n",
    "            date_to_features[date] = features\n",
    "        date = date + datetime.timedelta(1)\n",
    "        \n",
    "    return date_to_features\n",
    "\n"
   ]
  },
  {
   "cell_type": "code",
   "execution_count": 5,
   "metadata": {},
   "outputs": [
    {
     "name": "stdout",
     "output_type": "stream",
     "text": [
      "2018 5 5\n"
     ]
    }
   ],
   "source": [
    "#start_date = datetime.datetime(2018, 5, 5)\n",
    "#end_date = datetime.datetime(2018, 5, 5)\n",
    "#date_features = init_weather_features(start_date, end_date)"
   ]
  },
  {
   "cell_type": "code",
   "execution_count": 3,
   "metadata": {},
   "outputs": [],
   "source": [
    "# insert method for dictionary (list of values for each key)\n",
    "def dict_insert(d, key, val):\n",
    "    if key in d:\n",
    "        d[key].append(val)\n",
    "    else:\n",
    "        d[key] = [val]\n",
    "\n",
    "# put the weather-related features into the dataframe\n",
    "def create_weather_features(df, date_to_features):\n",
    "    \n",
    "    dt_format = '%Y-%m-%dT%H:%M:%S.%f'\n",
    "    weather_features = dict()\n",
    "    for time in df[\"tpep_dropoff_datetime\"]:\n",
    "        # Extract the datetime object from the timestamp\n",
    "        dt = datetime.datetime.strptime(time, dt_format)\n",
    "        y_m_d = datetime.datetime(dt.year, dt.month, dt.day)\n",
    "        weather_dict = date_to_features[y_m_d]\n",
    "        for feature_name in weather_dict:\n",
    "            dict_insert(weather_features, feature_name, weather_dict[feature_name])\n",
    "        \n",
    "    for feature_name in weather_features:\n",
    "        df[feature_name] = weather_features[feature_name]\n",
    "    return df\n",
    "\n",
    "#cab_data = create_weather_features(cab_data, date_features)"
   ]
  },
  {
   "cell_type": "code",
   "execution_count": 90,
   "metadata": {},
   "outputs": [
    {
     "name": "stdout",
     "output_type": "stream",
     "text": [
      "Unnamed: 0                                500324\n",
      "dropoff_latitude                          40.774\n",
      "dropoff_longitude                       -73.8709\n",
      "extra                                          0\n",
      "fare_amount                                   31\n",
      "improvement_surcharge                        0.3\n",
      "mta_tax                                      0.5\n",
      "passenger_count                                2\n",
      "payment_type                                   1\n",
      "pickup_latitude                          40.7569\n",
      "pickup_longitude                        -73.9731\n",
      "ratecodeid                                     1\n",
      "store_and_fwd_flag                             N\n",
      "tip_amount                                     5\n",
      "tolls_amount                                5.54\n",
      "total_amount                               42.34\n",
      "tpep_dropoff_datetime    2016-04-12T10:28:02.000\n",
      "tpep_pickup_datetime     2016-04-12T10:05:28.000\n",
      "trip_distance                               10.7\n",
      "vendorid                                       1\n",
      "Mean Temperature                              52\n",
      "Max Temperature                               59\n",
      "Min Temperature                               45\n",
      "Dew Point                                     37\n",
      "Average Humidity                              61\n",
      "Precipitation                               0.20\n",
      "Snow                                        0.00\n",
      "Wind Speed                                     6\n",
      "Visibility                                     9\n",
      "Name: 0, dtype: object\n"
     ]
    }
   ],
   "source": [
    "# Inspect our newly created weather features\n",
    "#print(cab_data.iloc[0])"
   ]
  }
 ],
 "metadata": {
  "kernelspec": {
   "display_name": "Python 3",
   "language": "python",
   "name": "python3"
  },
  "language_info": {
   "codemirror_mode": {
    "name": "ipython",
    "version": 3
   },
   "file_extension": ".py",
   "mimetype": "text/x-python",
   "name": "python",
   "nbconvert_exporter": "python",
   "pygments_lexer": "ipython3",
   "version": "3.6.3"
  }
 },
 "nbformat": 4,
 "nbformat_minor": 2
}
