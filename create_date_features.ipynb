{
 "cells": [
  {
   "cell_type": "code",
   "execution_count": 5,
   "metadata": {
    "collapsed": true
   },
   "outputs": [],
   "source": [
    "import pandas as pd\n",
    "from datetime import datetime\n",
    "from pandas.tseries.holiday import USFederalHolidayCalendar"
   ]
  },
  {
   "cell_type": "code",
   "execution_count": 6,
   "metadata": {
    "collapsed": true
   },
   "outputs": [],
   "source": [
    "#cab_data = pd.read_csv(\"cab_data_p2.csv\")"
   ]
  },
  {
   "cell_type": "code",
   "execution_count": 3,
   "metadata": {},
   "outputs": [
    {
     "name": "stdout",
     "output_type": "stream",
     "text": [
      "Unnamed: 0                                500324\n",
      "dropoff_latitude                          40.774\n",
      "dropoff_longitude                       -73.8709\n",
      "extra                                          0\n",
      "fare_amount                                   31\n",
      "improvement_surcharge                        0.3\n",
      "mta_tax                                      0.5\n",
      "passenger_count                                2\n",
      "payment_type                                   1\n",
      "pickup_latitude                          40.7569\n",
      "pickup_longitude                        -73.9731\n",
      "ratecodeid                                     1\n",
      "store_and_fwd_flag                             N\n",
      "tip_amount                                     5\n",
      "tolls_amount                                5.54\n",
      "total_amount                               42.34\n",
      "tpep_dropoff_datetime    2016-04-12T10:28:02.000\n",
      "tpep_pickup_datetime     2016-04-12T10:05:28.000\n",
      "trip_distance                               10.7\n",
      "vendorid                                       1\n",
      "Name: 0, dtype: object\n"
     ]
    }
   ],
   "source": [
    "#print(cab_data.iloc[0])"
   ]
  },
  {
   "cell_type": "code",
   "execution_count": 4,
   "metadata": {
    "collapsed": true
   },
   "outputs": [],
   "source": [
    "# US Holidays Test Code\n",
    "#cal = USFederalHolidayCalendar()\n",
    "#us_holidays = cal.holidays(start='2016-01-01', end='2016-12-31').to_pydatetime()\n",
    "#dt = datetime(2016, 1, 18)\n",
    "#assert(dt in us_holidays)\n",
    "#dt = datetime(2016, 1, 19)\n",
    "#assert(dt not in us_holidays)"
   ]
  },
  {
   "cell_type": "code",
   "execution_count": 9,
   "metadata": {
    "collapsed": true
   },
   "outputs": [],
   "source": [
    "def create_date_features(df, start_date, end_date):\n",
    "    dt_format = '%Y-%m-%dT%H:%M:%S.%f'\n",
    "    # Get the list of US federal hollidays\n",
    "    cal = USFederalHolidayCalendar()\n",
    "    us_holidays = cal.holidays(start=start_date, end=end_date).to_pydatetime()\n",
    "    \n",
    "    date_feature_names = [\"tpep_dropoff_datetime\", \"tpep_pickup_datetime\"]\n",
    "    date_feature_to_datetimes = {\"tpep_dropoff_datetime\" : [],\n",
    "                                 \"tpep_pickup_datetime\" : []}\n",
    "    for feature_name in date_feature_names:\n",
    "        y, mo, d = [], [], [] # Year, Month, Day\n",
    "        h, mi, s = [], [], [] # Hours, Minutes, Seconds\n",
    "        day_of_week = [] # Day of the Week\n",
    "        is_holiday = [] # Is the date a holiday?\n",
    "        for time in df[feature_name]:\n",
    "            # Extract the datetime object from the timestamp\n",
    "            dt = datetime.strptime(time, dt_format)\n",
    "            date_feature_to_datetimes[feature_name].append(dt)\n",
    "            # Add the Year/Month/Day\n",
    "            y.append(dt.year)\n",
    "            mo.append(dt.month)\n",
    "            d.append(dt.day)\n",
    "            # Add Hour/Minute/Second\n",
    "            h.append(dt.hour)\n",
    "            mi.append(dt.minute)\n",
    "            s.append(dt.second)\n",
    "            # Add Day of the Week\n",
    "            day_of_week.append(dt.weekday())\n",
    "            # Add is_holiday\n",
    "            y_m_d = datetime(dt.year, dt.month, dt.day)\n",
    "            is_holiday.append(1 if y_m_d in us_holidays else 0)\n",
    "        df[feature_name + \"_years\"] = y\n",
    "        df[feature_name + \"_months\"] = mo\n",
    "        df[feature_name + \"_days\"] = d\n",
    "        df[feature_name + \"_hours\"] = h\n",
    "        df[feature_name + \"_minutes\"] = mi\n",
    "        df[feature_name + \"_seconds\"] = s\n",
    "        df[feature_name + \"_day_of_week\"] = day_of_week\n",
    "        df[feature_name + \"_is_holiday\"] = is_holiday\n",
    "    durations = []\n",
    "    for dropoff_time, pickup_time in zip(date_feature_to_datetimes[\"tpep_dropoff_datetime\"],\n",
    "                                         date_feature_to_datetimes[\"tpep_pickup_datetime\"]):\n",
    "        duration = (dropoff_time - pickup_time).total_seconds() / 60.0\n",
    "        durations.append(round(duration))\n",
    "    \n",
    "    df[\"duration\"] = durations\n",
    "    return df\n",
    "#start = '2016-01-01'\n",
    "#end = '2016-12-31'\n",
    "#cab_data = create_date_features(cab_data, start, end)"
   ]
  },
  {
   "cell_type": "code",
   "execution_count": 6,
   "metadata": {},
   "outputs": [
    {
     "data": {
      "text/plain": [
       "'\\nprint(\"Distribution of Months\")\\nprint(cab_data[\"tpep_dropoff_datetime_months\"].value_counts())\\nprint(\"Distribution of Holidays\")\\nprint(cab_data[\"tpep_dropoff_datetime_is_holiday\"].value_counts())\\n'"
      ]
     },
     "execution_count": 6,
     "metadata": {},
     "output_type": "execute_result"
    }
   ],
   "source": [
    "# Check Distribution of months and holidays\n",
    "\"\"\"\n",
    "print(\"Distribution of Months\")\n",
    "print(cab_data[\"tpep_dropoff_datetime_months\"].value_counts())\n",
    "print(\"Distribution of Holidays\")\n",
    "print(cab_data[\"tpep_dropoff_datetime_is_holiday\"].value_counts())\n",
    "\"\"\""
   ]
  },
  {
   "cell_type": "code",
   "execution_count": 7,
   "metadata": {
    "collapsed": true
   },
   "outputs": [],
   "source": [
    "#print(cab_data[\"dropoff_longitude\"].value_counts())"
   ]
  },
  {
   "cell_type": "code",
   "execution_count": 11,
   "metadata": {
    "collapsed": true
   },
   "outputs": [],
   "source": [
    "#cal = USFederalHolidayCalendar()\n",
    "#us_holidays = cal.holidays(start='2016-01-01', end='2016-12-31').to_pydatetime()"
   ]
  },
  {
   "cell_type": "code",
   "execution_count": 8,
   "metadata": {
    "collapsed": true
   },
   "outputs": [],
   "source": [
    "#print(us_holidays)"
   ]
  },
  {
   "cell_type": "code",
   "execution_count": null,
   "metadata": {
    "collapsed": true
   },
   "outputs": [],
   "source": []
  }
 ],
 "metadata": {
  "kernelspec": {
   "display_name": "Python 3",
   "language": "python",
   "name": "python3"
  },
  "language_info": {
   "codemirror_mode": {
    "name": "ipython",
    "version": 3
   },
   "file_extension": ".py",
   "mimetype": "text/x-python",
   "name": "python",
   "nbconvert_exporter": "python",
   "pygments_lexer": "ipython3",
   "version": "3.6.3"
  }
 },
 "nbformat": 4,
 "nbformat_minor": 2
}
