{
 "cells": [
  {
   "cell_type": "code",
   "execution_count": 1,
   "metadata": {
    "collapsed": true
   },
   "outputs": [],
   "source": [
    "import pandas as pd\n",
    "from datetime import datetime\n",
    "from pandas.tseries.holiday import USFederalHolidayCalendar"
   ]
  },
  {
   "cell_type": "code",
   "execution_count": 2,
   "metadata": {},
   "outputs": [],
   "source": [
    "cab_data = pd.read_csv(\"cab_data_p2.csv\")"
   ]
  },
  {
   "cell_type": "code",
   "execution_count": 3,
   "metadata": {},
   "outputs": [
    {
     "name": "stdout",
     "output_type": "stream",
     "text": [
      "Unnamed: 0                                500324\n",
      "dropoff_latitude                          40.774\n",
      "dropoff_longitude                       -73.8709\n",
      "extra                                          0\n",
      "fare_amount                                   31\n",
      "improvement_surcharge                        0.3\n",
      "mta_tax                                      0.5\n",
      "passenger_count                                2\n",
      "payment_type                                   1\n",
      "pickup_latitude                          40.7569\n",
      "pickup_longitude                        -73.9731\n",
      "ratecodeid                                     1\n",
      "store_and_fwd_flag                             N\n",
      "tip_amount                                     5\n",
      "tolls_amount                                5.54\n",
      "total_amount                               42.34\n",
      "tpep_dropoff_datetime    2016-04-12T10:28:02.000\n",
      "tpep_pickup_datetime     2016-04-12T10:05:28.000\n",
      "trip_distance                               10.7\n",
      "vendorid                                       1\n",
      "Name: 0, dtype: object\n"
     ]
    }
   ],
   "source": [
    "print(cab_data.iloc[0])"
   ]
  },
  {
   "cell_type": "code",
   "execution_count": 4,
   "metadata": {
    "collapsed": true
   },
   "outputs": [],
   "source": [
    "# US Holidays Test Code\n",
    "cal = USFederalHolidayCalendar()\n",
    "us_holidays = cal.holidays(start='2016-01-01', end='2016-12-31').to_pydatetime()\n",
    "dt = datetime(2016, 1, 18)\n",
    "assert(dt in us_holidays)\n",
    "dt = datetime(2016, 1, 19)\n",
    "assert(dt not in us_holidays)"
   ]
  },
  {
   "cell_type": "code",
   "execution_count": 7,
   "metadata": {},
   "outputs": [],
   "source": [
    "def create_date_features(df):\n",
    "    dt_format = '%Y-%m-%dT%H:%M:%S.000'\n",
    "    # Get the list of US federal hollidays\n",
    "    cal = USFederalHolidayCalendar()\n",
    "    us_holidays = cal.holidays(start='2016-01-01', end='2016-12-31').to_pydatetime()\n",
    "    \n",
    "    date_feature_names = [\"tpep_dropoff_datetime\", \"tpep_pickup_datetime\"]\n",
    "    date_feature_to_datetimes = {\"tpep_dropoff_datetime\" : [],\n",
    "                                 \"tpep_pickup_datetime\" : []}\n",
    "    for feature_name in date_feature_names:\n",
    "        y, mo, d = [], [], [] # Year, Month, Day\n",
    "        h, mi, s = [], [], [] # Hours, Minutes, Seconds\n",
    "        day_of_week = [] # Day of the Week\n",
    "        is_holiday = [] # Is the date a holiday?\n",
    "        for time in df[feature_name]:\n",
    "            # Extract the datetime object from the timestamp\n",
    "            dt = datetime.strptime(time, dt_format)\n",
    "            date_feature_to_datetimes[feature_name].append(dt)\n",
    "            # Add the Year/Month/Day\n",
    "            y.append(dt.year)\n",
    "            mo.append(dt.month)\n",
    "            d.append(dt.day)\n",
    "            # Add Hour/Minute/Second\n",
    "            h.append(dt.hour)\n",
    "            mi.append(dt.minute)\n",
    "            s.append(dt.second)\n",
    "            # Add Day of the Week\n",
    "            day_of_week.append(dt.weekday())\n",
    "            # Add is_holiday\n",
    "            y_m_d = datetime(dt.year, dt.month, dt.day)\n",
    "            is_holiday.append(1 if y_m_d in us_holidays else 0)\n",
    "        df[feature_name + \"_years\"] = y\n",
    "        df[feature_name + \"_months\"] = mo\n",
    "        df[feature_name + \"_days\"] = d\n",
    "        df[feature_name + \"_hours\"] = h\n",
    "        df[feature_name + \"_minutes\"] = mi\n",
    "        df[feature_name + \"_seconds\"] = s\n",
    "        df[feature_name + \"_day_of_week\"] = day_of_week\n",
    "        df[feature_name + \"_is_holiday\"] = is_holiday\n",
    "    durations = []\n",
    "    for dropoff_time, pickup_time in zip(date_feature_to_datetimes[\"tpep_dropoff_datetime\"],\n",
    "                                         date_feature_to_datetimes[\"tpep_pickup_datetime\"]):\n",
    "        duration = (dropoff_time - pickup_time).total_seconds() / 60.0\n",
    "        durations.append(round(duration))\n",
    "    \n",
    "    df[\"duration\"] = durations\n",
    "    return df\n",
    "\n",
    "cab_data = create_date_features(cab_data)"
   ]
  },
  {
   "cell_type": "code",
   "execution_count": 8,
   "metadata": {},
   "outputs": [
    {
     "name": "stdout",
     "output_type": "stream",
     "text": [
      "0         23\n",
      "1         15\n",
      "2          6\n",
      "3         29\n",
      "4          4\n",
      "5          9\n",
      "6          7\n",
      "7          9\n",
      "8         20\n",
      "9         37\n",
      "10         7\n",
      "11         9\n",
      "12         3\n",
      "13         3\n",
      "14         5\n",
      "15        13\n",
      "16        21\n",
      "17        17\n",
      "18        13\n",
      "19        17\n",
      "20         6\n",
      "21        18\n",
      "22        92\n",
      "23        18\n",
      "24         8\n",
      "25         7\n",
      "26        16\n",
      "27        24\n",
      "28         5\n",
      "29        13\n",
      "          ..\n",
      "492164    16\n",
      "492165     9\n",
      "492166     5\n",
      "492167    18\n",
      "492168    28\n",
      "492169    16\n",
      "492170     6\n",
      "492171     4\n",
      "492172    13\n",
      "492173    14\n",
      "492174    17\n",
      "492175    10\n",
      "492176    17\n",
      "492177     4\n",
      "492178     5\n",
      "492179    11\n",
      "492180    15\n",
      "492181    15\n",
      "492182     2\n",
      "492183     4\n",
      "492184    29\n",
      "492185     9\n",
      "492186    13\n",
      "492187     8\n",
      "492188    12\n",
      "492189     5\n",
      "492190    15\n",
      "492191    12\n",
      "492192     5\n",
      "492193    11\n",
      "Name: duration, Length: 492194, dtype: int64\n",
      "Distribution of Months\n",
      "5    246662\n",
      "4    245486\n",
      "6        46\n",
      "Name: tpep_dropoff_datetime_months, dtype: int64\n",
      "Distribution of Holidays\n",
      "0    486831\n",
      "1      5363\n",
      "Name: tpep_dropoff_datetime_is_holiday, dtype: int64\n"
     ]
    }
   ],
   "source": [
    "# Check Distribution of months and holidays\n",
    "print(\"Distribution of Months\")\n",
    "print(cab_data[\"tpep_dropoff_datetime_months\"].value_counts())\n",
    "print(\"Distribution of Holidays\")\n",
    "print(cab_data[\"tpep_dropoff_datetime_is_holiday\"].value_counts())"
   ]
  },
  {
   "cell_type": "code",
   "execution_count": 10,
   "metadata": {},
   "outputs": [
    {
     "name": "stdout",
     "output_type": "stream",
     "text": [
      "-73.982368    158\n",
      "-73.982384    151\n",
      "-73.982353    144\n",
      "-73.982224    144\n",
      "-73.982201    140\n",
      "-73.982246    139\n",
      "-73.981979    138\n",
      "-73.982292    137\n",
      "-73.991379    136\n",
      "-73.982063    136\n",
      "-73.982048    135\n",
      "-73.982101    135\n",
      "-73.991280    134\n",
      "-73.991318    134\n",
      "-73.982307    134\n",
      "-73.982300    133\n",
      "-73.982338    133\n",
      "-73.981773    133\n",
      "-73.982330    133\n",
      "-73.982269    133\n",
      "-73.991341    133\n",
      "-73.981003    132\n",
      "-73.991493    131\n",
      "-73.982239    131\n",
      "-73.978371    131\n",
      "-73.991081    130\n",
      "-73.978851    130\n",
      "-73.978394    130\n",
      "-73.982162    129\n",
      "-73.982407    127\n",
      "             ... \n",
      "-73.781548      1\n",
      "-74.183006      1\n",
      "-73.918190      1\n",
      "-73.918114      1\n",
      "-73.831375      1\n",
      "-73.920120      1\n",
      "-73.781982      1\n",
      "-73.920555      1\n",
      "-73.826683      1\n",
      "-73.828148      1\n",
      "-73.920288      1\n",
      "-73.925446      1\n",
      "-73.788574      1\n",
      "-73.920692      1\n",
      "-73.921776      1\n",
      "-73.812416      1\n",
      "-73.829430      1\n",
      "-73.822777      1\n",
      "-73.927406      1\n",
      "-73.787201      1\n",
      "-73.922966      1\n",
      "-73.927528      1\n",
      "-74.181480      1\n",
      "-73.920097      1\n",
      "-73.829231      1\n",
      "-73.920860      1\n",
      "-73.786407      1\n",
      "-73.786194      1\n",
      "-73.928566      1\n",
      "-73.796761      1\n",
      "Name: dropoff_longitude, Length: 24923, dtype: int64\n"
     ]
    }
   ],
   "source": [
    "print(cab_data[\"dropoff_longitude\"].value_counts())"
   ]
  },
  {
   "cell_type": "code",
   "execution_count": 11,
   "metadata": {
    "collapsed": true
   },
   "outputs": [],
   "source": [
    "cal = USFederalHolidayCalendar()\n",
    "us_holidays = cal.holidays(start='2016-01-01', end='2016-12-31').to_pydatetime()"
   ]
  },
  {
   "cell_type": "code",
   "execution_count": 12,
   "metadata": {},
   "outputs": [
    {
     "name": "stdout",
     "output_type": "stream",
     "text": [
      "[datetime.datetime(2016, 1, 1, 0, 0) datetime.datetime(2016, 1, 18, 0, 0)\n",
      " datetime.datetime(2016, 2, 15, 0, 0) datetime.datetime(2016, 5, 30, 0, 0)\n",
      " datetime.datetime(2016, 7, 4, 0, 0) datetime.datetime(2016, 9, 5, 0, 0)\n",
      " datetime.datetime(2016, 10, 10, 0, 0)\n",
      " datetime.datetime(2016, 11, 11, 0, 0)\n",
      " datetime.datetime(2016, 11, 24, 0, 0)\n",
      " datetime.datetime(2016, 12, 26, 0, 0)]\n"
     ]
    }
   ],
   "source": [
    "print(us_holidays)"
   ]
  },
  {
   "cell_type": "code",
   "execution_count": null,
   "metadata": {
    "collapsed": true
   },
   "outputs": [],
   "source": []
  }
 ],
 "metadata": {
  "kernelspec": {
   "display_name": "Python 3",
   "language": "python",
   "name": "python3"
  },
  "language_info": {
   "codemirror_mode": {
    "name": "ipython",
    "version": 3
   },
   "file_extension": ".py",
   "mimetype": "text/x-python",
   "name": "python",
   "nbconvert_exporter": "python",
   "pygments_lexer": "ipython3",
   "version": "3.6.3"
  }
 },
 "nbformat": 4,
 "nbformat_minor": 2
}
