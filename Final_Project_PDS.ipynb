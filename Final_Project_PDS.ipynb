{
 "cells": [
  {
   "cell_type": "markdown",
   "metadata": {},
   "source": [
    "## PDS Price Predictor"
   ]
  },
  {
   "cell_type": "markdown",
   "metadata": {},
   "source": [
    "Why is a Yellow Taxi Cab from the Empire State Building to Times Square $20? In this project, we will explore the justifications behind the pricing of Yellow Taxi Cabs in New York City.\n",
    "By understanding the relevant features associated with a ride, we can develop a model that estimates how much a particular Yellow Taxi Cab ride will cost. Finally, using our model, we will directly compare the prices an Uber and a Yellow Taxi Cab would charge for the same trip in New York City. Our ultimate goal is to answer the question \"Do Uber and Yellow Taxi set prices according to a similar model?\". In addition, we aim to use this answer to provide users with recommendations on which taxi service, Uber or Yellow Taxi Cab, to take for a given trip in New York City. \n",
    "\n",
    "<img src=\"https://github.com/ComputAni/PDS-Price-Predictor/raw/master/UberVsTaxi.jpg\">"
   ]
  },
  {
   "cell_type": "markdown",
   "metadata": {
    "collapsed": true
   },
   "source": [
    "### Table of Contents\n",
    "\n",
    "- [Introduction](#Introduction)\n",
    "- [Getting the Data](#Getting-the-Data)\n",
    "- [Feature Engineering](#Feature-Engineering)\n",
    "- [Exploratory Data Analysis](#Exploratory-Data-Analysis)\n",
    "- [Linear Model Take 1](#Linear-Model-Take-1)\n",
    "- [Linear Model Take 2](#Linear-Model-Take-2)\n",
    "- [Gradient Boosting Model](#Gradient-Boosting-Model)\n",
    "- [PCA](#PCA)\n",
    "- [Compare and Contrast with Uber](#Compare-and-Contrast-with-Uber)"
   ]
  },
  {
   "cell_type": "markdown",
   "metadata": {},
   "source": [
    "First, install the geopy and sodapy modules via `pip`:\n",
    "    \n",
    "    $ pip install geopy\n",
    "    \n",
    "    $ pip install sodapy\n",
    "    \n",
    "Next, make sure the following imports work for you:"
   ]
  },
  {
   "cell_type": "code",
   "execution_count": 3,
   "metadata": {},
   "outputs": [],
   "source": [
    "# Basic Modules\n",
    "import numpy as np\n",
    "import pandas as pd\n",
    "import matplotlib.pyplot as plt\n",
    "import csv, requests, re\n",
    "from bs4 import BeautifulSoup\n",
    "from unicodedata import normalize\n",
    "%matplotlib inline\n",
    "# Data\n",
    "from sodapy import Socrata\n",
    "# Machine Learning Modules\n",
    "import scipy.stats as stats\n",
    "from sklearn import datasets, linear_model\n",
    "from sklearn.metrics import mean_squared_error, r2_score\n",
    "from sklearn.model_selection import train_test_split\n",
    "from sklearn.ensemble import GradientBoostingRegressor\n",
    "from sklearn.decomposition import PCA\n",
    "# Geopy\n",
    "from geopy.geocoders import Nominatim\n",
    "from geopy.distance import geodesic\n",
    "# Datetime, Holiday imports\n",
    "from datetime import datetime, timedelta\n",
    "from pandas.tseries.holiday import USFederalHolidayCalendar\n",
    "# Uber API related includes\n",
    "from uber_rides.session import Session\n",
    "from uber_rides.client import UberRidesClient\n",
    "import time"
   ]
  },
  {
   "cell_type": "markdown",
   "metadata": {},
   "source": [
    "## Introduction"
   ]
  },
  {
   "cell_type": "markdown",
   "metadata": {},
   "source": [
    "## Getting the Data"
   ]
  },
  {
   "cell_type": "markdown",
   "metadata": {},
   "source": [
    "We use a dataset sampled from NYC Open Data's 2016 Yellow Taxi Trip Data, which includes trip records from all trips completed in yellow taxis from in NYC from January to June 2016. Records include fields capturing pick-up and drop-off dates/times, pick-up and drop-off locations (latitude and longitude), trip distances, and much more. For more information, check out: https://data.cityofnewyork.us/Transportation/2016-Yellow-Taxi-Trip-Data/k67s-dv2t. "
   ]
  },
  {
   "cell_type": "markdown",
   "metadata": {},
   "source": [
    "We use the NYC Open Data API: https://dev.socrata.com/foundry/data.cityofnewyork.us/uacg-pexx to request a sample dataset of 1000000 Yellow Taxi Cab trip records. First, we create a Socrata client object below, passing `None` for the second argument since we only need to create an unauthenticated client for access to the public data. "
   ]
  },
  {
   "cell_type": "code",
   "execution_count": 9,
   "metadata": {},
   "outputs": [
    {
     "name": "stderr",
     "output_type": "stream",
     "text": [
      "WARNING:root:Requests made without an app_token will be subject to strict throttling limits.\n"
     ]
    }
   ],
   "source": [
    "client = Socrata(\"data.cityofnewyork.us\", None)"
   ]
  },
  {
   "cell_type": "code",
   "execution_count": 11,
   "metadata": {},
   "outputs": [
    {
     "name": "stdout",
     "output_type": "stream",
     "text": [
      "Requesting: 20 chunks\n"
     ]
    }
   ],
   "source": [
    "# First 2000 results, returned as JSON from API / converted to Python list of\n",
    "# dictionaries by sodapy.\n",
    "max_size = 50000\n",
    "total_size = 1000000\n",
    "num_chunks = total_size // max_size #Should be 200\n",
    "total_data = []\n",
    "results = []\n",
    "print(\"Requesting: %d chunks\" % num_chunks);\n",
    "for i in range(num_chunks):\n",
    "    curr_offset = max_size*i\n",
    "    #results = client.get(\"uacg-pexx\", limit=50000, offset=curr_offset)\n",
    "    total_data += results"
   ]
  },
  {
   "cell_type": "code",
   "execution_count": 14,
   "metadata": {
    "collapsed": true
   },
   "outputs": [],
   "source": [
    "# Convert to pandas DataFrame\n",
    "results_df = pd.DataFrame.from_records(total_data)\n",
    "print(\"Before scrubbing data size: \", len(results_df))\n",
    "results_df = results_df[results_df.pickup_latitude != '0']\n",
    "results_df = results_df[results_df.pickup_longitude != '0']\n",
    "results_df = results_df[results_df.dropoff_latitude != '0']\n",
    "results_df = results_df[results_df.dropoff_longitude != '0']\n",
    "print(\"After scrubbing data size: \", len(results_df))\n",
    "\n",
    "#Write the scraped data to our cab_data.csv file\n",
    "#results_df.to_csv('cab_data.csv')"
   ]
  },
  {
   "cell_type": "markdown",
   "metadata": {},
   "source": [
    "Great! Now we have our scraped dataset, now we need to create some features that represent the problem at hand."
   ]
  },
  {
   "cell_type": "markdown",
   "metadata": {},
   "source": [
    "## Feature Engineering"
   ]
  },
  {
   "cell_type": "markdown",
   "metadata": {},
   "source": [
    "First, load the scraped dataset. "
   ]
  },
  {
   "cell_type": "code",
   "execution_count": 15,
   "metadata": {
    "collapsed": true
   },
   "outputs": [],
   "source": [
    "cab_data = pd.read_csv(\"cab_data.csv\")"
   ]
  },
  {
   "cell_type": "markdown",
   "metadata": {},
   "source": [
    "Next, we need to scrub the data of any uneccessary features, as well as make sure the values are correct."
   ]
  },
  {
   "cell_type": "code",
   "execution_count": 16,
   "metadata": {
    "collapsed": true
   },
   "outputs": [],
   "source": [
    "#Removes uneccesary columns, as we will be creating our own features.\n",
    "def scrub_df(df):\n",
    "    #del df['extra']\n",
    "    del df['fare_amount']\n",
    "    del df['improvement_surcharge']\n",
    "    del df['mta_tax']\n",
    "    del df['passenger_count']\n",
    "    del df['payment_type']\n",
    "    del df['ratecodeid']\n",
    "    del df['store_and_fwd_flag']\n",
    "    del df['tip_amount']\n",
    "    del df['tolls_amount']\n",
    "    del df['trip_distance']\n",
    "    del df['vendorid']\n",
    "    \n",
    "    return df"
   ]
  },
  {
   "cell_type": "code",
   "execution_count": 17,
   "metadata": {
    "collapsed": true
   },
   "outputs": [],
   "source": [
    "#Clean the input dataset of columns we don't care about\n",
    "basic_df = scrub_df(cab_data)"
   ]
  },
  {
   "cell_type": "markdown",
   "metadata": {},
   "source": [
    "Next, the distance of each trip is an important feature that affects price. Calculate the geo distance between two lat/lon pairs."
   ]
  },
  {
   "cell_type": "code",
   "execution_count": 5,
   "metadata": {
    "collapsed": true
   },
   "outputs": [],
   "source": [
    "#Init the geolocator for caluclating distances\n",
    "geolocator = Nominatim()\n",
    "\n",
    "#Pairs the lat/lon columns into one column (for walkscore/geolocator)\n",
    "def get_latlng(df):\n",
    "    def f(x,y):\n",
    "        coord = \"%f, %f\" % (x, y)\n",
    "        return coord\n",
    "    \n",
    "    df['start_latlng'] = df[['dropoff_latitude', 'dropoff_longitude']].apply(lambda x: f(*x), axis=1)\n",
    "    df['end_latlng'] = df[['pickup_latitude', 'pickup_longitude']].apply(lambda x: f(*x), axis=1)\n",
    "    \n",
    "    return df\n",
    "\n",
    "#Given input dataframe, computes distance of trip using geolocator and start/end lat/lon positions\n",
    "def get_dist(df):\n",
    "\n",
    "    def get_d(x,y):\n",
    "        return geodesic(x, y).miles\n",
    "\n",
    "    df['distance'] = df[['start_latlng', 'end_latlng']].apply(lambda x: get_d(*x), axis=1)\n",
    "    \n",
    "    return df"
   ]
  },
  {
   "cell_type": "code",
   "execution_count": 6,
   "metadata": {
    "collapsed": true
   },
   "outputs": [],
   "source": [
    "df_with_latlng = get_latlng(basic_df)\n",
    "df_with_dist = get_dist(df_with_latlng)"
   ]
  },
  {
   "cell_type": "markdown",
   "metadata": {},
   "source": [
    "Furthermore, we found that particular date trends, such as time of day, holidays, and other date specific characteristics could potentially affect demand of Ubers, and therefore price. \n",
    "Specifically, we decomposed each cab query into years, months, days, hours, minutes, seconds, day of week, and whether or not it is a holiday."
   ]
  },
  {
   "cell_type": "code",
   "execution_count": 30,
   "metadata": {
    "collapsed": true
   },
   "outputs": [],
   "source": [
    "def create_date_features(df, start_date, end_date):\n",
    "    dt_format = '%Y-%m-%dT%H:%M:%S.%f'\n",
    "    # Get the list of US federal hollidays\n",
    "    cal = USFederalHolidayCalendar()\n",
    "    us_holidays = cal.holidays(start=start_date, end=end_date).to_pydatetime()\n",
    "    \n",
    "    date_feature_names = [\"tpep_dropoff_datetime\", \"tpep_pickup_datetime\"]\n",
    "    date_feature_to_datetimes = {\"tpep_dropoff_datetime\" : [],\n",
    "                                 \"tpep_pickup_datetime\" : []}\n",
    "    for feature_name in date_feature_names:\n",
    "        y, mo, d = [], [], [] # Year, Month, Day\n",
    "        h, mi, s = [], [], [] # Hours, Minutes, Seconds\n",
    "        day_of_week = [] # Day of the Week\n",
    "        is_holiday = [] # Is the date a holiday?\n",
    "        for time in df[feature_name]:\n",
    "            # Extract the datetime object from the timestamp\n",
    "            dt = datetime.strptime(time, dt_format)\n",
    "            date_feature_to_datetimes[feature_name].append(dt)\n",
    "            # Add the Year/Month/Day\n",
    "            y.append(dt.year)\n",
    "            mo.append(dt.month)\n",
    "            d.append(dt.day)\n",
    "            # Add Hour/Minute/Second\n",
    "            h.append(dt.hour)\n",
    "            mi.append(dt.minute)\n",
    "            s.append(dt.second)\n",
    "            # Add Day of the Week\n",
    "            day_of_week.append(dt.weekday())\n",
    "            # Add is_holiday\n",
    "            y_m_d = datetime(dt.year, dt.month, dt.day)\n",
    "            is_holiday.append(1 if y_m_d in us_holidays else 0)\n",
    "        df[feature_name + \"_years\"] = y\n",
    "        df[feature_name + \"_months\"] = mo\n",
    "        df[feature_name + \"_days\"] = d\n",
    "        df[feature_name + \"_hours\"] = h\n",
    "        df[feature_name + \"_minutes\"] = mi\n",
    "        df[feature_name + \"_seconds\"] = s\n",
    "        df[feature_name + \"_day_of_week\"] = day_of_week\n",
    "        df[feature_name + \"_is_holiday\"] = is_holiday\n",
    "    durations = []\n",
    "    for dropoff_time, pickup_time in zip(date_feature_to_datetimes[\"tpep_dropoff_datetime\"],\n",
    "                                         date_feature_to_datetimes[\"tpep_pickup_datetime\"]):\n",
    "        duration = (dropoff_time - pickup_time).total_seconds() / 60.0\n",
    "        durations.append(round(duration))\n",
    "    \n",
    "    df[\"duration\"] = durations\n",
    "    return df"
   ]
  },
  {
   "cell_type": "code",
   "execution_count": 30,
   "metadata": {
    "collapsed": true
   },
   "outputs": [],
   "source": [
    "#Generate the new dataframe with date features\n",
    "start = '2016-01-01'\n",
    "end = '2016-12-31'\n",
    "df_with_date = create_date_features(df_with_dist, start, end)\n",
    "\n",
    "#Write to temporary CSV file for holding\n",
    "#df_with_date.to_csv(\"date_data.csv\")"
   ]
  },
  {
   "cell_type": "markdown",
   "metadata": {},
   "source": [
    "Lastly, we also found that weather patterns have an effect on usage of transportation. Consider the case of rain, users are less likely to walk/bike longer distances if it's raining, thereby increasing demand for taxi services. Other important features included snow level, percipitation, temperature, humidity, visibility, & dew point."
   ]
  },
  {
   "cell_type": "code",
   "execution_count": 29,
   "metadata": {
    "collapsed": true
   },
   "outputs": [],
   "source": [
    "# Get weather data for 2016 and returns dictionary of date features\n",
    "# Scrapes wunderground.com weather information for greater NY area.\n",
    "def init_weather_features(start_date, end_date):\n",
    "    date = start_date\n",
    "    date_to_features = dict()\n",
    "    # weather related features to extract\n",
    "    feature_names = [\"Mean Temperature\",\n",
    "                    \"Max Temperature\",\n",
    "                    \"Min Temperature\",\n",
    "                    \"Dew Point\",\n",
    "                    \"Average Humidity\",\n",
    "                    \"Precipitation\",\n",
    "                    \"Snow\",\n",
    "                    \"Wind Speed\",\n",
    "                    \"Visibility\"]\n",
    "    while (date <= end_date):\n",
    "        # station: KNYC (Central Park, New York)\n",
    "        (year, month, day) = (date.year, date.month, date.day)\n",
    "        #print(year, month, day)\n",
    "\n",
    "        # Get the HTML of the weather webpage\n",
    "        url_format_string = \"http://www.wunderground.com/history/airport/KNYC/{year}/{month}/{day}/DailyHistory.html\"\n",
    "        url = url_format_string.format(year=year, month=month, day=day)\n",
    "        response = requests.get(url)\n",
    "\n",
    "        if response.status_code != 200:\n",
    "            print(\"An error occurred while getting NYC weather data for {day}-{month}-{year}\".format(\n",
    "            year=year, month=month, day=day))\n",
    "        else:\n",
    "            features = dict()\n",
    "            html = response.content\n",
    "            soup = BeautifulSoup(html, \"lxml\")\n",
    "            table = soup.find_all(attrs={'id': 'historyTable'})[0]\n",
    "\n",
    "            table_rows = table.find_all('tr')\n",
    "            feature_list = []\n",
    "            found_features = [False, False, False, False, False, False, False, False, False]\n",
    "            # Loop through the entries of the table to find weather features\n",
    "            for tr in table_rows:\n",
    "                td = tr.find_all('td')\n",
    "                # normalize the text to account for string encoding\n",
    "                row = [normalize('NFKD', i.text) for i in td]\n",
    "\n",
    "                # There are multiple rows named 'snow' and 'precipitation'\n",
    "                # Use len(row) > 2 to get the \"right\" rows\n",
    "                if len(row) > 2 and row[0] in feature_names:\n",
    "                    data = row[1].strip() # remove extraneous whitespace\n",
    "                    result = re.sub('[^0-9.]','', data) # remove all alphabetic characters\n",
    "                    if result == \"\": # if there's no feature value (e.g.: T, for traces of precipitation/snow)\n",
    "                        result = 0\n",
    "                    features[row[0]] = result\n",
    "                    found_features[feature_names.index(row[0])] = True\n",
    "                    feature_list.append(result)\n",
    "\n",
    "            # If a feature is not present in the table, set it to a default value: 0\n",
    "            for found_feature, feature_name in zip(found_features, feature_names):\n",
    "                if (not found_feature):\n",
    "                    features[feature_name] = 0\n",
    "            assert(len(features) == len(feature_names))\n",
    "            date_to_features[date] = features\n",
    "        date = date + timedelta(1)\n",
    "        \n",
    "    return date_to_features\n",
    "\n",
    "# insert method for dictionary (list of values for each key)\n",
    "def dict_insert(d, key, val):\n",
    "    if key in d:\n",
    "        d[key].append(val)\n",
    "    else:\n",
    "        d[key] = [val]\n",
    "\n",
    "# put the weather-related features into the dataframe\n",
    "def create_weather_features(df, date_to_features):\n",
    "    \n",
    "    dt_format = '%Y-%m-%dT%H:%M:%S.%f'\n",
    "    weather_features = dict()\n",
    "    for time in df[\"tpep_dropoff_datetime\"]:\n",
    "        # Extract the datetime object from the timestamp\n",
    "        dt = datetime.strptime(time, dt_format)\n",
    "        y_m_d = datetime(dt.year, dt.month, dt.day)\n",
    "        weather_dict = date_to_features[y_m_d]\n",
    "        for feature_name in weather_dict:\n",
    "            dict_insert(weather_features, feature_name, weather_dict[feature_name])\n",
    "        \n",
    "    for feature_name in weather_features:\n",
    "        df[feature_name] = weather_features[feature_name]\n",
    "    return df"
   ]
  },
  {
   "cell_type": "code",
   "execution_count": 45,
   "metadata": {
    "collapsed": true
   },
   "outputs": [],
   "source": [
    "#Initialize the weather scraping function over the year of 2016\n",
    "start_date = datetime(2016, 1, 1)\n",
    "end_date = datetime(2016, 12, 31)\n",
    "date_features = init_weather_features(start_date, end_date)\n",
    "\n",
    "#Open our previously curated date related features and append our new weather features.\n",
    "open_date_df = pd.read_csv(\"date_data.csv\")\n",
    "df_with_weather = create_weather_features(open_date_df, date_features)"
   ]
  },
  {
   "cell_type": "markdown",
   "metadata": {},
   "source": [
    "Great! We now have a dataframe with a core set of features. Let's save it to a file! The next step is to take a closer look at our input data through an exploratory data analysis."
   ]
  },
  {
   "cell_type": "code",
   "execution_count": 46,
   "metadata": {},
   "outputs": [
    {
     "data": {
      "text/html": [
       "<div>\n",
       "<style>\n",
       "    .dataframe thead tr:only-child th {\n",
       "        text-align: right;\n",
       "    }\n",
       "\n",
       "    .dataframe thead th {\n",
       "        text-align: left;\n",
       "    }\n",
       "\n",
       "    .dataframe tbody tr th {\n",
       "        vertical-align: top;\n",
       "    }\n",
       "</style>\n",
       "<table border=\"1\" class=\"dataframe\">\n",
       "  <thead>\n",
       "    <tr style=\"text-align: right;\">\n",
       "      <th></th>\n",
       "      <th>Unnamed: 0</th>\n",
       "      <th>Unnamed: 0.1</th>\n",
       "      <th>dropoff_latitude</th>\n",
       "      <th>dropoff_longitude</th>\n",
       "      <th>pickup_latitude</th>\n",
       "      <th>pickup_longitude</th>\n",
       "      <th>total_amount</th>\n",
       "      <th>tpep_dropoff_datetime</th>\n",
       "      <th>tpep_pickup_datetime</th>\n",
       "      <th>start_latlng</th>\n",
       "      <th>...</th>\n",
       "      <th>duration</th>\n",
       "      <th>Mean Temperature</th>\n",
       "      <th>Max Temperature</th>\n",
       "      <th>Min Temperature</th>\n",
       "      <th>Dew Point</th>\n",
       "      <th>Average Humidity</th>\n",
       "      <th>Precipitation</th>\n",
       "      <th>Snow</th>\n",
       "      <th>Wind Speed</th>\n",
       "      <th>Visibility</th>\n",
       "    </tr>\n",
       "  </thead>\n",
       "  <tbody>\n",
       "    <tr>\n",
       "      <th>0</th>\n",
       "      <td>0</td>\n",
       "      <td>0</td>\n",
       "      <td>40.777241</td>\n",
       "      <td>-73.951744</td>\n",
       "      <td>40.776424</td>\n",
       "      <td>-73.952850</td>\n",
       "      <td>15.35</td>\n",
       "      <td>2016-04-03T00:09:40.000</td>\n",
       "      <td>2016-04-02T23:55:45.000</td>\n",
       "      <td>40.777241, -73.951744</td>\n",
       "      <td>...</td>\n",
       "      <td>14</td>\n",
       "      <td>42</td>\n",
       "      <td>50</td>\n",
       "      <td>34</td>\n",
       "      <td>16</td>\n",
       "      <td>51</td>\n",
       "      <td>0.09</td>\n",
       "      <td>0</td>\n",
       "      <td>13</td>\n",
       "      <td>10</td>\n",
       "    </tr>\n",
       "    <tr>\n",
       "      <th>1</th>\n",
       "      <td>1</td>\n",
       "      <td>1</td>\n",
       "      <td>40.777611</td>\n",
       "      <td>-73.951080</td>\n",
       "      <td>40.789371</td>\n",
       "      <td>-73.943352</td>\n",
       "      <td>12.30</td>\n",
       "      <td>2016-04-22T09:45:11.000</td>\n",
       "      <td>2016-04-22T09:27:51.000</td>\n",
       "      <td>40.777611, -73.951080</td>\n",
       "      <td>...</td>\n",
       "      <td>17</td>\n",
       "      <td>71</td>\n",
       "      <td>79</td>\n",
       "      <td>62</td>\n",
       "      <td>53</td>\n",
       "      <td>55</td>\n",
       "      <td>0</td>\n",
       "      <td>0.00</td>\n",
       "      <td>4</td>\n",
       "      <td>10</td>\n",
       "    </tr>\n",
       "    <tr>\n",
       "      <th>2</th>\n",
       "      <td>2</td>\n",
       "      <td>2</td>\n",
       "      <td>40.770386</td>\n",
       "      <td>-73.966476</td>\n",
       "      <td>40.761303</td>\n",
       "      <td>-73.973183</td>\n",
       "      <td>5.80</td>\n",
       "      <td>2016-04-29T20:26:47.000</td>\n",
       "      <td>2016-04-29T20:23:57.000</td>\n",
       "      <td>40.770386, -73.966476</td>\n",
       "      <td>...</td>\n",
       "      <td>3</td>\n",
       "      <td>52</td>\n",
       "      <td>58</td>\n",
       "      <td>45</td>\n",
       "      <td>34</td>\n",
       "      <td>48</td>\n",
       "      <td>0.05</td>\n",
       "      <td>0.00</td>\n",
       "      <td>6</td>\n",
       "      <td>10</td>\n",
       "    </tr>\n",
       "    <tr>\n",
       "      <th>3</th>\n",
       "      <td>3</td>\n",
       "      <td>3</td>\n",
       "      <td>40.767288</td>\n",
       "      <td>-73.966675</td>\n",
       "      <td>40.764381</td>\n",
       "      <td>-73.995583</td>\n",
       "      <td>10.80</td>\n",
       "      <td>2016-04-08T11:21:10.000</td>\n",
       "      <td>2016-04-08T11:10:26.000</td>\n",
       "      <td>40.767288, -73.966675</td>\n",
       "      <td>...</td>\n",
       "      <td>11</td>\n",
       "      <td>45</td>\n",
       "      <td>50</td>\n",
       "      <td>40</td>\n",
       "      <td>26</td>\n",
       "      <td>48</td>\n",
       "      <td>0.01</td>\n",
       "      <td>0.00</td>\n",
       "      <td>7</td>\n",
       "      <td>10</td>\n",
       "    </tr>\n",
       "    <tr>\n",
       "      <th>4</th>\n",
       "      <td>4</td>\n",
       "      <td>4</td>\n",
       "      <td>40.744068</td>\n",
       "      <td>-73.988991</td>\n",
       "      <td>40.754742</td>\n",
       "      <td>-73.979820</td>\n",
       "      <td>7.30</td>\n",
       "      <td>2016-04-28T09:09:32.000</td>\n",
       "      <td>2016-04-28T09:04:28.000</td>\n",
       "      <td>40.744068, -73.988991</td>\n",
       "      <td>...</td>\n",
       "      <td>5</td>\n",
       "      <td>54</td>\n",
       "      <td>59</td>\n",
       "      <td>48</td>\n",
       "      <td>30</td>\n",
       "      <td>51</td>\n",
       "      <td>0.00</td>\n",
       "      <td>0.00</td>\n",
       "      <td>5</td>\n",
       "      <td>10</td>\n",
       "    </tr>\n",
       "  </tbody>\n",
       "</table>\n",
       "<p>5 rows × 38 columns</p>\n",
       "</div>"
      ],
      "text/plain": [
       "   Unnamed: 0  Unnamed: 0.1  dropoff_latitude  dropoff_longitude  \\\n",
       "0           0             0         40.777241         -73.951744   \n",
       "1           1             1         40.777611         -73.951080   \n",
       "2           2             2         40.770386         -73.966476   \n",
       "3           3             3         40.767288         -73.966675   \n",
       "4           4             4         40.744068         -73.988991   \n",
       "\n",
       "   pickup_latitude  pickup_longitude  total_amount    tpep_dropoff_datetime  \\\n",
       "0        40.776424        -73.952850         15.35  2016-04-03T00:09:40.000   \n",
       "1        40.789371        -73.943352         12.30  2016-04-22T09:45:11.000   \n",
       "2        40.761303        -73.973183          5.80  2016-04-29T20:26:47.000   \n",
       "3        40.764381        -73.995583         10.80  2016-04-08T11:21:10.000   \n",
       "4        40.754742        -73.979820          7.30  2016-04-28T09:09:32.000   \n",
       "\n",
       "      tpep_pickup_datetime           start_latlng     ...     duration  \\\n",
       "0  2016-04-02T23:55:45.000  40.777241, -73.951744     ...           14   \n",
       "1  2016-04-22T09:27:51.000  40.777611, -73.951080     ...           17   \n",
       "2  2016-04-29T20:23:57.000  40.770386, -73.966476     ...            3   \n",
       "3  2016-04-08T11:10:26.000  40.767288, -73.966675     ...           11   \n",
       "4  2016-04-28T09:04:28.000  40.744068, -73.988991     ...            5   \n",
       "\n",
       "   Mean Temperature  Max Temperature  Min Temperature  Dew Point  \\\n",
       "0                42               50               34         16   \n",
       "1                71               79               62         53   \n",
       "2                52               58               45         34   \n",
       "3                45               50               40         26   \n",
       "4                54               59               48         30   \n",
       "\n",
       "   Average Humidity  Precipitation  Snow  Wind Speed  Visibility  \n",
       "0                51           0.09     0          13          10  \n",
       "1                55              0  0.00           4          10  \n",
       "2                48           0.05  0.00           6          10  \n",
       "3                48           0.01  0.00           7          10  \n",
       "4                51           0.00  0.00           5          10  \n",
       "\n",
       "[5 rows x 38 columns]"
      ]
     },
     "execution_count": 46,
     "metadata": {},
     "output_type": "execute_result"
    }
   ],
   "source": [
    "df_with_weather.head()\n",
    "#df_with_weather.to_csv('data_with_features.csv')"
   ]
  },
  {
   "cell_type": "markdown",
   "metadata": {},
   "source": [
    "## Exploratory Data Analysis"
   ]
  },
  {
   "cell_type": "markdown",
   "metadata": {},
   "source": [
    "First, we load the dataset we saved to a file in the previous section using pandas."
   ]
  },
  {
   "cell_type": "code",
   "execution_count": 28,
   "metadata": {},
   "outputs": [
    {
     "data": {
      "text/html": [
       "<div>\n",
       "<style>\n",
       "    .dataframe thead tr:only-child th {\n",
       "        text-align: right;\n",
       "    }\n",
       "\n",
       "    .dataframe thead th {\n",
       "        text-align: left;\n",
       "    }\n",
       "\n",
       "    .dataframe tbody tr th {\n",
       "        vertical-align: top;\n",
       "    }\n",
       "</style>\n",
       "<table border=\"1\" class=\"dataframe\">\n",
       "  <thead>\n",
       "    <tr style=\"text-align: right;\">\n",
       "      <th></th>\n",
       "      <th>dropoff_latitude</th>\n",
       "      <th>dropoff_longitude</th>\n",
       "      <th>pickup_latitude</th>\n",
       "      <th>pickup_longitude</th>\n",
       "      <th>total_amount</th>\n",
       "      <th>tpep_dropoff_datetime</th>\n",
       "      <th>tpep_pickup_datetime</th>\n",
       "      <th>start_latlng</th>\n",
       "      <th>end_latlng</th>\n",
       "      <th>distance</th>\n",
       "      <th>...</th>\n",
       "      <th>duration</th>\n",
       "      <th>Mean Temperature</th>\n",
       "      <th>Max Temperature</th>\n",
       "      <th>Min Temperature</th>\n",
       "      <th>Dew Point</th>\n",
       "      <th>Average Humidity</th>\n",
       "      <th>Precipitation</th>\n",
       "      <th>Snow</th>\n",
       "      <th>Wind Speed</th>\n",
       "      <th>Visibility</th>\n",
       "    </tr>\n",
       "  </thead>\n",
       "  <tbody>\n",
       "    <tr>\n",
       "      <th>0</th>\n",
       "      <td>40.777241</td>\n",
       "      <td>-73.951744</td>\n",
       "      <td>40.776424</td>\n",
       "      <td>-73.952850</td>\n",
       "      <td>15.35</td>\n",
       "      <td>2016-04-03T00:09:40.000</td>\n",
       "      <td>2016-04-02T23:55:45.000</td>\n",
       "      <td>40.777241, -73.951744</td>\n",
       "      <td>40.776424, -73.952850</td>\n",
       "      <td>0.080895</td>\n",
       "      <td>...</td>\n",
       "      <td>14</td>\n",
       "      <td>42</td>\n",
       "      <td>50</td>\n",
       "      <td>34</td>\n",
       "      <td>16</td>\n",
       "      <td>51</td>\n",
       "      <td>0.09</td>\n",
       "      <td>0.0</td>\n",
       "      <td>13</td>\n",
       "      <td>10</td>\n",
       "    </tr>\n",
       "    <tr>\n",
       "      <th>1</th>\n",
       "      <td>40.777611</td>\n",
       "      <td>-73.951080</td>\n",
       "      <td>40.789371</td>\n",
       "      <td>-73.943352</td>\n",
       "      <td>12.30</td>\n",
       "      <td>2016-04-22T09:45:11.000</td>\n",
       "      <td>2016-04-22T09:27:51.000</td>\n",
       "      <td>40.777611, -73.951080</td>\n",
       "      <td>40.789371, -73.943352</td>\n",
       "      <td>0.907077</td>\n",
       "      <td>...</td>\n",
       "      <td>17</td>\n",
       "      <td>71</td>\n",
       "      <td>79</td>\n",
       "      <td>62</td>\n",
       "      <td>53</td>\n",
       "      <td>55</td>\n",
       "      <td>0.00</td>\n",
       "      <td>0.0</td>\n",
       "      <td>4</td>\n",
       "      <td>10</td>\n",
       "    </tr>\n",
       "    <tr>\n",
       "      <th>2</th>\n",
       "      <td>40.770386</td>\n",
       "      <td>-73.966476</td>\n",
       "      <td>40.761303</td>\n",
       "      <td>-73.973183</td>\n",
       "      <td>5.80</td>\n",
       "      <td>2016-04-29T20:26:47.000</td>\n",
       "      <td>2016-04-29T20:23:57.000</td>\n",
       "      <td>40.770386, -73.966476</td>\n",
       "      <td>40.761303, -73.973183</td>\n",
       "      <td>0.718773</td>\n",
       "      <td>...</td>\n",
       "      <td>3</td>\n",
       "      <td>52</td>\n",
       "      <td>58</td>\n",
       "      <td>45</td>\n",
       "      <td>34</td>\n",
       "      <td>48</td>\n",
       "      <td>0.05</td>\n",
       "      <td>0.0</td>\n",
       "      <td>6</td>\n",
       "      <td>10</td>\n",
       "    </tr>\n",
       "    <tr>\n",
       "      <th>3</th>\n",
       "      <td>40.767288</td>\n",
       "      <td>-73.966675</td>\n",
       "      <td>40.764381</td>\n",
       "      <td>-73.995583</td>\n",
       "      <td>10.80</td>\n",
       "      <td>2016-04-08T11:21:10.000</td>\n",
       "      <td>2016-04-08T11:10:26.000</td>\n",
       "      <td>40.767288, -73.966675</td>\n",
       "      <td>40.764381, -73.995583</td>\n",
       "      <td>1.529830</td>\n",
       "      <td>...</td>\n",
       "      <td>11</td>\n",
       "      <td>45</td>\n",
       "      <td>50</td>\n",
       "      <td>40</td>\n",
       "      <td>26</td>\n",
       "      <td>48</td>\n",
       "      <td>0.01</td>\n",
       "      <td>0.0</td>\n",
       "      <td>7</td>\n",
       "      <td>10</td>\n",
       "    </tr>\n",
       "    <tr>\n",
       "      <th>4</th>\n",
       "      <td>40.744068</td>\n",
       "      <td>-73.988991</td>\n",
       "      <td>40.754742</td>\n",
       "      <td>-73.979820</td>\n",
       "      <td>7.30</td>\n",
       "      <td>2016-04-28T09:09:32.000</td>\n",
       "      <td>2016-04-28T09:04:28.000</td>\n",
       "      <td>40.744068, -73.988991</td>\n",
       "      <td>40.754742, -73.979820</td>\n",
       "      <td>0.879828</td>\n",
       "      <td>...</td>\n",
       "      <td>5</td>\n",
       "      <td>54</td>\n",
       "      <td>59</td>\n",
       "      <td>48</td>\n",
       "      <td>30</td>\n",
       "      <td>51</td>\n",
       "      <td>0.00</td>\n",
       "      <td>0.0</td>\n",
       "      <td>5</td>\n",
       "      <td>10</td>\n",
       "    </tr>\n",
       "  </tbody>\n",
       "</table>\n",
       "<p>5 rows × 36 columns</p>\n",
       "</div>"
      ],
      "text/plain": [
       "   dropoff_latitude  dropoff_longitude  pickup_latitude  pickup_longitude  \\\n",
       "0         40.777241         -73.951744        40.776424        -73.952850   \n",
       "1         40.777611         -73.951080        40.789371        -73.943352   \n",
       "2         40.770386         -73.966476        40.761303        -73.973183   \n",
       "3         40.767288         -73.966675        40.764381        -73.995583   \n",
       "4         40.744068         -73.988991        40.754742        -73.979820   \n",
       "\n",
       "   total_amount    tpep_dropoff_datetime     tpep_pickup_datetime  \\\n",
       "0         15.35  2016-04-03T00:09:40.000  2016-04-02T23:55:45.000   \n",
       "1         12.30  2016-04-22T09:45:11.000  2016-04-22T09:27:51.000   \n",
       "2          5.80  2016-04-29T20:26:47.000  2016-04-29T20:23:57.000   \n",
       "3         10.80  2016-04-08T11:21:10.000  2016-04-08T11:10:26.000   \n",
       "4          7.30  2016-04-28T09:09:32.000  2016-04-28T09:04:28.000   \n",
       "\n",
       "            start_latlng             end_latlng  distance     ...      \\\n",
       "0  40.777241, -73.951744  40.776424, -73.952850  0.080895     ...       \n",
       "1  40.777611, -73.951080  40.789371, -73.943352  0.907077     ...       \n",
       "2  40.770386, -73.966476  40.761303, -73.973183  0.718773     ...       \n",
       "3  40.767288, -73.966675  40.764381, -73.995583  1.529830     ...       \n",
       "4  40.744068, -73.988991  40.754742, -73.979820  0.879828     ...       \n",
       "\n",
       "   duration  Mean Temperature  Max Temperature  Min Temperature  Dew Point  \\\n",
       "0        14                42               50               34         16   \n",
       "1        17                71               79               62         53   \n",
       "2         3                52               58               45         34   \n",
       "3        11                45               50               40         26   \n",
       "4         5                54               59               48         30   \n",
       "\n",
       "   Average Humidity  Precipitation  Snow  Wind Speed  Visibility  \n",
       "0                51           0.09   0.0          13          10  \n",
       "1                55           0.00   0.0           4          10  \n",
       "2                48           0.05   0.0           6          10  \n",
       "3                48           0.01   0.0           7          10  \n",
       "4                51           0.00   0.0           5          10  \n",
       "\n",
       "[5 rows x 36 columns]"
      ]
     },
     "execution_count": 28,
     "metadata": {},
     "output_type": "execute_result"
    }
   ],
   "source": [
    "cab_data = pd.read_csv(\"data_with_features.csv\")\n",
    "del cab_data[\"Unnamed: 0\"] # Delete extraneous columns\n",
    "del cab_data[\"Unnamed: 0.1\"]\n",
    "del cab_data[\"Unnamed: 0.1.1\"]\n",
    "cab_data.head()"
   ]
  },
  {
   "cell_type": "markdown",
   "metadata": {},
   "source": [
    "Inspecting the data, we notice that there are some trips that have prices less than 0! We remove rows with negative prices below."
   ]
  },
  {
   "cell_type": "code",
   "execution_count": 29,
   "metadata": {
    "collapsed": true
   },
   "outputs": [],
   "source": [
    "price_filter = cab_data[\"total_amount\"] > 0\n",
    "cab_data = cab_data[price_filter]"
   ]
  },
  {
   "cell_type": "markdown",
   "metadata": {},
   "source": [
    "While conducting EDA, we can examine the continuous features using histograms. For example, here's a histogram showing the distribution of the `total_amount` variable."
   ]
  },
  {
   "cell_type": "code",
   "execution_count": 30,
   "metadata": {},
   "outputs": [
    {
     "data": {
      "text/plain": [
       "Text(0,0.5,'Frequency')"
      ]
     },
     "execution_count": 30,
     "metadata": {},
     "output_type": "execute_result"
    },
    {
     "data": {
      "image/png": "[encoded data removed]",
      "text/plain": [
       "<matplotlib.figure.Figure at 0x1a22197eb8>"
      ]
     },
     "metadata": {},
     "output_type": "display_data"
    }
   ],
   "source": [
    "plt.hist(cab_data[\"total_amount\"], bins=50)\n",
    "plt.title(\"Histogram of Price ($)\")\n",
    "plt.xlabel('Price ($)')\n",
    "plt.ylabel('Frequency')"
   ]
  },
  {
   "cell_type": "markdown",
   "metadata": {},
   "source": [
    "The histogram of the price feature is quite skewed: there seem to be a lot of trips with relatively low prices and a long-tail of trips with very high prices. Below, we generate a probability plot of our sample data against the quantiles of a normal distribution."
   ]
  },
  {
   "cell_type": "code",
   "execution_count": 31,
   "metadata": {},
   "outputs": [
    {
     "data": {
      "text/plain": [
       "((array([-4.82353497, -4.64362929, -4.54636112, ...,  4.54636112,\n",
       "          4.64362929,  4.82353497]),\n",
       "  array([ -1.18124694,  -1.15966257,  -1.15966257, ...,  49.26588698,\n",
       "          52.80125761,  73.12033514])),\n",
       " (0.80562893254150347, -1.0662559962684076e-11, 0.80562467708200169))"
      ]
     },
     "execution_count": 31,
     "metadata": {},
     "output_type": "execute_result"
    },
    {
     "data": {
      "image/png": "[encoded data removed]",
      "text/plain": [
       "<matplotlib.figure.Figure at 0x1a1b685668>"
      ]
     },
     "metadata": {},
     "output_type": "display_data"
    }
   ],
   "source": [
    "# First, standardize the total_amount data by subtracting by the mean and dividing by the standard deviation\n",
    "std_total_amount = (cab_data[\"total_amount\"] - np.mean(cab_data[\"total_amount\"]))/np.std(cab_data[\"total_amount\"])\n",
    "stats.probplot(std_total_amount, dist=\"norm\", plot=plt)"
   ]
  },
  {
   "cell_type": "markdown",
   "metadata": {},
   "source": [
    "The fact that our data doesn't follow the red line (quantiles of the normal distribution) suggests that the distribution of the price is quite non-normal. This implies that a linear model will be a poor fit, since a linear model attempts to fit a Gaussian to the price. We try a log transform of the price feature below."
   ]
  },
  {
   "cell_type": "code",
   "execution_count": 32,
   "metadata": {},
   "outputs": [
    {
     "data": {
      "text/plain": [
       "Text(0,0.5,'Frequency')"
      ]
     },
     "execution_count": 32,
     "metadata": {},
     "output_type": "execute_result"
    },
    {
     "data": {
      "image/png": "[encoded data removed]",
      "text/plain": [
       "<matplotlib.figure.Figure at 0x116e4cb38>"
      ]
     },
     "metadata": {},
     "output_type": "display_data"
    }
   ],
   "source": [
    "cab_data[\"log_total_amount\"] = np.log(cab_data[\"total_amount\"] + 1)\n",
    "plt.hist(np.log(cab_data[\"total_amount\"]), bins=50)\n",
    "plt.title(\"Histogram of log(Price) ($)\")\n",
    "plt.xlabel('log(Price) ($)')\n",
    "plt.ylabel('Frequency')"
   ]
  },
  {
   "cell_type": "markdown",
   "metadata": {},
   "source": [
    "The plot above looks more normal, as evidenced by the qq plot below."
   ]
  },
  {
   "cell_type": "code",
   "execution_count": 33,
   "metadata": {},
   "outputs": [
    {
     "data": {
      "text/plain": [
       "((array([-4.82353497, -4.64362929, -4.54636112, ...,  4.54636112,\n",
       "          4.64362929,  4.82353497]),\n",
       "  array([ 0.00995033,  0.26236426,  0.26236426, ...,  6.52032653,\n",
       "          6.58796315,  6.90705503])),\n",
       " (0.53922967709458047, 2.6428798090460202, 0.97236933129257075))"
      ]
     },
     "execution_count": 33,
     "metadata": {},
     "output_type": "execute_result"
    },
    {
     "data": {
      "image/png": "[encoded data removed]",
      "text/plain": [
       "<matplotlib.figure.Figure at 0x1a1c0eb080>"
      ]
     },
     "metadata": {},
     "output_type": "display_data"
    }
   ],
   "source": [
    "std_log_total_amount = (cab_data[\"log_total_amount\"] - np.mean(cab_data[\"log_total_amount\"]))/np.std(cab_data[\"log_total_amount\"])\n",
    "stats.probplot(cab_data[\"log_total_amount\"], dist=\"norm\", plot=plt)"
   ]
  },
  {
   "cell_type": "markdown",
   "metadata": {},
   "source": [
    "Next, let's create a scatter plot of the price vs. the distance (miles) of the trip."
   ]
  },
  {
   "cell_type": "code",
   "execution_count": 34,
   "metadata": {},
   "outputs": [
    {
     "data": {
      "text/plain": [
       "Text(0,0.5,'Price ($)')"
      ]
     },
     "execution_count": 34,
     "metadata": {},
     "output_type": "execute_result"
    },
    {
     "data": {
      "image/png": "[encoded data removed]",
      "text/plain": [
       "<matplotlib.figure.Figure at 0x1a1c102780>"
      ]
     },
     "metadata": {},
     "output_type": "display_data"
    }
   ],
   "source": [
    "plt.scatter(cab_data[\"distance\"], cab_data[\"total_amount\"])\n",
    "plt.title(\"Price ($) vs Distance (miles)\")\n",
    "plt.xlabel('Distance (miles)')\n",
    "plt.ylabel('Price ($)')"
   ]
  },
  {
   "cell_type": "markdown",
   "metadata": {},
   "source": [
    "Notice that the majority of trips are clustered around distances between 0-500 miles, but there are a few trips with very large distances, one greater than 3500 miles! The scope of our model is NYC, so we shall filter out trips longer than a threshold of 50 miles (see the section: Linear Model Take 2)."
   ]
  },
  {
   "cell_type": "markdown",
   "metadata": {},
   "source": [
    "Due to the large number of data points squashed in a very small region, we cannot glean any useful information about any trends between price and distance from the above plot. Instead, let's create a plot of price vs. distance for the first 1000 trips below."
   ]
  },
  {
   "cell_type": "code",
   "execution_count": 35,
   "metadata": {},
   "outputs": [
    {
     "data": {
      "text/plain": [
       "Text(0,0.5,'Price ($)')"
      ]
     },
     "execution_count": 35,
     "metadata": {},
     "output_type": "execute_result"
    },
    {
     "data": {
      "image/png": "[encoded data removed]",
      "text/plain": [
       "<matplotlib.figure.Figure at 0x1163719e8>"
      ]
     },
     "metadata": {},
     "output_type": "display_data"
    }
   ],
   "source": [
    "num_points = 1000\n",
    "plt.scatter(cab_data[\"distance\"][:num_points], cab_data[\"total_amount\"][:num_points])\n",
    "plt.title(\"Price ($) vs Distance (miles)\")\n",
    "plt.xlabel('Distance (miles)')\n",
    "plt.ylabel('Price ($)')"
   ]
  },
  {
   "cell_type": "markdown",
   "metadata": {},
   "source": [
    "As might be expected, from the above plot (of a small subset of the trip data), we can observe a linear trend between the price of a trip and its distance (miles). One other approach we can try in the case of a large number of data points is to create a 2D histogram (heat map) of the data."
   ]
  },
  {
   "cell_type": "code",
   "execution_count": 36,
   "metadata": {},
   "outputs": [
    {
     "data": {
      "text/plain": [
       "Text(0,0.5,'Price ($)')"
      ]
     },
     "execution_count": 36,
     "metadata": {},
     "output_type": "execute_result"
    },
    {
     "data": {
      "image/png": "[encoded data removed]",
      "text/plain": [
       "<matplotlib.figure.Figure at 0x1a1883a668>"
      ]
     },
     "metadata": {},
     "output_type": "display_data"
    }
   ],
   "source": [
    "plt.hist2d(cab_data[\"distance\"],cab_data[\"total_amount\"],bins=10);\n",
    "plt.colorbar();\n",
    "plt.set_cmap('hot')\n",
    "plt.title(\"Price ($) vs Distance (miles)\")\n",
    "plt.xlabel('Distance (miles)')\n",
    "plt.ylabel('Price ($)')"
   ]
  },
  {
   "cell_type": "markdown",
   "metadata": {},
   "source": [
    "The heatmap also supports our conclusion: the vast majority of trips have a price of less than \\$100 and a distance of less than 500 miles. How many trips have prices greater than \\$100? "
   ]
  },
  {
   "cell_type": "code",
   "execution_count": 37,
   "metadata": {},
   "outputs": [
    {
     "name": "stdout",
     "output_type": "stream",
     "text": [
      "1348 trips cost more than $100\n",
      "The most expensive trip costs $998.300\n"
     ]
    },
    {
     "data": {
      "text/html": [
       "<div>\n",
       "<style>\n",
       "    .dataframe thead tr:only-child th {\n",
       "        text-align: right;\n",
       "    }\n",
       "\n",
       "    .dataframe thead th {\n",
       "        text-align: left;\n",
       "    }\n",
       "\n",
       "    .dataframe tbody tr th {\n",
       "        vertical-align: top;\n",
       "    }\n",
       "</style>\n",
       "<table border=\"1\" class=\"dataframe\">\n",
       "  <thead>\n",
       "    <tr style=\"text-align: right;\">\n",
       "      <th></th>\n",
       "      <th>dropoff_latitude</th>\n",
       "      <th>dropoff_longitude</th>\n",
       "      <th>pickup_latitude</th>\n",
       "      <th>pickup_longitude</th>\n",
       "      <th>total_amount</th>\n",
       "      <th>tpep_dropoff_datetime</th>\n",
       "      <th>tpep_pickup_datetime</th>\n",
       "      <th>start_latlng</th>\n",
       "      <th>end_latlng</th>\n",
       "      <th>distance</th>\n",
       "      <th>...</th>\n",
       "      <th>Mean Temperature</th>\n",
       "      <th>Max Temperature</th>\n",
       "      <th>Min Temperature</th>\n",
       "      <th>Dew Point</th>\n",
       "      <th>Average Humidity</th>\n",
       "      <th>Precipitation</th>\n",
       "      <th>Snow</th>\n",
       "      <th>Wind Speed</th>\n",
       "      <th>Visibility</th>\n",
       "      <th>log_total_amount</th>\n",
       "    </tr>\n",
       "  </thead>\n",
       "  <tbody>\n",
       "    <tr>\n",
       "      <th>541</th>\n",
       "      <td>40.687695</td>\n",
       "      <td>-74.181274</td>\n",
       "      <td>40.785633</td>\n",
       "      <td>-73.969040</td>\n",
       "      <td>112.80</td>\n",
       "      <td>2016-04-18T08:38:22.000</td>\n",
       "      <td>2016-04-18T07:57:53.000</td>\n",
       "      <td>40.687695, -74.181274</td>\n",
       "      <td>40.785633, -73.969040</td>\n",
       "      <td>13.029107</td>\n",
       "      <td>...</td>\n",
       "      <td>67</td>\n",
       "      <td>82</td>\n",
       "      <td>51</td>\n",
       "      <td>30</td>\n",
       "      <td>34</td>\n",
       "      <td>0.00</td>\n",
       "      <td>0.0</td>\n",
       "      <td>4</td>\n",
       "      <td>10</td>\n",
       "      <td>4.734443</td>\n",
       "    </tr>\n",
       "    <tr>\n",
       "      <th>1053</th>\n",
       "      <td>40.217884</td>\n",
       "      <td>-74.004501</td>\n",
       "      <td>40.724216</td>\n",
       "      <td>-74.006996</td>\n",
       "      <td>209.15</td>\n",
       "      <td>2016-04-07T02:29:58.000</td>\n",
       "      <td>2016-04-07T01:13:02.000</td>\n",
       "      <td>40.217884, -74.004501</td>\n",
       "      <td>40.724216, -74.006996</td>\n",
       "      <td>34.936829</td>\n",
       "      <td>...</td>\n",
       "      <td>53</td>\n",
       "      <td>58</td>\n",
       "      <td>48</td>\n",
       "      <td>45</td>\n",
       "      <td>69</td>\n",
       "      <td>0.09</td>\n",
       "      <td>0.0</td>\n",
       "      <td>7</td>\n",
       "      <td>9</td>\n",
       "      <td>5.347822</td>\n",
       "    </tr>\n",
       "    <tr>\n",
       "      <th>2507</th>\n",
       "      <td>40.722610</td>\n",
       "      <td>-74.063568</td>\n",
       "      <td>40.770317</td>\n",
       "      <td>-73.867020</td>\n",
       "      <td>115.30</td>\n",
       "      <td>2016-04-08T10:54:51.000</td>\n",
       "      <td>2016-04-08T09:50:31.000</td>\n",
       "      <td>40.722610, -74.063568</td>\n",
       "      <td>40.770317, -73.867020</td>\n",
       "      <td>10.827208</td>\n",
       "      <td>...</td>\n",
       "      <td>45</td>\n",
       "      <td>50</td>\n",
       "      <td>40</td>\n",
       "      <td>26</td>\n",
       "      <td>48</td>\n",
       "      <td>0.01</td>\n",
       "      <td>0.0</td>\n",
       "      <td>7</td>\n",
       "      <td>10</td>\n",
       "      <td>4.756173</td>\n",
       "    </tr>\n",
       "    <tr>\n",
       "      <th>2520</th>\n",
       "      <td>40.697224</td>\n",
       "      <td>-73.811440</td>\n",
       "      <td>40.781620</td>\n",
       "      <td>-73.979401</td>\n",
       "      <td>103.59</td>\n",
       "      <td>2016-04-03T01:07:46.000</td>\n",
       "      <td>2016-04-03T00:04:33.000</td>\n",
       "      <td>40.697224, -73.811440</td>\n",
       "      <td>40.781620, -73.979401</td>\n",
       "      <td>10.565227</td>\n",
       "      <td>...</td>\n",
       "      <td>42</td>\n",
       "      <td>50</td>\n",
       "      <td>34</td>\n",
       "      <td>16</td>\n",
       "      <td>51</td>\n",
       "      <td>0.09</td>\n",
       "      <td>0.0</td>\n",
       "      <td>13</td>\n",
       "      <td>10</td>\n",
       "      <td>4.650048</td>\n",
       "    </tr>\n",
       "    <tr>\n",
       "      <th>2533</th>\n",
       "      <td>40.687714</td>\n",
       "      <td>-74.182350</td>\n",
       "      <td>40.644825</td>\n",
       "      <td>-73.781975</td>\n",
       "      <td>138.88</td>\n",
       "      <td>2016-04-02T19:40:58.000</td>\n",
       "      <td>2016-04-02T18:49:45.000</td>\n",
       "      <td>40.687714, -74.182350</td>\n",
       "      <td>40.644825, -73.781975</td>\n",
       "      <td>21.243622</td>\n",
       "      <td>...</td>\n",
       "      <td>55</td>\n",
       "      <td>61</td>\n",
       "      <td>49</td>\n",
       "      <td>42</td>\n",
       "      <td>63</td>\n",
       "      <td>0.15</td>\n",
       "      <td>0.0</td>\n",
       "      <td>5</td>\n",
       "      <td>10</td>\n",
       "      <td>4.940785</td>\n",
       "    </tr>\n",
       "  </tbody>\n",
       "</table>\n",
       "<p>5 rows × 37 columns</p>\n",
       "</div>"
      ],
      "text/plain": [
       "      dropoff_latitude  dropoff_longitude  pickup_latitude  pickup_longitude  \\\n",
       "541          40.687695         -74.181274        40.785633        -73.969040   \n",
       "1053         40.217884         -74.004501        40.724216        -74.006996   \n",
       "2507         40.722610         -74.063568        40.770317        -73.867020   \n",
       "2520         40.697224         -73.811440        40.781620        -73.979401   \n",
       "2533         40.687714         -74.182350        40.644825        -73.781975   \n",
       "\n",
       "      total_amount    tpep_dropoff_datetime     tpep_pickup_datetime  \\\n",
       "541         112.80  2016-04-18T08:38:22.000  2016-04-18T07:57:53.000   \n",
       "1053        209.15  2016-04-07T02:29:58.000  2016-04-07T01:13:02.000   \n",
       "2507        115.30  2016-04-08T10:54:51.000  2016-04-08T09:50:31.000   \n",
       "2520        103.59  2016-04-03T01:07:46.000  2016-04-03T00:04:33.000   \n",
       "2533        138.88  2016-04-02T19:40:58.000  2016-04-02T18:49:45.000   \n",
       "\n",
       "               start_latlng             end_latlng   distance  \\\n",
       "541   40.687695, -74.181274  40.785633, -73.969040  13.029107   \n",
       "1053  40.217884, -74.004501  40.724216, -74.006996  34.936829   \n",
       "2507  40.722610, -74.063568  40.770317, -73.867020  10.827208   \n",
       "2520  40.697224, -73.811440  40.781620, -73.979401  10.565227   \n",
       "2533  40.687714, -74.182350  40.644825, -73.781975  21.243622   \n",
       "\n",
       "            ...         Mean Temperature  Max Temperature  Min Temperature  \\\n",
       "541         ...                       67               82               51   \n",
       "1053        ...                       53               58               48   \n",
       "2507        ...                       45               50               40   \n",
       "2520        ...                       42               50               34   \n",
       "2533        ...                       55               61               49   \n",
       "\n",
       "      Dew Point  Average Humidity  Precipitation  Snow  Wind Speed  \\\n",
       "541          30                34           0.00   0.0           4   \n",
       "1053         45                69           0.09   0.0           7   \n",
       "2507         26                48           0.01   0.0           7   \n",
       "2520         16                51           0.09   0.0          13   \n",
       "2533         42                63           0.15   0.0           5   \n",
       "\n",
       "      Visibility  log_total_amount  \n",
       "541           10          4.734443  \n",
       "1053           9          5.347822  \n",
       "2507          10          4.756173  \n",
       "2520          10          4.650048  \n",
       "2533          10          4.940785  \n",
       "\n",
       "[5 rows x 37 columns]"
      ]
     },
     "execution_count": 37,
     "metadata": {},
     "output_type": "execute_result"
    }
   ],
   "source": [
    "high_prices = cab_data.loc[cab_data['total_amount'] >= 100]\n",
    "print(\"%d trips cost more than $100\" % len(high_prices))\n",
    "print(\"The most expensive trip costs $%0.3f\" % max(cab_data['total_amount']))\n",
    "high_prices.head()"
   ]
  },
  {
   "cell_type": "markdown",
   "metadata": {},
   "source": [
    "We'll remember this point about the distribution of prices, when attempting to improve our initial model (see section: Linear Model Take 2)."
   ]
  },
  {
   "cell_type": "markdown",
   "metadata": {},
   "source": [
    "## Linear Model Take 1"
   ]
  },
  {
   "cell_type": "markdown",
   "metadata": {},
   "source": [
    "Having analyzed our data in the previous section, let's build a simple linear model to predict the price of a trip. Our first step is to define the subset of features from the original dataset that we wish to use in creating a price model."
   ]
  },
  {
   "cell_type": "code",
   "execution_count": 38,
   "metadata": {
    "collapsed": true
   },
   "outputs": [],
   "source": [
    "feature_names = ['distance', 'duration', 'tpep_dropoff_datetime_years', 'tpep_dropoff_datetime_months',\n",
    "       'tpep_dropoff_datetime_days', 'tpep_dropoff_datetime_hours',\n",
    "       'tpep_dropoff_datetime_minutes', 'tpep_dropoff_datetime_seconds',\n",
    "       'tpep_dropoff_datetime_day_of_week',\n",
    "       'tpep_dropoff_datetime_is_holiday', 'tpep_pickup_datetime_years',\n",
    "       'tpep_pickup_datetime_months', 'tpep_pickup_datetime_days',\n",
    "       'tpep_pickup_datetime_hours', 'tpep_pickup_datetime_minutes',\n",
    "       'tpep_pickup_datetime_seconds', 'tpep_pickup_datetime_day_of_week',\n",
    "       'tpep_pickup_datetime_is_holiday', 'Mean Temperature',\n",
    "       'Max Temperature', 'Min Temperature', 'Dew Point',\n",
    "       'Average Humidity', 'Precipitation', 'Snow', 'Wind Speed',\n",
    "       'Visibility']"
   ]
  },
  {
   "cell_type": "markdown",
   "metadata": {},
   "source": [
    "Next, we create a numpy array holding the examples from our dataset. For each example, we extract the features that we defined above. We also create a list of the `log(price)` for each example."
   ]
  },
  {
   "cell_type": "code",
   "execution_count": 39,
   "metadata": {},
   "outputs": [],
   "source": [
    "def create_features(df, feature_names):\n",
    "    features = []\n",
    "    for feature_name in feature_names:\n",
    "        features.append(df[feature_name])\n",
    "    \n",
    "    X = np.array(features).T\n",
    "    y = df[\"log_total_amount\"].values\n",
    "    return (X,y)\n",
    "\n",
    "(X,y) = create_features(cab_data, feature_names)"
   ]
  },
  {
   "cell_type": "markdown",
   "metadata": {},
   "source": [
    "Next, we partition the data into training and testing splits, and further partition the training data into training and cross-validation splits."
   ]
  },
  {
   "cell_type": "code",
   "execution_count": 40,
   "metadata": {
    "collapsed": true
   },
   "outputs": [],
   "source": [
    "def create_train_test_split(X,y):\n",
    "    X_, X_test, y_, y_test = train_test_split(X, y, test_size = 0.3, random_state=0)\n",
    "    X_train, X_cv, y_train, y_cv = train_test_split(X_, y_, test_size = 0.3, random_state=0)\n",
    "    \n",
    "    return (X_train, y_train, X_cv, y_cv, X_test, y_test)\n",
    "\n",
    "(X_train, y_train, X_cv, y_cv, X_test, y_test) = create_train_test_split(X,y)"
   ]
  },
  {
   "cell_type": "markdown",
   "metadata": {},
   "source": [
    "Finally, we build a simple linear model on the training data and evaluate its performance by computing the mean squared error on the validation data. "
   ]
  },
  {
   "cell_type": "code",
   "execution_count": 51,
   "metadata": {},
   "outputs": [
    {
     "name": "stdout",
     "output_type": "stream",
     "text": [
      "Mean squared error: 0.06454\n"
     ]
    }
   ],
   "source": [
    "def train_linear_regression(X_train, y_train, X_test, y_test):\n",
    "    model = linear_model.LinearRegression(fit_intercept=True, normalize=False)\n",
    "    model.fit(X_train, y_train)\n",
    "    y_pred = model.predict(X_test)\n",
    "    error = mean_squared_error(y_test, y_pred)\n",
    "    print(\"Mean squared error: %.5f\" % error)\n",
    "    return (model, y_pred, error)\n",
    "\n",
    "(model, y_pred, error) = train_linear_regression(X_train, y_train, X_cv, y_cv)"
   ]
  },
  {
   "cell_type": "markdown",
   "metadata": {},
   "source": [
    "Below, we also define a utility function that takes in a data frame of test examples and a model, and returns a list of the model's predictions on the test examples, as well as the list of actual prices."
   ]
  },
  {
   "cell_type": "code",
   "execution_count": 52,
   "metadata": {
    "collapsed": true
   },
   "outputs": [],
   "source": [
    "def predict(df, model):\n",
    "    (X,y) = create_features(df)\n",
    "    y_pred = model.predict(X)\n",
    "    y_actual = df[\"log_total_amount\"].values\n",
    "    return y_pred, y_actual"
   ]
  },
  {
   "cell_type": "markdown",
   "metadata": {},
   "source": [
    "## Linear Model Take 2"
   ]
  },
  {
   "cell_type": "markdown",
   "metadata": {},
   "source": [
    "In the previous section, we developed a simple linear model that achieved a mean squared error of 0.10979 on the validation set. Can we do better? In the EDA section, we noticed that we had several outlier trips with really high distances and outliers with really high prices. Also, we noticed that some trips' pickup/dropoff location lat-lon coordinates were not even in NYC! Below, we filter the dataset according to these criteria."
   ]
  },
  {
   "cell_type": "code",
   "execution_count": 53,
   "metadata": {
    "collapsed": true
   },
   "outputs": [],
   "source": [
    "def filter_data(cab_data):\n",
    "    # Price range of trip: $[0,50]\n",
    "    cab_data = cab_data[cab_data[\"total_amount\"] >= 0]\n",
    "    cab_data = cab_data[cab_data[\"total_amount\"] <= 50]\n",
    "    \n",
    "    # Distance range of trip: [0,100] miles\n",
    "    cab_data = cab_data[cab_data[\"distance\"] >= 0]\n",
    "    cab_data = cab_data[cab_data[\"distance\"] <= 100]\n",
    "    \n",
    "    # Lat-Lon coordinates of NYC:\n",
    "    # Latitude: [40.4,41]\n",
    "    # Longitude: [-74.3, -73.5]\n",
    "    cab_data = cab_data[cab_data['dropoff_latitude'] >= 40.4]\n",
    "    cab_data = cab_data[cab_data['dropoff_latitude'] <= 41]\n",
    "    cab_data = cab_data[cab_data['dropoff_longitude'] >= -74.3]\n",
    "    cab_data = cab_data[cab_data['dropoff_longitude'] <= -73.5]\n",
    "    \n",
    "    cab_data = cab_data[cab_data['pickup_latitude'] >= 40.4]\n",
    "    cab_data = cab_data[cab_data['pickup_latitude'] <= 41]\n",
    "    cab_data = cab_data[cab_data['pickup_longitude'] >= -75]\n",
    "    cab_data = cab_data[cab_data['pickup_longitude'] <= -72]\n",
    "    \n",
    "    return cab_data\n",
    "cab_data = filter_data(cab_data)"
   ]
  },
  {
   "cell_type": "markdown",
   "metadata": {},
   "source": [
    "Let's run our linear model on the filtered dataset. "
   ]
  },
  {
   "cell_type": "code",
   "execution_count": 54,
   "metadata": {},
   "outputs": [
    {
     "name": "stdout",
     "output_type": "stream",
     "text": [
      "Mean squared error: 0.06454\n"
     ]
    }
   ],
   "source": [
    "(X,y) = create_features(cab_data, feature_names)\n",
    "(X_train, y_train, X_cv, y_cv, X_test, y_test) = create_train_test_split(X,y)\n",
    "(model, y_pred, error) = train_linear_regression(X_train, y_train, X_cv, y_cv)"
   ]
  },
  {
   "cell_type": "markdown",
   "metadata": {},
   "source": [
    "Great, we've improved our model's mean squared error on the validation data from 0.110 to 0.065! Let's take a look at our model's coefficients to interpret how our model is arriving at its estimated prices."
   ]
  },
  {
   "cell_type": "code",
   "execution_count": 55,
   "metadata": {},
   "outputs": [
    {
     "name": "stdout",
     "output_type": "stream",
     "text": [
      "Slope on feature distance is: 0.24414178\n",
      "Slope on feature duration is: 0.00031976\n",
      "Slope on feature tpep_dropoff_datetime_years is: -0.00000000\n",
      "Slope on feature tpep_dropoff_datetime_months is: 1.92983951\n",
      "Slope on feature tpep_dropoff_datetime_days is: 0.06453345\n",
      "Slope on feature tpep_dropoff_datetime_hours is: 0.00690622\n",
      "Slope on feature tpep_dropoff_datetime_minutes is: 0.00000669\n",
      "Slope on feature tpep_dropoff_datetime_seconds is: 0.00000648\n",
      "Slope on feature tpep_dropoff_datetime_day_of_week is: 0.01752429\n",
      "Slope on feature tpep_dropoff_datetime_is_holiday is: 0.15100658\n",
      "Slope on feature tpep_pickup_datetime_years is: 0.00000000\n",
      "Slope on feature tpep_pickup_datetime_months is: -1.92201693\n",
      "Slope on feature tpep_pickup_datetime_days is: -0.06305235\n",
      "Slope on feature tpep_pickup_datetime_hours is: -0.00343917\n",
      "Slope on feature tpep_pickup_datetime_minutes is: -0.00013180\n",
      "Slope on feature tpep_pickup_datetime_seconds is: -0.00001118\n",
      "Slope on feature tpep_pickup_datetime_day_of_week is: -0.02752394\n",
      "Slope on feature tpep_pickup_datetime_is_holiday is: -0.21204252\n",
      "Slope on feature Mean Temperature is: -0.00225166\n",
      "Slope on feature Max Temperature is: -0.00155748\n",
      "Slope on feature Min Temperature is: 0.00343522\n",
      "Slope on feature Dew Point is: 0.00107306\n",
      "Slope on feature Average Humidity is: -0.00052913\n",
      "Slope on feature Precipitation is: 0.02671529\n",
      "Slope on feature Snow is: 0.00264039\n",
      "Slope on feature Wind Speed is: -0.00271775\n",
      "Slope on feature Visibility is: 0.01151108\n"
     ]
    }
   ],
   "source": [
    "coeffs = model.coef_\n",
    "for coeff,feature_name in zip(model.coef_, feature_names):\n",
    "    print(\"Slope on feature %s is: %0.8f\" % (feature_name, coeff))"
   ]
  },
  {
   "cell_type": "markdown",
   "metadata": {},
   "source": [
    "One of the advantages of a simple linear model is its interpretability: A coefficient of 0.244 on distance suggests that an increase of one mile to the trip causes the price of the trip goes up by \\$0.244 (holding all other variables constant). We can interpret features with really low weights, such as `tpep_pickup_datetime_years`, as having little influence on the predicted price. This makes sense, since the years feature is actually constant for all trips! Another interesting observation is the coefficient of -0.212 on is_holiday. This means that, all things equal, the price of a trip is $0.21 less on holidays!"
   ]
  },
  {
   "cell_type": "markdown",
   "metadata": {},
   "source": [
    "## Gradient Boosting Model"
   ]
  },
  {
   "cell_type": "markdown",
   "metadata": {},
   "source": [
    "Next, we try a more complicated model: the GradientBoostingRegressor provided by Sci-kit learn. This model consists of an ensemble of different regressors to boost performance, which you can read more about here: http://scikit-learn.org/stable/modules/generated/sklearn.ensemble.GradientBoostingRegressor.html. First, let's train the model."
   ]
  },
  {
   "cell_type": "code",
   "execution_count": 73,
   "metadata": {},
   "outputs": [
    {
     "data": {
      "text/plain": [
       "GradientBoostingRegressor(alpha=0.9, criterion='friedman_mse', init=None,\n",
       "             learning_rate=0.1, loss='ls', max_depth=3, max_features=None,\n",
       "             max_leaf_nodes=None, min_impurity_decrease=0.0,\n",
       "             min_impurity_split=None, min_samples_leaf=1,\n",
       "             min_samples_split=2, min_weight_fraction_leaf=0.0,\n",
       "             n_estimators=100, presort='auto', random_state=None,\n",
       "             subsample=1.0, verbose=0, warm_start=False)"
      ]
     },
     "execution_count": 73,
     "metadata": {},
     "output_type": "execute_result"
    }
   ],
   "source": [
    "clf = GradientBoostingRegressor()\n",
    "clf.fit(X_train, y_train)"
   ]
  },
  {
   "cell_type": "markdown",
   "metadata": {},
   "source": [
    "Next, let's inspect the model's mean-squared errors on the training and validation sets. We also provide a baseline MSE achieved by predicting the mean price of the training data for all examples."
   ]
  },
  {
   "cell_type": "code",
   "execution_count": 74,
   "metadata": {},
   "outputs": [
    {
     "name": "stdout",
     "output_type": "stream",
     "text": [
      "Training MSE:  0.0155140948981\n",
      "Baseline training MSE:  0.223299264109\n"
     ]
    }
   ],
   "source": [
    "print(\"Training MSE: \", np.mean((clf.predict(X_train) - y_train)**2))\n",
    "print(\"Baseline training MSE: \", np.mean((np.mean(y_train) - y_train)**2))"
   ]
  },
  {
   "cell_type": "code",
   "execution_count": 75,
   "metadata": {},
   "outputs": [
    {
     "name": "stdout",
     "output_type": "stream",
     "text": [
      "CV MSE:  0.0156961759282\n",
      "Baseline CV MSE:  0.222950525042\n"
     ]
    }
   ],
   "source": [
    "print(\"CV MSE: \", np.mean((clf.predict(X_cv) - y_cv)**2))\n",
    "print(\"Baseline CV MSE: \", np.mean((np.mean(y_train) - y_cv)**2))"
   ]
  },
  {
   "cell_type": "markdown",
   "metadata": {},
   "source": [
    "We can see that our model seems to be learning - we're achieving significant improvement in MSE as compared to the baseline."
   ]
  },
  {
   "cell_type": "markdown",
   "metadata": {},
   "source": [
    "Below is a graph showing the training and testing MSE as a function of sample size. Notice that, interestingly, we get close to MSE of 0.02 on the validation set even after fitting a model on just the first 1000 samples!"
   ]
  },
  {
   "cell_type": "code",
   "execution_count": 76,
   "metadata": {},
   "outputs": [
    {
     "data": {
      "text/plain": [
       "<matplotlib.legend.Legend at 0x1a1c2c27b8>"
      ]
     },
     "execution_count": 76,
     "metadata": {},
     "output_type": "execute_result"
    },
    {
     "data": {
      "image/png": "[encoded data removed]",
      "text/plain": [
       "<matplotlib.figure.Figure at 0x1a1c2c2160>"
      ]
     },
     "metadata": {},
     "output_type": "display_data"
    }
   ],
   "source": [
    "def get_err_samples(clf, X, y, X_cv, y_cv, n_samples):\n",
    "    clf.fit(X[:n_samples], y[:n_samples])\n",
    "    return np.array([np.mean((clf.predict(X[:n_samples]) - y[:n_samples])**2), \n",
    "                     np.mean((clf.predict(X_cv) - y_cv)**2)])\n",
    "\n",
    "n_samples = [int(x) for x in np.linspace(20, 10000, 10)] # 1000, 2000, ..., 10000\n",
    "errors = np.array([get_err_samples(clf, X_train, y_train, X_cv, y_cv, n) for n in n_samples])\n",
    "plt.plot(n_samples, errors[:,0], n_samples, errors[:,1])\n",
    "plt.legend([\"Training\", \"Validation\"])"
   ]
  },
  {
   "cell_type": "markdown",
   "metadata": {},
   "source": [
    "## Principal Component Analysis (PCA)"
   ]
  },
  {
   "cell_type": "markdown",
   "metadata": {},
   "source": [
    "Principal Component Analysis (PCA) is a common way to speed up machine learning algorithms. PCA's [wikipedia page](https://en.wikipedia.org/wiki/Principal_component_analysis) describes that PCA tends to convert possibly correlated variables into a set of linearly uncorrelated variables. PCA is commonly used as it is able to reduce data of high dimensionality to fewer dimensions, making it easier to analyze and train models on.\n",
    "\n",
    "Applying PCA is pretty simple using Scikit-learn. There's a PCA class available in their library, that takes in the number of components and allows us to transform our data on the resulting number of dimensions. More information at: \n",
    "\n",
    "\n",
    "\n",
    "\n",
    "http://scikit-learn.org/stable/modules/generated/sklearn.decomposition.PCA.html"
   ]
  },
  {
   "cell_type": "markdown",
   "metadata": {},
   "source": [
    "In the cell below, we will run PCA with Linear Regression. We will also run it for all the dimensions of the data to see the best number of dimensions for PCA. "
   ]
  },
  {
   "cell_type": "code",
   "execution_count": 77,
   "metadata": {},
   "outputs": [
    {
     "name": "stdout",
     "output_type": "stream",
     "text": [
      "27\n",
      "1\n",
      "Mean squared error: 0.21881\n",
      "2\n",
      "Mean squared error: 0.21856\n",
      "3\n",
      "Mean squared error: 0.21856\n",
      "4\n",
      "Mean squared error: 0.21855\n",
      "5\n",
      "Mean squared error: 0.21856\n",
      "6\n",
      "Mean squared error: 0.21855\n",
      "7\n",
      "Mean squared error: 0.21835\n",
      "8\n",
      "Mean squared error: 0.21834\n",
      "9\n",
      "Mean squared error: 0.21826\n",
      "10\n",
      "Mean squared error: 0.21826\n",
      "11\n",
      "Mean squared error: 0.21825\n",
      "12\n",
      "Mean squared error: 0.21825\n",
      "13\n",
      "Mean squared error: 0.21826\n",
      "14\n",
      "Mean squared error: 0.12460\n",
      "15\n",
      "Mean squared error: 0.08745\n",
      "16\n",
      "Mean squared error: 0.06481\n",
      "17\n",
      "Mean squared error: 0.06470\n",
      "18\n",
      "Mean squared error: 0.06468\n",
      "19\n",
      "Mean squared error: 0.06468\n",
      "20\n",
      "Mean squared error: 0.06458\n",
      "21\n",
      "Mean squared error: 0.06458\n",
      "22\n",
      "Mean squared error: 0.06455\n",
      "23\n",
      "Mean squared error: 0.06454\n",
      "24\n",
      "Mean squared error: 0.06454\n",
      "25\n",
      "Mean squared error: 0.06454\n",
      "26\n",
      "Mean squared error: 0.06454\n",
      "27\n",
      "Mean squared error: 0.06454\n"
     ]
    }
   ],
   "source": [
    "def applyPCAWithLR(X_train, y_train, X_test, y_test):\n",
    "    numCols = X_train.shape[1]\n",
    "    errors = []\n",
    "    print(numCols)\n",
    "    for i in range(numCols):\n",
    "        print(i+1)\n",
    "        # Initialize the PCA class and pass in the number of dimensions to which you want to reduce your data to.\n",
    "        pca = PCA(n_components = i+1)\n",
    "\n",
    "        # Fit the training data to the PCA model.\n",
    "        pca.fit(X_train)\n",
    "\n",
    "        # Reduce the dimensionality of the training set.\n",
    "        newX_train = pca.transform(X_train)\n",
    "\n",
    "        # Reduce the dimensionality of the testing set.\n",
    "        newX_test = pca.transform(X_test)\n",
    "        \n",
    "        (model, y_pred, error) = train_linear_regression(newX_train, y_train, newX_test, y_test)\n",
    "        errors.append(error)\n",
    "    return errors\n",
    "\n",
    "cvError = applyPCAWithLR(X_train, y_train, X_cv, y_cv)"
   ]
  },
  {
   "cell_type": "markdown",
   "metadata": {},
   "source": [
    "Now, we have a list of error values for each number of reduced dimensions. Using this, we can plot a graph of the error vs number of dimensions."
   ]
  },
  {
   "cell_type": "code",
   "execution_count": 71,
   "metadata": {},
   "outputs": [
    {
     "data": {
      "text/plain": [
       "Text(0,0.5,'MSE')"
      ]
     },
     "execution_count": 71,
     "metadata": {},
     "output_type": "execute_result"
    },
    {
     "data": {
      "image/png": "[encoded data removed]",
      "text/plain": [
       "<matplotlib.figure.Figure at 0x1a1c2c21d0>"
      ]
     },
     "metadata": {},
     "output_type": "display_data"
    }
   ],
   "source": [
    "xAxisPlot = list(range(1, X_train.shape[1]+1))\n",
    "plt.plot(xAxisPlot, cvError)\n",
    "plt.xlabel('Number of Dimensions')\n",
    "plt.ylabel('MSE')"
   ]
  },
  {
   "cell_type": "markdown",
   "metadata": {},
   "source": [
    "In the above graph, it is visible that the error rate becomes mostly constant after 16 dimensions. Hence, for our data, 16 dimensions would be the best. \n",
    "\n",
    "Next, we will run PCA with Gradient Boosting using 16 dimensions, in an attempt to obtain even better results."
   ]
  },
  {
   "cell_type": "code",
   "execution_count": 70,
   "metadata": {},
   "outputs": [
    {
     "data": {
      "text/plain": [
       "GradientBoostingRegressor(alpha=0.9, criterion='friedman_mse', init=None,\n",
       "             learning_rate=0.1, loss='ls', max_depth=3, max_features=None,\n",
       "             max_leaf_nodes=None, min_impurity_decrease=0.0,\n",
       "             min_impurity_split=None, min_samples_leaf=1,\n",
       "             min_samples_split=2, min_weight_fraction_leaf=0.0,\n",
       "             n_estimators=100, presort='auto', random_state=None,\n",
       "             subsample=1.0, verbose=0, warm_start=False)"
      ]
     },
     "execution_count": 70,
     "metadata": {},
     "output_type": "execute_result"
    }
   ],
   "source": [
    "def applyPCA(X_train, X_test, numComponents):\n",
    "    pca = PCA(n_components = numComponents)\n",
    "\n",
    "    # Fit the training data to the PCA model.\n",
    "    pca.fit(X_train)\n",
    "\n",
    "    # Reduce the dimensionality of the training set.\n",
    "    newX_train = pca.transform(X_train)\n",
    "\n",
    "    # Reduce the dimensionality of the testing set.\n",
    "    newX_test = pca.transform(X_test)\n",
    "    \n",
    "    return newX_train, newX_test\n",
    "\n",
    "pcaX_train, pcaX_cv = applyPCA(X_train, X_cv, 16)\n",
    "clfPCA = GradientBoostingRegressor()\n",
    "clfPCA.fit(pcaX_train, y_train)"
   ]
  },
  {
   "cell_type": "code",
   "execution_count": 66,
   "metadata": {},
   "outputs": [
    {
     "name": "stdout",
     "output_type": "stream",
     "text": [
      "Training MSE:  0.0166747462133\n",
      "Baseline training MSE:  0.223299264109\n"
     ]
    }
   ],
   "source": [
    "print(\"Training MSE: \", np.mean((clfPCA.predict(pcaX_train) - y_train)**2))\n",
    "print(\"Baseline training MSE: \", np.mean((np.mean(y_train) - y_train)**2))"
   ]
  },
  {
   "cell_type": "code",
   "execution_count": 67,
   "metadata": {},
   "outputs": [
    {
     "name": "stdout",
     "output_type": "stream",
     "text": [
      "CV MSE:  0.0168506091987\n",
      "Baseline CV MSE:  0.222950525042\n"
     ]
    }
   ],
   "source": [
    "print(\"CV MSE: \", np.mean((clfPCA.predict(pcaX_cv) - y_cv)**2))\n",
    "print(\"Baseline CV MSE: \", np.mean((np.mean(y_train) - y_cv)**2))"
   ]
  },
  {
   "cell_type": "code",
   "execution_count": 68,
   "metadata": {},
   "outputs": [
    {
     "data": {
      "text/plain": [
       "<matplotlib.legend.Legend at 0x1a1a5f1d30>"
      ]
     },
     "execution_count": 68,
     "metadata": {},
     "output_type": "execute_result"
    },
    {
     "data": {
      "image/png": "[encoded data removed]",
      "text/plain": [
       "<matplotlib.figure.Figure at 0x1a1a5f1cf8>"
      ]
     },
     "metadata": {},
     "output_type": "display_data"
    }
   ],
   "source": [
    "def get_err_samples(clf, X, y, X_cv, y_cv, n_samples):\n",
    "    clf.fit(X[:n_samples], y[:n_samples])\n",
    "    return np.array([np.mean((clf.predict(X[:n_samples]) - y[:n_samples])**2), \n",
    "                     np.mean((clf.predict(X_cv) - y_cv)**2)])\n",
    "\n",
    "n_samples = [int(x) for x in np.linspace(20, 10000, 10)] # 1000, 2000, ..., 10000\n",
    "errors = np.array([get_err_samples(clfPCA, pcaX_train, y_train, pcaX_cv, y_cv, n) for n in n_samples])\n",
    "plt.plot(n_samples, errors[:,0], n_samples, errors[:,1])\n",
    "plt.legend([\"Training\", \"Validation\"])"
   ]
  },
  {
   "cell_type": "markdown",
   "metadata": {},
   "source": [
    "Based on the cross-validated errors of each model, it seems that Gradient Boosting (without PCA) seems to be performing the best. Hence, we shall use this as our final model.\n",
    "\n",
    "Finally, let's look at model's performance on the test set - a proxy for how our model will do on future trip data!"
   ]
  },
  {
   "cell_type": "code",
   "execution_count": 78,
   "metadata": {},
   "outputs": [
    {
     "name": "stdout",
     "output_type": "stream",
     "text": [
      "Test MSE:  0.0167250077094\n",
      "Baseline Test MSE:  0.22328588427\n"
     ]
    }
   ],
   "source": [
    "print(\"Test MSE: \", np.mean((clf.predict(X_test) - y_test)**2))\n",
    "print(\"Baseline Test MSE: \", np.mean((np.mean(y_train) - y_test)**2))"
   ]
  },
  {
   "cell_type": "markdown",
   "metadata": {},
   "source": [
    "## Compare and Contrast with Uber\n",
    "\n",
    "The outline for the comparison is as follows:\n",
    "\n",
    "1) Specify an interval of time and a sampling rate for which we will make real-time queries to Uber for cab pricing.\n",
    "\n",
    "2) Randomly select a subset of trips from the original dataset. We will use the starting and ending position of each trip only, and build the remaining features based off of current information (e.g current weather, current datetime, etc...).\n",
    "\n",
    "3) For each randomly selected trip, make a real-time Uber request for pricing information for that trip. Also, generate features for that trip based on current information.\n",
    "\n",
    "4) Input the generated features for current trip into our Model and get prediction.\n",
    "\n",
    "5) Compare model predicted pricings to Uber pricings."
   ]
  },
  {
   "cell_type": "markdown",
   "metadata": {},
   "source": [
    "First, specify the time period (in minutes). Let's sample for 1 hour at a rate of 1 query per 5 minutes. This means we will make 60/5 = 12 queries to Uber API and therefore 12 sample trips."
   ]
  },
  {
   "cell_type": "code",
   "execution_count": 25,
   "metadata": {},
   "outputs": [
    {
     "name": "stdout",
     "output_type": "stream",
     "text": [
      "We will be making 12 calls to uber API.\n"
     ]
    }
   ],
   "source": [
    "#Step 1: Determine interval for sampling Uber API\n",
    "time_period = 1*60 #In X hrs * 60 minutes \n",
    "sample_rate = 5 #In 1 sample per *sample_rate* minutes\n",
    "num_samples = time_period // sample_rate\n",
    "print(\"We will be making %d calls to uber API.\" % num_samples)\n",
    "\n",
    "#Step 2: Get random subset of data to use as test points\n",
    "cab_data = pd.read_csv(\"data_with_features.csv\")\n",
    "del cab_data[\"Unnamed: 0\"]\n",
    "del cab_data[\"Unnamed: 0.1\"]\n",
    "del cab_data[\"Unnamed: 0.1.1\"]\n",
    "\n",
    "#Filter out any nonzero price values\n",
    "price_filter = cab_data[\"total_amount\"] > 0\n",
    "cab_data = cab_data[price_filter]\n",
    "\n",
    "#Filter out any negative distance values\n",
    "dist_filter = cab_data['distance'] > 0\n",
    "cab_data = cab_data[dist_filter]\n",
    "\n",
    "#Add the log total amount (for price verification)\n",
    "cab_data[\"log_total_amount\"] = np.log(cab_data[\"total_amount\"] + 1)\n",
    "\n",
    "#Randomly sample data\n",
    "sample_data = cab_data.sample(n=num_samples)\n",
    "sample_data = sample_data[['start_latlng', 'end_latlng', 'distance', 'duration']]\n",
    "#print(sample_data)"
   ]
  },
  {
   "cell_type": "code",
   "execution_count": 26,
   "metadata": {},
   "outputs": [
    {
     "name": "stdout",
     "output_type": "stream",
     "text": [
      "Number of features:  27\n"
     ]
    }
   ],
   "source": [
    "#List of features we are using in our model\n",
    "feature_names = ['distance', 'duration', 'tpep_dropoff_datetime_years', 'tpep_dropoff_datetime_months',\n",
    "       'tpep_dropoff_datetime_days', 'tpep_dropoff_datetime_hours',\n",
    "       'tpep_dropoff_datetime_minutes', 'tpep_dropoff_datetime_seconds',\n",
    "       'tpep_dropoff_datetime_day_of_week',\n",
    "       'tpep_dropoff_datetime_is_holiday', 'tpep_pickup_datetime_years',\n",
    "       'tpep_pickup_datetime_months', 'tpep_pickup_datetime_days',\n",
    "       'tpep_pickup_datetime_hours', 'tpep_pickup_datetime_minutes',\n",
    "       'tpep_pickup_datetime_seconds', 'tpep_pickup_datetime_day_of_week',\n",
    "       'tpep_pickup_datetime_is_holiday', 'Mean Temperature',\n",
    "       'Max Temperature', 'Min Temperature', 'Dew Point',\n",
    "       'Average Humidity', 'Precipitation', 'Snow', 'Wind Speed',\n",
    "       'Visibility']\n",
    "print(\"Number of features: \", len(feature_names))"
   ]
  },
  {
   "cell_type": "markdown",
   "metadata": {},
   "source": [
    "Now that we have our randomly sampled 12 trips, we can generate features for each trip and compute Uber estimates.\n",
    "\n",
    "getPriceNow() is our interface for Uber API, and we can make a request for an Uber and get pricing information. The server_token is purposefully redacted."
   ]
  },
  {
   "cell_type": "code",
   "execution_count": 38,
   "metadata": {
    "collapsed": true
   },
   "outputs": [],
   "source": [
    "# Gets the current price given the start and end locations.\n",
    "def getPriceNow(startLat, startLong, endLat, endLong):\n",
    "    # Left out the server token as the repo is public.\n",
    "    session = Session(server_token=\"\")\n",
    "    client = UberRidesClient(session)\n",
    "\n",
    "    response = client.get_price_estimates(\n",
    "        start_latitude=startLat,\n",
    "        start_longitude=startLong,\n",
    "        end_latitude=endLat,\n",
    "        end_longitude=endLong,\n",
    "        seat_count=1\n",
    "    )\n",
    "\n",
    "    estimate = response.json.get('prices')\n",
    "\n",
    "    return estimate"
   ]
  },
  {
   "cell_type": "code",
   "execution_count": 40,
   "metadata": {
    "collapsed": true
   },
   "outputs": [],
   "source": [
    "#Given a dataframe of trips, computes features for Model estimates and Uber estimates for pricing of each trip.\n",
    "#Returns model features for each trips and uber prices\n",
    "#Writes to \"price_estimates.csv\" and \"price_features.csv\"\n",
    "def generate_estimates(sample_data):\n",
    "\n",
    "\n",
    "    data_with_features = []\n",
    "    uber_estimates = []\n",
    "\n",
    "    for (idx,row) in sample_data.iterrows():\n",
    "\n",
    "        ########## CREATE TIME/DATE/WEATHER FEATURES FOR MODEL ESTIMATE ###############\n",
    "        F = open('price_estimates.csv', 'a')\n",
    "        \n",
    "        #Pickup time is now, dropoff is trip duration after pickup\n",
    "        pickup_time = datetime.now()\n",
    "        dropoff_time = pickup_time + timedelta(minutes=row['duration'])\n",
    "\n",
    "        #Format start and end times for feature extraction\n",
    "        start = datetime(pickup_time.year, pickup_time.month, pickup_time.day)\n",
    "        start = '%4d-%02d-%02d' % (start.year, start.month, start.day)\n",
    "        end = datetime(pickup_time.year, pickup_time.month, pickup_time.day + 1)\n",
    "        end = '%4d-%02d-%02d' % (end.year, end.month, end.day)\n",
    "\n",
    "        start_date = datetime(pickup_time.year, pickup_time.month, pickup_time.day)\n",
    "        end_date = datetime(pickup_time.year, pickup_time.month, pickup_time.day)\n",
    "\n",
    "        weather_date_features = init_weather_features(start_date, end_date)\n",
    "\n",
    "        #Format pickup/dropoff time\n",
    "        pickup_time = '%4d-%02d-%02dT%02d:%02d:%f' % (pickup_time.year, pickup_time.month, pickup_time.day, pickup_time.hour, pickup_time.minute, pickup_time.second)\n",
    "        dropoff_time = '%4d-%02d-%02dT%02d:%02d:%f' % (dropoff_time.year, dropoff_time.month, dropoff_time.day, dropoff_time.hour, dropoff_time.minute, dropoff_time.second)\n",
    "        #print(pickup_time, dropoff_time)\n",
    "        curr_row = dict()\n",
    "        curr_row[\"tpep_dropoff_datetime\"] = str(dropoff_time)[:len(dropoff_time)-3] #strftime('%Y-%m-%dT%H:%M:%S.%f', dropoff_time)\n",
    "        curr_row[\"tpep_pickup_datetime\"] = str(pickup_time)[:len(pickup_time)-3] #strftime('%Y-%m-%dT%H:%M:%S.%f', pickup_time)\n",
    "\n",
    "        curr_row['distance'] = row['distance']\n",
    "        \n",
    "        #Convert to dataframe and get date  + weather features\n",
    "        curr_row = pd.DataFrame([curr_row])\n",
    "        curr_row = create_date_features(curr_row, start, end)\n",
    "        curr_row = create_weather_features(curr_row, weather_date_features)\n",
    "\n",
    "        #Write the synthesized row of features to csv file (append)\n",
    "        curr_row.to_csv(\"price_features.csv\", mode='a',header=False)\n",
    "        data_with_features.append(curr_row)\n",
    "\n",
    "        ######### GET UBER ESTIMATE ##############\n",
    "        start_coord = row['start_latlng'].split(',')\n",
    "        end_coord = row['end_latlng'].split(',')\n",
    "        #print(start_coord, end_coord, type(start_coord))\n",
    "        curr_uber_estimates = getPriceNow(float(start_coord[0]), float(start_coord[1]), float(end_coord[0]), float(end_coord[1]))\n",
    "        uberX_estimate = curr_uber_estimates[1]\n",
    "\n",
    "        high_estimate = uberX_estimate['high_estimate']\n",
    "        low_estimate = uberX_estimate['low_estimate']\n",
    "        avg_estimate = (high_estimate + low_estimate) / 2\n",
    "\n",
    "        all_estimates = (high_estimate, low_estimate, avg_estimate)\n",
    "        \n",
    "        uber_estimates.append(all_estimates)\n",
    "\n",
    "        print(\"uberX estimate: %s\" % (avg_estimate))\n",
    "        F.write(str(all_estimates) + \"\\n\")\n",
    "        \n",
    "        ####### COMPARE UBER ESTIMATE WITH MODEL ESTIMATE #########\n",
    "        F.close()\n",
    "        \n",
    "        #Sleep for sample_rate minutes\n",
    "        time.sleep(sample_rate * 60)\n",
    "        #time.sleep(1)\n",
    "    \n",
    "\n",
    "    \n",
    "    return (data_with_features, uber_estimates)"
   ]
  },
  {
   "cell_type": "code",
   "execution_count": null,
   "metadata": {},
   "outputs": [
    {
     "name": "stdout",
     "output_type": "stream",
     "text": [
      "uberX estimate: 10.5\n"
     ]
    }
   ],
   "source": [
    "#Generate estimates for our sampled_data\n",
    "features, estimates = generate_estimates(sample_data)"
   ]
  },
  {
   "cell_type": "markdown",
   "metadata": {},
   "source": [
    "Great! We now have our Uber estimates for each randomly selected trip (located in price_estimates.csv) as well as the generated features for each trip (price_features.csv). We can now parse both and input the features into our model to get price estimates. We will then compare the model pricing with Uber pricing."
   ]
  },
  {
   "cell_type": "code",
   "execution_count": 47,
   "metadata": {
    "collapsed": true
   },
   "outputs": [],
   "source": [
    "X_test = pd.read_csv('price_features.csv')\n",
    "del X_test['i']\n",
    "del X_test['tpep_dropoff_datetime']\n",
    "del X_test['tpep_pickup_datetime']\n",
    "model_results = clf.predict(X_test)"
   ]
  },
  {
   "cell_type": "code",
   "execution_count": 48,
   "metadata": {},
   "outputs": [
    {
     "data": {
      "text/plain": [
       "['min_estimate', ' max_estimate', ' avg_estimate']"
      ]
     },
     "execution_count": 48,
     "metadata": {},
     "output_type": "execute_result"
    }
   ],
   "source": [
    "uber_pricing_estimates = []\n",
    "with open('price_estimates.csv', 'r') as f:\n",
    "    r = csv.reader(f)\n",
    "    uber_pricing_estimates = list(r)\n",
    "\n",
    "uber_pricing_estimates.pop(0)"
   ]
  },
  {
   "cell_type": "code",
   "execution_count": 49,
   "metadata": {},
   "outputs": [
    {
     "name": "stdout",
     "output_type": "stream",
     "text": [
      "For trip 0, Model: 17.383021 Uber:  15.0\n",
      "For trip 1, Model: 19.705704 Uber:  20.5\n",
      "For trip 2, Model: 22.013139 Uber:  62.0\n",
      "For trip 3, Model: 11.886965 Uber:  13.0\n",
      "For trip 4, Model: 13.222841 Uber:  12.5\n",
      "For trip 5, Model: 12.499772 Uber:  9.5\n",
      "For trip 6, Model: 8.502926 Uber:  9.5\n",
      "For trip 7, Model: 15.662806 Uber:  17.0\n",
      "For trip 8, Model: 14.926886 Uber:  15.0\n",
      "For trip 9, Model: 27.800741 Uber:  54.0\n",
      "For trip 10, Model: 7.680865 Uber:  9.5\n",
      "For trip 11, Model: 8.050829 Uber:  9.5\n",
      "For trip 12, Model: 12.435391 Uber:  11.5\n",
      "For trip 13, Model: 7.639781 Uber:  9.5\n",
      "For trip 14, Model: 11.748040 Uber:  55.0\n",
      "For trip 15, Model: 6.424799 Uber:  12.0\n",
      "For trip 16, Model: 13.233054 Uber:  14.0\n",
      "For trip 17, Model: 12.642122 Uber:  10.5\n",
      "For trip 18, Model: 7.695773 Uber:  9.5\n",
      "For trip 19, Model: 7.695773 Uber:  9.5\n",
      "For trip 20, Model: 20.873591 Uber:  18.0\n",
      "For trip 21, Model: 17.542217 Uber:  16.0\n",
      "For trip 22, Model: 25.820370 Uber:  26.0\n",
      "For trip 23, Model: 6.711237 Uber:  9.5\n",
      "For trip 24, Model: 7.648408 Uber:  9.5\n",
      "For trip 25, Model: 16.988008 Uber:  11.0\n",
      "For trip 26, Model: 6.489530 Uber:  9.5\n",
      "For trip 27, Model: 8.411460 Uber:  9.5\n",
      "For trip 28, Model: 7.573537 Uber:  59.5\n",
      "For trip 29, Model: 10.093588 Uber:  10.5\n",
      "For trip 30, Model: 17.277176 Uber:  22.0\n",
      "For trip 31, Model: 7.689533 Uber:  10.5\n",
      "For trip 32, Model: 17.118953 Uber:  15.0\n",
      "For trip 33, Model: 17.100879 Uber:  15.0\n",
      "For trip 34, Model: 6.484104 Uber:  9.5\n",
      "For trip 35, Model: 28.672498 Uber:  39.5\n",
      "For trip 36, Model: 13.488671 Uber:  17.0\n",
      "For trip 37, Model: 7.646805 Uber:  9.5\n",
      "For trip 38, Model: 8.479419 Uber:  11.5\n",
      "For trip 39, Model: 16.972383 Uber:  18.0\n",
      "For trip 40, Model: 6.374700 Uber:  11.5\n",
      "For trip 41, Model: 13.556343 Uber:  11.5\n",
      "For trip 42, Model: 12.579228 Uber:  10.5\n",
      "For trip 43, Model: 13.501388 Uber:  11.5\n",
      "For trip 44, Model: 7.688485 Uber:  11.5\n",
      "For trip 45, Model: 12.447183 Uber:  9.5\n",
      "For trip 46, Model: 7.936821 Uber:  11.5\n",
      "For trip 47, Model: 6.439191 Uber:  9.5\n",
      "For trip 48, Model: 7.641159 Uber:  9.5\n",
      "For trip 49, Model: 17.465464 Uber:  20.5\n",
      "For trip 50, Model: 16.471871 Uber:  15.0\n",
      "For trip 51, Model: 7.598683 Uber:  12.0\n",
      "For trip 52, Model: 17.254065 Uber:  16.0\n",
      "For trip 53, Model: 7.682250 Uber:  9.5\n",
      "For trip 54, Model: 15.632232 Uber:  12.5\n",
      "For trip 55, Model: 8.008559 Uber:  9.5\n",
      "For trip 56, Model: 21.271581 Uber:  19.5\n",
      "For trip 57, Model: 7.673589 Uber:  9.5\n",
      "For trip 58, Model: 7.673589 Uber:  9.5\n",
      "For trip 59, Model: 17.549152 Uber:  12.0\n",
      "For trip 60, Model: 8.456809 Uber:  9.5\n",
      "For trip 61, Model: 7.686110 Uber:  9.5\n",
      "For trip 62, Model: 7.686110 Uber:  9.5\n",
      "For trip 63, Model: 12.340015 Uber:  10.5\n",
      "For trip 64, Model: 8.300866 Uber:  9.5\n",
      "For trip 65, Model: 29.892888 Uber:  64.0\n",
      "For trip 66, Model: 6.496957 Uber:  9.5\n",
      "For trip 67, Model: 21.309828 Uber:  26.0\n",
      "For trip 68, Model: 12.695188 Uber:  10.5\n",
      "For trip 69, Model: 15.327132 Uber:  13.0\n",
      "For trip 70, Model: 12.569484 Uber:  9.5\n",
      "For trip 71, Model: 22.429464 Uber:  32.5\n",
      "For trip 72, Model: 17.094063 Uber:  12.5\n",
      "For trip 73, Model: 10.312316 Uber:  10.5\n",
      "For trip 74, Model: 19.611517 Uber:  16.0\n",
      "For trip 75, Model: 12.742281 Uber:  11.5\n",
      "For trip 76, Model: 28.167644 Uber:  35.0\n",
      "For trip 77, Model: 11.872852 Uber:  12.5\n",
      "For trip 78, Model: 15.170809 Uber:  16.0\n",
      "For trip 79, Model: 7.665761 Uber:  14.0\n",
      "For trip 80, Model: 12.589656 Uber:  15.5\n",
      "For trip 81, Model: 21.019034 Uber:  35.0\n",
      "For trip 82, Model: 7.665761 Uber:  13.0\n",
      "For trip 83, Model: 12.589656 Uber:  19.5\n",
      "For trip 84, Model: 19.051803 Uber:  32.0\n",
      "For trip 85, Model: 19.051803 Uber:  30.5\n",
      "For trip 86, Model: 8.356210 Uber:  15.0\n",
      "For trip 87, Model: 7.675225 Uber:  16.0\n",
      "For trip 88, Model: 25.204143 Uber:  47.0\n",
      "For trip 89, Model: 20.903103 Uber:  37.0\n",
      "For trip 90, Model: 12.793919 Uber:  16.0\n",
      "For trip 91, Model: 22.739789 Uber:  38.5\n",
      "For trip 92, Model: 7.677596 Uber:  15.0\n",
      "For trip 93, Model: 12.131360 Uber:  15.0\n",
      "For trip 94, Model: 12.594642 Uber:  18.5\n",
      "For trip 95, Model: 15.518024 Uber:  27.5\n",
      "For trip 96, Model: 7.854481 Uber:  13.0\n",
      "For trip 97, Model: 7.668940 Uber:  15.0\n",
      "For trip 98, Model: 6.618212 Uber:  14.0\n",
      "For trip 99, Model: 7.663392 Uber:  15.0\n",
      "For trip 100, Model: 6.893468 Uber:  14.0\n",
      "For trip 101, Model: 8.287147 Uber:  15.0\n",
      "For trip 102, Model: 20.469183 Uber:  50.5\n",
      "For trip 103, Model: 7.677596 Uber:  16.0\n",
      "For trip 104, Model: 7.677596 Uber:  15.0\n",
      "For trip 105, Model: 7.677596 Uber:  15.0\n",
      "For trip 106, Model: 7.668940 Uber:  17.5\n",
      "For trip 107, Model: 7.668940 Uber:  19.5\n",
      "For trip 108, Model: 7.668940 Uber:  16.0\n",
      "For trip 109, Model: 17.304914 Uber:  24.0\n",
      "For trip 110, Model: 19.561673 Uber:  28.5\n"
     ]
    }
   ],
   "source": [
    "assert(len(model_results) == len(uber_pricing_estimates))\n",
    "\n",
    "for i in range(len(model_results)):\n",
    "    uber_hi, uber_lo, uber_avg = uber_pricing_estimates[i]\n",
    "    #Weird formatting stuff, ignore for now\n",
    "    uber_avg = uber_avg[:len(uber_avg)-1]\n",
    "    uber_hi = uber_hi[1:]\n",
    "\n",
    "    our_estimate = model_results[i]\n",
    "    \n",
    "    print(\"For trip %d, Model: %f Uber: %s\" % (i, np.exp(our_estimate) - 1, uber_avg))"
   ]
  },
  {
   "cell_type": "code",
   "execution_count": null,
   "metadata": {
    "collapsed": true
   },
   "outputs": [],
   "source": []
  }
 ],
 "metadata": {
  "kernelspec": {
   "display_name": "Python 3",
   "language": "python",
   "name": "python3"
  },
  "language_info": {
   "codemirror_mode": {
    "name": "ipython",
    "version": 3
   },
   "file_extension": ".py",
   "mimetype": "text/x-python",
   "name": "python",
   "nbconvert_exporter": "python",
   "pygments_lexer": "ipython3",
   "version": "3.6.3"
  }
 },
 "nbformat": 4,
 "nbformat_minor": 2
}
